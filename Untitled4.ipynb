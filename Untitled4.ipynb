{
  "nbformat": 4,
  "nbformat_minor": 0,
  "metadata": {
    "colab": {
      "provenance": [],
      "authorship_tag": "ABX9TyPuQ9LFs8DVy6rjGxnqDWhQ",
      "include_colab_link": true
    },
    "kernelspec": {
      "name": "python3",
      "display_name": "Python 3"
    },
    "language_info": {
      "name": "python"
    }
  },
  "cells": [
    {
      "cell_type": "markdown",
      "metadata": {
        "id": "view-in-github",
        "colab_type": "text"
      },
      "source": [
        "<a href=\"https://colab.research.google.com/github/sleetysleet/aiffel/blob/main/Untitled4.ipynb\" target=\"_parent\"><img src=\"https://colab.research.google.com/assets/colab-badge.svg\" alt=\"Open In Colab\"/></a>"
      ]
    },
    {
      "cell_type": "code",
      "execution_count": 1,
      "metadata": {
        "colab": {
          "base_uri": "https://localhost:8080/"
        },
        "id": "vrLdRHVzMCDK",
        "outputId": "814c1779-0b95-43f2-ce58-6c3d1092eebe"
      },
      "outputs": [
        {
          "output_type": "stream",
          "name": "stdout",
          "text": [
            "cp: cannot stat 'data/AirPassengers.csv': No such file or directory\n"
          ]
        }
      ],
      "source": [
        "# 먼저 데이터가 저장된 폴더를 연결합시다.\n",
        "!mkdir -p aiffel/time_series_basic\n",
        "!cp data/AirPassengers.csv aiffel/time_series_basic/"
      ]
    },
    {
      "cell_type": "code",
      "source": [
        "!pip install tsfresh"
      ],
      "metadata": {
        "colab": {
          "base_uri": "https://localhost:8080/"
        },
        "id": "qyktkYy-MCuu",
        "outputId": "5b3a48d2-ce2f-4894-81f2-d7055e912737"
      },
      "execution_count": 2,
      "outputs": [
        {
          "output_type": "stream",
          "name": "stdout",
          "text": [
            "Requirement already satisfied: tsfresh in /usr/local/lib/python3.11/dist-packages (0.21.0)\n",
            "Requirement already satisfied: requests>=2.9.1 in /usr/local/lib/python3.11/dist-packages (from tsfresh) (2.32.3)\n",
            "Requirement already satisfied: numpy>=1.15.1 in /usr/local/lib/python3.11/dist-packages (from tsfresh) (2.0.2)\n",
            "Requirement already satisfied: pandas>=0.25.0 in /usr/local/lib/python3.11/dist-packages (from tsfresh) (2.2.2)\n",
            "Requirement already satisfied: statsmodels>=0.13 in /usr/local/lib/python3.11/dist-packages (from tsfresh) (0.14.4)\n",
            "Requirement already satisfied: patsy>=0.4.1 in /usr/local/lib/python3.11/dist-packages (from tsfresh) (1.0.1)\n",
            "Requirement already satisfied: pywavelets in /usr/local/lib/python3.11/dist-packages (from tsfresh) (1.8.0)\n",
            "Requirement already satisfied: scikit-learn>=0.22.0 in /usr/local/lib/python3.11/dist-packages (from tsfresh) (1.6.1)\n",
            "Requirement already satisfied: tqdm>=4.10.0 in /usr/local/lib/python3.11/dist-packages (from tsfresh) (4.67.1)\n",
            "Requirement already satisfied: stumpy>=1.7.2 in /usr/local/lib/python3.11/dist-packages (from tsfresh) (1.13.0)\n",
            "Requirement already satisfied: cloudpickle in /usr/local/lib/python3.11/dist-packages (from tsfresh) (3.1.1)\n",
            "Requirement already satisfied: scipy>=1.14.0 in /usr/local/lib/python3.11/dist-packages (from tsfresh) (1.15.3)\n",
            "Requirement already satisfied: python-dateutil>=2.8.2 in /usr/local/lib/python3.11/dist-packages (from pandas>=0.25.0->tsfresh) (2.9.0.post0)\n",
            "Requirement already satisfied: pytz>=2020.1 in /usr/local/lib/python3.11/dist-packages (from pandas>=0.25.0->tsfresh) (2025.2)\n",
            "Requirement already satisfied: tzdata>=2022.7 in /usr/local/lib/python3.11/dist-packages (from pandas>=0.25.0->tsfresh) (2025.2)\n",
            "Requirement already satisfied: charset-normalizer<4,>=2 in /usr/local/lib/python3.11/dist-packages (from requests>=2.9.1->tsfresh) (3.4.2)\n",
            "Requirement already satisfied: idna<4,>=2.5 in /usr/local/lib/python3.11/dist-packages (from requests>=2.9.1->tsfresh) (3.10)\n",
            "Requirement already satisfied: urllib3<3,>=1.21.1 in /usr/local/lib/python3.11/dist-packages (from requests>=2.9.1->tsfresh) (2.4.0)\n",
            "Requirement already satisfied: certifi>=2017.4.17 in /usr/local/lib/python3.11/dist-packages (from requests>=2.9.1->tsfresh) (2025.4.26)\n",
            "Requirement already satisfied: joblib>=1.2.0 in /usr/local/lib/python3.11/dist-packages (from scikit-learn>=0.22.0->tsfresh) (1.5.0)\n",
            "Requirement already satisfied: threadpoolctl>=3.1.0 in /usr/local/lib/python3.11/dist-packages (from scikit-learn>=0.22.0->tsfresh) (3.6.0)\n",
            "Requirement already satisfied: packaging>=21.3 in /usr/local/lib/python3.11/dist-packages (from statsmodels>=0.13->tsfresh) (24.2)\n",
            "Requirement already satisfied: numba>=0.57.1 in /usr/local/lib/python3.11/dist-packages (from stumpy>=1.7.2->tsfresh) (0.60.0)\n",
            "Requirement already satisfied: llvmlite<0.44,>=0.43.0dev0 in /usr/local/lib/python3.11/dist-packages (from numba>=0.57.1->stumpy>=1.7.2->tsfresh) (0.43.0)\n",
            "Requirement already satisfied: six>=1.5 in /usr/local/lib/python3.11/dist-packages (from python-dateutil>=2.8.2->pandas>=0.25.0->tsfresh) (1.17.0)\n"
          ]
        }
      ]
    },
    {
      "cell_type": "code",
      "source": [
        "# 라이브러리 버전 충돌을 피하기 위해 런타임을 재시작합니다.\n",
        "import os\n",
        "os.kill(os.getpid(), 9)"
      ],
      "metadata": {
        "id": "B4hdvbkdMGJ0"
      },
      "execution_count": null,
      "outputs": []
    }
  ]
}