{
 "cells": [
  {
   "cell_type": "markdown",
   "id": "f6e64df4",
   "metadata": {
    "id": "f6e64df4"
   },
   "source": [
    "# 파이썬으로 데이터 둘러보기"
   ]
  },
  {
   "cell_type": "code",
   "execution_count": 1227,
   "id": "0feea7b5",
   "metadata": {
    "ExecuteTime": {
     "end_time": "2023-12-13T06:23:44.822981Z",
     "start_time": "2023-12-13T06:23:44.818117Z"
    },
    "executionInfo": {
     "elapsed": 26,
     "status": "ok",
     "timestamp": 1702351344719,
     "user": {
      "displayName": "방승욱",
      "userId": "03816609317595006072"
     },
     "user_tz": -540
    },
    "id": "0feea7b5"
   },
   "outputs": [],
   "source": [
    "import pandas as pd"
   ]
  },
  {
   "cell_type": "code",
   "execution_count": 1228,
   "id": "b15b6451",
   "metadata": {
    "ExecuteTime": {
     "end_time": "2023-12-13T06:23:44.843020Z",
     "start_time": "2023-12-13T06:23:44.826326Z"
    },
    "colab": {
     "base_uri": "https://localhost:8080/",
     "height": 333
    },
    "executionInfo": {
     "elapsed": 26,
     "status": "error",
     "timestamp": 1702351344720,
     "user": {
      "displayName": "방승욱",
      "userId": "03816609317595006072"
     },
     "user_tz": -540
    },
    "id": "b15b6451",
    "outputId": "68ba7913-81ac-40a2-92cc-2f103e3c0eef"
   },
   "outputs": [],
   "source": [
    "data = pd.read_csv('titanic.csv')"
   ]
  },
  {
   "cell_type": "code",
   "execution_count": 1229,
   "id": "9fbb5da8",
   "metadata": {
    "ExecuteTime": {
     "end_time": "2023-12-13T06:23:44.876001Z",
     "start_time": "2023-12-13T06:23:44.847482Z"
    },
    "executionInfo": {
     "elapsed": 24,
     "status": "aborted",
     "timestamp": 1702351344720,
     "user": {
      "displayName": "방승욱",
      "userId": "03816609317595006072"
     },
     "user_tz": -540
    },
    "id": "9fbb5da8",
    "scrolled": true
   },
   "outputs": [
    {
     "data": {
      "text/html": [
       "<div>\n",
       "<style scoped>\n",
       "    .dataframe tbody tr th:only-of-type {\n",
       "        vertical-align: middle;\n",
       "    }\n",
       "\n",
       "    .dataframe tbody tr th {\n",
       "        vertical-align: top;\n",
       "    }\n",
       "\n",
       "    .dataframe thead th {\n",
       "        text-align: right;\n",
       "    }\n",
       "</style>\n",
       "<table border=\"1\" class=\"dataframe\">\n",
       "  <thead>\n",
       "    <tr style=\"text-align: right;\">\n",
       "      <th></th>\n",
       "      <th>Pclass</th>\n",
       "      <th>Name</th>\n",
       "      <th>Gendr</th>\n",
       "      <th>Age</th>\n",
       "      <th>SibSp</th>\n",
       "      <th>Parch</th>\n",
       "      <th>Ticket</th>\n",
       "      <th>Embarked</th>\n",
       "      <th>Survived</th>\n",
       "      <th>ticket_date</th>\n",
       "    </tr>\n",
       "  </thead>\n",
       "  <tbody>\n",
       "    <tr>\n",
       "      <th>0</th>\n",
       "      <td>3</td>\n",
       "      <td>Braund, Mr. Owen Harris</td>\n",
       "      <td>male</td>\n",
       "      <td>22.0</td>\n",
       "      <td>1</td>\n",
       "      <td>0</td>\n",
       "      <td>A/5 21171</td>\n",
       "      <td>S</td>\n",
       "      <td>0</td>\n",
       "      <td>1912-01-12</td>\n",
       "    </tr>\n",
       "    <tr>\n",
       "      <th>1</th>\n",
       "      <td>1</td>\n",
       "      <td>Cumings, Mrs. John Bradley (Florence Briggs Th...</td>\n",
       "      <td>female</td>\n",
       "      <td>38.0</td>\n",
       "      <td>1</td>\n",
       "      <td>0</td>\n",
       "      <td>PC 17599</td>\n",
       "      <td>C</td>\n",
       "      <td>1</td>\n",
       "      <td>1912-03-29</td>\n",
       "    </tr>\n",
       "    <tr>\n",
       "      <th>2</th>\n",
       "      <td>3</td>\n",
       "      <td>Heikkinen, Miss. Laina</td>\n",
       "      <td>female</td>\n",
       "      <td>26.0</td>\n",
       "      <td>0</td>\n",
       "      <td>0</td>\n",
       "      <td>STON/O2. 3101282</td>\n",
       "      <td>S</td>\n",
       "      <td>1</td>\n",
       "      <td>1912-02-23</td>\n",
       "    </tr>\n",
       "    <tr>\n",
       "      <th>3</th>\n",
       "      <td>1</td>\n",
       "      <td>Futrelle, Mrs. Jacques Heath (Lily May Peel)</td>\n",
       "      <td>female</td>\n",
       "      <td>NaN</td>\n",
       "      <td>1</td>\n",
       "      <td>0</td>\n",
       "      <td>113803</td>\n",
       "      <td>S</td>\n",
       "      <td>1</td>\n",
       "      <td>1912-03-28</td>\n",
       "    </tr>\n",
       "    <tr>\n",
       "      <th>4</th>\n",
       "      <td>3</td>\n",
       "      <td>Allen, Mr. William Henry</td>\n",
       "      <td>male</td>\n",
       "      <td>35.0</td>\n",
       "      <td>0</td>\n",
       "      <td>0</td>\n",
       "      <td>373450</td>\n",
       "      <td>S</td>\n",
       "      <td>0</td>\n",
       "      <td>1912-04-03</td>\n",
       "    </tr>\n",
       "    <tr>\n",
       "      <th>...</th>\n",
       "      <td>...</td>\n",
       "      <td>...</td>\n",
       "      <td>...</td>\n",
       "      <td>...</td>\n",
       "      <td>...</td>\n",
       "      <td>...</td>\n",
       "      <td>...</td>\n",
       "      <td>...</td>\n",
       "      <td>...</td>\n",
       "      <td>...</td>\n",
       "    </tr>\n",
       "    <tr>\n",
       "      <th>880</th>\n",
       "      <td>2</td>\n",
       "      <td>Montvila, Rev. Juozas</td>\n",
       "      <td>male</td>\n",
       "      <td>27.0</td>\n",
       "      <td>0</td>\n",
       "      <td>0</td>\n",
       "      <td>211536</td>\n",
       "      <td>S</td>\n",
       "      <td>0</td>\n",
       "      <td>1912-01-29</td>\n",
       "    </tr>\n",
       "    <tr>\n",
       "      <th>881</th>\n",
       "      <td>1</td>\n",
       "      <td>Graham, Miss. Margaret Edith</td>\n",
       "      <td>female</td>\n",
       "      <td>19.0</td>\n",
       "      <td>0</td>\n",
       "      <td>0</td>\n",
       "      <td>112053</td>\n",
       "      <td>S</td>\n",
       "      <td>1</td>\n",
       "      <td>1912-03-30</td>\n",
       "    </tr>\n",
       "    <tr>\n",
       "      <th>882</th>\n",
       "      <td>3</td>\n",
       "      <td>Johnston, Miss. Catherine Helen \"Carrie\"</td>\n",
       "      <td>female</td>\n",
       "      <td>28.0</td>\n",
       "      <td>1</td>\n",
       "      <td>2</td>\n",
       "      <td>W./C. 6607</td>\n",
       "      <td>S</td>\n",
       "      <td>0</td>\n",
       "      <td>1912-04-07</td>\n",
       "    </tr>\n",
       "    <tr>\n",
       "      <th>883</th>\n",
       "      <td>1</td>\n",
       "      <td>Behr, Mr. Karl Howell</td>\n",
       "      <td>male</td>\n",
       "      <td>26.0</td>\n",
       "      <td>0</td>\n",
       "      <td>0</td>\n",
       "      <td>111369</td>\n",
       "      <td>C</td>\n",
       "      <td>1</td>\n",
       "      <td>1912-03-01</td>\n",
       "    </tr>\n",
       "    <tr>\n",
       "      <th>884</th>\n",
       "      <td>3</td>\n",
       "      <td>Dooley, Mr. Patrick</td>\n",
       "      <td>male</td>\n",
       "      <td>32.0</td>\n",
       "      <td>0</td>\n",
       "      <td>0</td>\n",
       "      <td>370376</td>\n",
       "      <td>Q</td>\n",
       "      <td>0</td>\n",
       "      <td>1912-03-05</td>\n",
       "    </tr>\n",
       "  </tbody>\n",
       "</table>\n",
       "<p>885 rows × 10 columns</p>\n",
       "</div>"
      ],
      "text/plain": [
       "     Pclass                                               Name   Gendr   Age  \\\n",
       "0         3                            Braund, Mr. Owen Harris    male  22.0   \n",
       "1         1  Cumings, Mrs. John Bradley (Florence Briggs Th...  female  38.0   \n",
       "2         3                             Heikkinen, Miss. Laina  female  26.0   \n",
       "3         1       Futrelle, Mrs. Jacques Heath (Lily May Peel)  female   NaN   \n",
       "4         3                           Allen, Mr. William Henry    male  35.0   \n",
       "..      ...                                                ...     ...   ...   \n",
       "880       2                              Montvila, Rev. Juozas    male  27.0   \n",
       "881       1                       Graham, Miss. Margaret Edith  female  19.0   \n",
       "882       3           Johnston, Miss. Catherine Helen \"Carrie\"  female  28.0   \n",
       "883       1                              Behr, Mr. Karl Howell    male  26.0   \n",
       "884       3                                Dooley, Mr. Patrick    male  32.0   \n",
       "\n",
       "     SibSp  Parch            Ticket Embarked  Survived ticket_date  \n",
       "0        1      0         A/5 21171        S         0  1912-01-12  \n",
       "1        1      0          PC 17599        C         1  1912-03-29  \n",
       "2        0      0  STON/O2. 3101282        S         1  1912-02-23  \n",
       "3        1      0            113803        S         1  1912-03-28  \n",
       "4        0      0            373450        S         0  1912-04-03  \n",
       "..     ...    ...               ...      ...       ...         ...  \n",
       "880      0      0            211536        S         0  1912-01-29  \n",
       "881      0      0            112053        S         1  1912-03-30  \n",
       "882      1      2        W./C. 6607        S         0  1912-04-07  \n",
       "883      0      0            111369        C         1  1912-03-01  \n",
       "884      0      0            370376        Q         0  1912-03-05  \n",
       "\n",
       "[885 rows x 10 columns]"
      ]
     },
     "execution_count": 1229,
     "metadata": {},
     "output_type": "execute_result"
    }
   ],
   "source": [
    "data"
   ]
  },
  {
   "cell_type": "code",
   "execution_count": 1230,
   "id": "4ebffbdd",
   "metadata": {
    "ExecuteTime": {
     "end_time": "2023-12-13T06:23:44.895977Z",
     "start_time": "2023-12-13T06:23:44.879304Z"
    },
    "executionInfo": {
     "elapsed": 24,
     "status": "aborted",
     "timestamp": 1702351344720,
     "user": {
      "displayName": "방승욱",
      "userId": "03816609317595006072"
     },
     "user_tz": -540
    },
    "id": "4ebffbdd"
   },
   "outputs": [
    {
     "data": {
      "text/html": [
       "<div>\n",
       "<style scoped>\n",
       "    .dataframe tbody tr th:only-of-type {\n",
       "        vertical-align: middle;\n",
       "    }\n",
       "\n",
       "    .dataframe tbody tr th {\n",
       "        vertical-align: top;\n",
       "    }\n",
       "\n",
       "    .dataframe thead th {\n",
       "        text-align: right;\n",
       "    }\n",
       "</style>\n",
       "<table border=\"1\" class=\"dataframe\">\n",
       "  <thead>\n",
       "    <tr style=\"text-align: right;\">\n",
       "      <th></th>\n",
       "      <th>Pclass</th>\n",
       "      <th>Name</th>\n",
       "      <th>Gendr</th>\n",
       "      <th>Age</th>\n",
       "      <th>SibSp</th>\n",
       "      <th>Parch</th>\n",
       "      <th>Ticket</th>\n",
       "      <th>Embarked</th>\n",
       "      <th>Survived</th>\n",
       "      <th>ticket_date</th>\n",
       "    </tr>\n",
       "  </thead>\n",
       "  <tbody>\n",
       "    <tr>\n",
       "      <th>0</th>\n",
       "      <td>3</td>\n",
       "      <td>Braund, Mr. Owen Harris</td>\n",
       "      <td>male</td>\n",
       "      <td>22.0</td>\n",
       "      <td>1</td>\n",
       "      <td>0</td>\n",
       "      <td>A/5 21171</td>\n",
       "      <td>S</td>\n",
       "      <td>0</td>\n",
       "      <td>1912-01-12</td>\n",
       "    </tr>\n",
       "    <tr>\n",
       "      <th>1</th>\n",
       "      <td>1</td>\n",
       "      <td>Cumings, Mrs. John Bradley (Florence Briggs Th...</td>\n",
       "      <td>female</td>\n",
       "      <td>38.0</td>\n",
       "      <td>1</td>\n",
       "      <td>0</td>\n",
       "      <td>PC 17599</td>\n",
       "      <td>C</td>\n",
       "      <td>1</td>\n",
       "      <td>1912-03-29</td>\n",
       "    </tr>\n",
       "    <tr>\n",
       "      <th>2</th>\n",
       "      <td>3</td>\n",
       "      <td>Heikkinen, Miss. Laina</td>\n",
       "      <td>female</td>\n",
       "      <td>26.0</td>\n",
       "      <td>0</td>\n",
       "      <td>0</td>\n",
       "      <td>STON/O2. 3101282</td>\n",
       "      <td>S</td>\n",
       "      <td>1</td>\n",
       "      <td>1912-02-23</td>\n",
       "    </tr>\n",
       "    <tr>\n",
       "      <th>3</th>\n",
       "      <td>1</td>\n",
       "      <td>Futrelle, Mrs. Jacques Heath (Lily May Peel)</td>\n",
       "      <td>female</td>\n",
       "      <td>NaN</td>\n",
       "      <td>1</td>\n",
       "      <td>0</td>\n",
       "      <td>113803</td>\n",
       "      <td>S</td>\n",
       "      <td>1</td>\n",
       "      <td>1912-03-28</td>\n",
       "    </tr>\n",
       "    <tr>\n",
       "      <th>4</th>\n",
       "      <td>3</td>\n",
       "      <td>Allen, Mr. William Henry</td>\n",
       "      <td>male</td>\n",
       "      <td>35.0</td>\n",
       "      <td>0</td>\n",
       "      <td>0</td>\n",
       "      <td>373450</td>\n",
       "      <td>S</td>\n",
       "      <td>0</td>\n",
       "      <td>1912-04-03</td>\n",
       "    </tr>\n",
       "  </tbody>\n",
       "</table>\n",
       "</div>"
      ],
      "text/plain": [
       "   Pclass                                               Name   Gendr   Age  \\\n",
       "0       3                            Braund, Mr. Owen Harris    male  22.0   \n",
       "1       1  Cumings, Mrs. John Bradley (Florence Briggs Th...  female  38.0   \n",
       "2       3                             Heikkinen, Miss. Laina  female  26.0   \n",
       "3       1       Futrelle, Mrs. Jacques Heath (Lily May Peel)  female   NaN   \n",
       "4       3                           Allen, Mr. William Henry    male  35.0   \n",
       "\n",
       "   SibSp  Parch            Ticket Embarked  Survived ticket_date  \n",
       "0      1      0         A/5 21171        S         0  1912-01-12  \n",
       "1      1      0          PC 17599        C         1  1912-03-29  \n",
       "2      0      0  STON/O2. 3101282        S         1  1912-02-23  \n",
       "3      1      0            113803        S         1  1912-03-28  \n",
       "4      0      0            373450        S         0  1912-04-03  "
      ]
     },
     "execution_count": 1230,
     "metadata": {},
     "output_type": "execute_result"
    }
   ],
   "source": [
    "data.head()"
   ]
  },
  {
   "cell_type": "code",
   "execution_count": 1231,
   "id": "d8c87706",
   "metadata": {
    "ExecuteTime": {
     "end_time": "2023-12-13T06:23:44.919037Z",
     "start_time": "2023-12-13T06:23:44.898973Z"
    },
    "executionInfo": {
     "elapsed": 24,
     "status": "aborted",
     "timestamp": 1702351344720,
     "user": {
      "displayName": "방승욱",
      "userId": "03816609317595006072"
     },
     "user_tz": -540
    },
    "id": "d8c87706"
   },
   "outputs": [
    {
     "data": {
      "text/html": [
       "<div>\n",
       "<style scoped>\n",
       "    .dataframe tbody tr th:only-of-type {\n",
       "        vertical-align: middle;\n",
       "    }\n",
       "\n",
       "    .dataframe tbody tr th {\n",
       "        vertical-align: top;\n",
       "    }\n",
       "\n",
       "    .dataframe thead th {\n",
       "        text-align: right;\n",
       "    }\n",
       "</style>\n",
       "<table border=\"1\" class=\"dataframe\">\n",
       "  <thead>\n",
       "    <tr style=\"text-align: right;\">\n",
       "      <th></th>\n",
       "      <th>Pclass</th>\n",
       "      <th>Name</th>\n",
       "      <th>Gendr</th>\n",
       "      <th>Age</th>\n",
       "      <th>SibSp</th>\n",
       "      <th>Parch</th>\n",
       "      <th>Ticket</th>\n",
       "      <th>Embarked</th>\n",
       "      <th>Survived</th>\n",
       "      <th>ticket_date</th>\n",
       "    </tr>\n",
       "  </thead>\n",
       "  <tbody>\n",
       "    <tr>\n",
       "      <th>0</th>\n",
       "      <td>3</td>\n",
       "      <td>Braund, Mr. Owen Harris</td>\n",
       "      <td>male</td>\n",
       "      <td>22.0</td>\n",
       "      <td>1</td>\n",
       "      <td>0</td>\n",
       "      <td>A/5 21171</td>\n",
       "      <td>S</td>\n",
       "      <td>0</td>\n",
       "      <td>1912-01-12</td>\n",
       "    </tr>\n",
       "    <tr>\n",
       "      <th>1</th>\n",
       "      <td>1</td>\n",
       "      <td>Cumings, Mrs. John Bradley (Florence Briggs Th...</td>\n",
       "      <td>female</td>\n",
       "      <td>38.0</td>\n",
       "      <td>1</td>\n",
       "      <td>0</td>\n",
       "      <td>PC 17599</td>\n",
       "      <td>C</td>\n",
       "      <td>1</td>\n",
       "      <td>1912-03-29</td>\n",
       "    </tr>\n",
       "    <tr>\n",
       "      <th>2</th>\n",
       "      <td>3</td>\n",
       "      <td>Heikkinen, Miss. Laina</td>\n",
       "      <td>female</td>\n",
       "      <td>26.0</td>\n",
       "      <td>0</td>\n",
       "      <td>0</td>\n",
       "      <td>STON/O2. 3101282</td>\n",
       "      <td>S</td>\n",
       "      <td>1</td>\n",
       "      <td>1912-02-23</td>\n",
       "    </tr>\n",
       "    <tr>\n",
       "      <th>3</th>\n",
       "      <td>1</td>\n",
       "      <td>Futrelle, Mrs. Jacques Heath (Lily May Peel)</td>\n",
       "      <td>female</td>\n",
       "      <td>NaN</td>\n",
       "      <td>1</td>\n",
       "      <td>0</td>\n",
       "      <td>113803</td>\n",
       "      <td>S</td>\n",
       "      <td>1</td>\n",
       "      <td>1912-03-28</td>\n",
       "    </tr>\n",
       "    <tr>\n",
       "      <th>4</th>\n",
       "      <td>3</td>\n",
       "      <td>Allen, Mr. William Henry</td>\n",
       "      <td>male</td>\n",
       "      <td>35.0</td>\n",
       "      <td>0</td>\n",
       "      <td>0</td>\n",
       "      <td>373450</td>\n",
       "      <td>S</td>\n",
       "      <td>0</td>\n",
       "      <td>1912-04-03</td>\n",
       "    </tr>\n",
       "    <tr>\n",
       "      <th>5</th>\n",
       "      <td>3</td>\n",
       "      <td>Moran, Mr. James</td>\n",
       "      <td>male</td>\n",
       "      <td>28.0</td>\n",
       "      <td>0</td>\n",
       "      <td>0</td>\n",
       "      <td>330877</td>\n",
       "      <td>Q</td>\n",
       "      <td>0</td>\n",
       "      <td>1912-03-30</td>\n",
       "    </tr>\n",
       "    <tr>\n",
       "      <th>6</th>\n",
       "      <td>1</td>\n",
       "      <td>McCarthy, Mr. Timothy J</td>\n",
       "      <td>male</td>\n",
       "      <td>54.0</td>\n",
       "      <td>0</td>\n",
       "      <td>0</td>\n",
       "      <td>17463</td>\n",
       "      <td>S</td>\n",
       "      <td>0</td>\n",
       "      <td>1912-03-14</td>\n",
       "    </tr>\n",
       "    <tr>\n",
       "      <th>7</th>\n",
       "      <td>3</td>\n",
       "      <td>Palsson, Master. Gosta Leonard</td>\n",
       "      <td>male</td>\n",
       "      <td>2.0</td>\n",
       "      <td>3</td>\n",
       "      <td>1</td>\n",
       "      <td>349909</td>\n",
       "      <td>S</td>\n",
       "      <td>0</td>\n",
       "      <td>1912-03-14</td>\n",
       "    </tr>\n",
       "    <tr>\n",
       "      <th>8</th>\n",
       "      <td>3</td>\n",
       "      <td>Johnson, Mrs. Oscar W (Elisabeth Vilhelmina Berg)</td>\n",
       "      <td>female</td>\n",
       "      <td>27.0</td>\n",
       "      <td>0</td>\n",
       "      <td>2</td>\n",
       "      <td>347742</td>\n",
       "      <td>S</td>\n",
       "      <td>1</td>\n",
       "      <td>1912-01-30</td>\n",
       "    </tr>\n",
       "    <tr>\n",
       "      <th>9</th>\n",
       "      <td>2</td>\n",
       "      <td>Nasser, Mrs. Nicholas (Adele Achem)</td>\n",
       "      <td>female</td>\n",
       "      <td>14.0</td>\n",
       "      <td>1</td>\n",
       "      <td>0</td>\n",
       "      <td>237736</td>\n",
       "      <td>C</td>\n",
       "      <td>1</td>\n",
       "      <td>1912-03-04</td>\n",
       "    </tr>\n",
       "  </tbody>\n",
       "</table>\n",
       "</div>"
      ],
      "text/plain": [
       "   Pclass                                               Name   Gendr   Age  \\\n",
       "0       3                            Braund, Mr. Owen Harris    male  22.0   \n",
       "1       1  Cumings, Mrs. John Bradley (Florence Briggs Th...  female  38.0   \n",
       "2       3                             Heikkinen, Miss. Laina  female  26.0   \n",
       "3       1       Futrelle, Mrs. Jacques Heath (Lily May Peel)  female   NaN   \n",
       "4       3                           Allen, Mr. William Henry    male  35.0   \n",
       "5       3                                   Moran, Mr. James    male  28.0   \n",
       "6       1                            McCarthy, Mr. Timothy J    male  54.0   \n",
       "7       3                     Palsson, Master. Gosta Leonard    male   2.0   \n",
       "8       3  Johnson, Mrs. Oscar W (Elisabeth Vilhelmina Berg)  female  27.0   \n",
       "9       2                Nasser, Mrs. Nicholas (Adele Achem)  female  14.0   \n",
       "\n",
       "   SibSp  Parch            Ticket Embarked  Survived ticket_date  \n",
       "0      1      0         A/5 21171        S         0  1912-01-12  \n",
       "1      1      0          PC 17599        C         1  1912-03-29  \n",
       "2      0      0  STON/O2. 3101282        S         1  1912-02-23  \n",
       "3      1      0            113803        S         1  1912-03-28  \n",
       "4      0      0            373450        S         0  1912-04-03  \n",
       "5      0      0            330877        Q         0  1912-03-30  \n",
       "6      0      0             17463        S         0  1912-03-14  \n",
       "7      3      1            349909        S         0  1912-03-14  \n",
       "8      0      2            347742        S         1  1912-01-30  \n",
       "9      1      0            237736        C         1  1912-03-04  "
      ]
     },
     "execution_count": 1231,
     "metadata": {},
     "output_type": "execute_result"
    }
   ],
   "source": [
    "data.head(10)"
   ]
  },
  {
   "cell_type": "code",
   "execution_count": 1232,
   "id": "98cf881f",
   "metadata": {
    "ExecuteTime": {
     "end_time": "2023-12-13T06:23:44.938984Z",
     "start_time": "2023-12-13T06:23:44.922279Z"
    },
    "executionInfo": {
     "elapsed": 23,
     "status": "aborted",
     "timestamp": 1702351344720,
     "user": {
      "displayName": "방승욱",
      "userId": "03816609317595006072"
     },
     "user_tz": -540
    },
    "id": "98cf881f"
   },
   "outputs": [
    {
     "data": {
      "text/html": [
       "<div>\n",
       "<style scoped>\n",
       "    .dataframe tbody tr th:only-of-type {\n",
       "        vertical-align: middle;\n",
       "    }\n",
       "\n",
       "    .dataframe tbody tr th {\n",
       "        vertical-align: top;\n",
       "    }\n",
       "\n",
       "    .dataframe thead th {\n",
       "        text-align: right;\n",
       "    }\n",
       "</style>\n",
       "<table border=\"1\" class=\"dataframe\">\n",
       "  <thead>\n",
       "    <tr style=\"text-align: right;\">\n",
       "      <th></th>\n",
       "      <th>Pclass</th>\n",
       "      <th>Name</th>\n",
       "      <th>Gendr</th>\n",
       "      <th>Age</th>\n",
       "      <th>SibSp</th>\n",
       "      <th>Parch</th>\n",
       "      <th>Ticket</th>\n",
       "      <th>Embarked</th>\n",
       "      <th>Survived</th>\n",
       "      <th>ticket_date</th>\n",
       "    </tr>\n",
       "  </thead>\n",
       "  <tbody>\n",
       "    <tr>\n",
       "      <th>0</th>\n",
       "      <td>3</td>\n",
       "      <td>Braund, Mr. Owen Harris</td>\n",
       "      <td>male</td>\n",
       "      <td>22.0</td>\n",
       "      <td>1</td>\n",
       "      <td>0</td>\n",
       "      <td>A/5 21171</td>\n",
       "      <td>S</td>\n",
       "      <td>0</td>\n",
       "      <td>1912-01-12</td>\n",
       "    </tr>\n",
       "    <tr>\n",
       "      <th>1</th>\n",
       "      <td>1</td>\n",
       "      <td>Cumings, Mrs. John Bradley (Florence Briggs Th...</td>\n",
       "      <td>female</td>\n",
       "      <td>38.0</td>\n",
       "      <td>1</td>\n",
       "      <td>0</td>\n",
       "      <td>PC 17599</td>\n",
       "      <td>C</td>\n",
       "      <td>1</td>\n",
       "      <td>1912-03-29</td>\n",
       "    </tr>\n",
       "    <tr>\n",
       "      <th>2</th>\n",
       "      <td>3</td>\n",
       "      <td>Heikkinen, Miss. Laina</td>\n",
       "      <td>female</td>\n",
       "      <td>26.0</td>\n",
       "      <td>0</td>\n",
       "      <td>0</td>\n",
       "      <td>STON/O2. 3101282</td>\n",
       "      <td>S</td>\n",
       "      <td>1</td>\n",
       "      <td>1912-02-23</td>\n",
       "    </tr>\n",
       "  </tbody>\n",
       "</table>\n",
       "</div>"
      ],
      "text/plain": [
       "   Pclass                                               Name   Gendr   Age  \\\n",
       "0       3                            Braund, Mr. Owen Harris    male  22.0   \n",
       "1       1  Cumings, Mrs. John Bradley (Florence Briggs Th...  female  38.0   \n",
       "2       3                             Heikkinen, Miss. Laina  female  26.0   \n",
       "\n",
       "   SibSp  Parch            Ticket Embarked  Survived ticket_date  \n",
       "0      1      0         A/5 21171        S         0  1912-01-12  \n",
       "1      1      0          PC 17599        C         1  1912-03-29  \n",
       "2      0      0  STON/O2. 3101282        S         1  1912-02-23  "
      ]
     },
     "execution_count": 1232,
     "metadata": {},
     "output_type": "execute_result"
    }
   ],
   "source": [
    "data.head(3)"
   ]
  },
  {
   "cell_type": "code",
   "execution_count": 1233,
   "id": "9b24dddd",
   "metadata": {
    "ExecuteTime": {
     "end_time": "2023-12-13T06:23:44.964975Z",
     "start_time": "2023-12-13T06:23:44.946044Z"
    },
    "executionInfo": {
     "elapsed": 23,
     "status": "aborted",
     "timestamp": 1702351344720,
     "user": {
      "displayName": "방승욱",
      "userId": "03816609317595006072"
     },
     "user_tz": -540
    },
    "id": "9b24dddd"
   },
   "outputs": [
    {
     "data": {
      "text/html": [
       "<div>\n",
       "<style scoped>\n",
       "    .dataframe tbody tr th:only-of-type {\n",
       "        vertical-align: middle;\n",
       "    }\n",
       "\n",
       "    .dataframe tbody tr th {\n",
       "        vertical-align: top;\n",
       "    }\n",
       "\n",
       "    .dataframe thead th {\n",
       "        text-align: right;\n",
       "    }\n",
       "</style>\n",
       "<table border=\"1\" class=\"dataframe\">\n",
       "  <thead>\n",
       "    <tr style=\"text-align: right;\">\n",
       "      <th></th>\n",
       "      <th>Pclass</th>\n",
       "      <th>Name</th>\n",
       "      <th>Gendr</th>\n",
       "      <th>Age</th>\n",
       "      <th>SibSp</th>\n",
       "      <th>Parch</th>\n",
       "      <th>Ticket</th>\n",
       "      <th>Embarked</th>\n",
       "      <th>Survived</th>\n",
       "      <th>ticket_date</th>\n",
       "    </tr>\n",
       "  </thead>\n",
       "  <tbody>\n",
       "    <tr>\n",
       "      <th>880</th>\n",
       "      <td>2</td>\n",
       "      <td>Montvila, Rev. Juozas</td>\n",
       "      <td>male</td>\n",
       "      <td>27.0</td>\n",
       "      <td>0</td>\n",
       "      <td>0</td>\n",
       "      <td>211536</td>\n",
       "      <td>S</td>\n",
       "      <td>0</td>\n",
       "      <td>1912-01-29</td>\n",
       "    </tr>\n",
       "    <tr>\n",
       "      <th>881</th>\n",
       "      <td>1</td>\n",
       "      <td>Graham, Miss. Margaret Edith</td>\n",
       "      <td>female</td>\n",
       "      <td>19.0</td>\n",
       "      <td>0</td>\n",
       "      <td>0</td>\n",
       "      <td>112053</td>\n",
       "      <td>S</td>\n",
       "      <td>1</td>\n",
       "      <td>1912-03-30</td>\n",
       "    </tr>\n",
       "    <tr>\n",
       "      <th>882</th>\n",
       "      <td>3</td>\n",
       "      <td>Johnston, Miss. Catherine Helen \"Carrie\"</td>\n",
       "      <td>female</td>\n",
       "      <td>28.0</td>\n",
       "      <td>1</td>\n",
       "      <td>2</td>\n",
       "      <td>W./C. 6607</td>\n",
       "      <td>S</td>\n",
       "      <td>0</td>\n",
       "      <td>1912-04-07</td>\n",
       "    </tr>\n",
       "    <tr>\n",
       "      <th>883</th>\n",
       "      <td>1</td>\n",
       "      <td>Behr, Mr. Karl Howell</td>\n",
       "      <td>male</td>\n",
       "      <td>26.0</td>\n",
       "      <td>0</td>\n",
       "      <td>0</td>\n",
       "      <td>111369</td>\n",
       "      <td>C</td>\n",
       "      <td>1</td>\n",
       "      <td>1912-03-01</td>\n",
       "    </tr>\n",
       "    <tr>\n",
       "      <th>884</th>\n",
       "      <td>3</td>\n",
       "      <td>Dooley, Mr. Patrick</td>\n",
       "      <td>male</td>\n",
       "      <td>32.0</td>\n",
       "      <td>0</td>\n",
       "      <td>0</td>\n",
       "      <td>370376</td>\n",
       "      <td>Q</td>\n",
       "      <td>0</td>\n",
       "      <td>1912-03-05</td>\n",
       "    </tr>\n",
       "  </tbody>\n",
       "</table>\n",
       "</div>"
      ],
      "text/plain": [
       "     Pclass                                      Name   Gendr   Age  SibSp  \\\n",
       "880       2                     Montvila, Rev. Juozas    male  27.0      0   \n",
       "881       1              Graham, Miss. Margaret Edith  female  19.0      0   \n",
       "882       3  Johnston, Miss. Catherine Helen \"Carrie\"  female  28.0      1   \n",
       "883       1                     Behr, Mr. Karl Howell    male  26.0      0   \n",
       "884       3                       Dooley, Mr. Patrick    male  32.0      0   \n",
       "\n",
       "     Parch      Ticket Embarked  Survived ticket_date  \n",
       "880      0      211536        S         0  1912-01-29  \n",
       "881      0      112053        S         1  1912-03-30  \n",
       "882      2  W./C. 6607        S         0  1912-04-07  \n",
       "883      0      111369        C         1  1912-03-01  \n",
       "884      0      370376        Q         0  1912-03-05  "
      ]
     },
     "execution_count": 1233,
     "metadata": {},
     "output_type": "execute_result"
    }
   ],
   "source": [
    "#DataFrame 또는 Series 객체의 끝에서부터 지정된 수의 행을 반환합니다.\n",
    "data.tail()"
   ]
  },
  {
   "cell_type": "code",
   "execution_count": 1234,
   "id": "476772db",
   "metadata": {
    "ExecuteTime": {
     "end_time": "2023-12-13T06:23:44.992073Z",
     "start_time": "2023-12-13T06:23:44.970018Z"
    },
    "executionInfo": {
     "elapsed": 23,
     "status": "aborted",
     "timestamp": 1702351344720,
     "user": {
      "displayName": "방승욱",
      "userId": "03816609317595006072"
     },
     "user_tz": -540
    },
    "id": "476772db"
   },
   "outputs": [
    {
     "data": {
      "text/html": [
       "<div>\n",
       "<style scoped>\n",
       "    .dataframe tbody tr th:only-of-type {\n",
       "        vertical-align: middle;\n",
       "    }\n",
       "\n",
       "    .dataframe tbody tr th {\n",
       "        vertical-align: top;\n",
       "    }\n",
       "\n",
       "    .dataframe thead th {\n",
       "        text-align: right;\n",
       "    }\n",
       "</style>\n",
       "<table border=\"1\" class=\"dataframe\">\n",
       "  <thead>\n",
       "    <tr style=\"text-align: right;\">\n",
       "      <th></th>\n",
       "      <th>Pclass</th>\n",
       "      <th>Name</th>\n",
       "      <th>Gendr</th>\n",
       "      <th>Age</th>\n",
       "      <th>SibSp</th>\n",
       "      <th>Parch</th>\n",
       "      <th>Ticket</th>\n",
       "      <th>Embarked</th>\n",
       "      <th>Survived</th>\n",
       "      <th>ticket_date</th>\n",
       "    </tr>\n",
       "  </thead>\n",
       "  <tbody>\n",
       "    <tr>\n",
       "      <th>875</th>\n",
       "      <td>3</td>\n",
       "      <td>Markun, Mr. Johann</td>\n",
       "      <td>male</td>\n",
       "      <td>33.0</td>\n",
       "      <td>0</td>\n",
       "      <td>0</td>\n",
       "      <td>349257</td>\n",
       "      <td>S</td>\n",
       "      <td>0</td>\n",
       "      <td>1912-03-25</td>\n",
       "    </tr>\n",
       "    <tr>\n",
       "      <th>876</th>\n",
       "      <td>3</td>\n",
       "      <td>Dahlberg, Miss. Gerda Ulrika</td>\n",
       "      <td>female</td>\n",
       "      <td>22.0</td>\n",
       "      <td>0</td>\n",
       "      <td>0</td>\n",
       "      <td>7552</td>\n",
       "      <td>S</td>\n",
       "      <td>0</td>\n",
       "      <td>1912-02-16</td>\n",
       "    </tr>\n",
       "    <tr>\n",
       "      <th>877</th>\n",
       "      <td>2</td>\n",
       "      <td>Banfield, Mr. Frederick James</td>\n",
       "      <td>male</td>\n",
       "      <td>28.0</td>\n",
       "      <td>0</td>\n",
       "      <td>0</td>\n",
       "      <td>C.A./SOTON 34068</td>\n",
       "      <td>S</td>\n",
       "      <td>0</td>\n",
       "      <td>1912-03-23</td>\n",
       "    </tr>\n",
       "    <tr>\n",
       "      <th>878</th>\n",
       "      <td>3</td>\n",
       "      <td>Sutehall, Mr. Henry Jr</td>\n",
       "      <td>male</td>\n",
       "      <td>25.0</td>\n",
       "      <td>0</td>\n",
       "      <td>0</td>\n",
       "      <td>SOTON/OQ 392076</td>\n",
       "      <td>S</td>\n",
       "      <td>0</td>\n",
       "      <td>1912-01-21</td>\n",
       "    </tr>\n",
       "    <tr>\n",
       "      <th>879</th>\n",
       "      <td>3</td>\n",
       "      <td>Rice, Mrs. William (Margaret Norton)</td>\n",
       "      <td>female</td>\n",
       "      <td>39.0</td>\n",
       "      <td>0</td>\n",
       "      <td>5</td>\n",
       "      <td>382652</td>\n",
       "      <td>Q</td>\n",
       "      <td>0</td>\n",
       "      <td>1912-03-28</td>\n",
       "    </tr>\n",
       "    <tr>\n",
       "      <th>880</th>\n",
       "      <td>2</td>\n",
       "      <td>Montvila, Rev. Juozas</td>\n",
       "      <td>male</td>\n",
       "      <td>27.0</td>\n",
       "      <td>0</td>\n",
       "      <td>0</td>\n",
       "      <td>211536</td>\n",
       "      <td>S</td>\n",
       "      <td>0</td>\n",
       "      <td>1912-01-29</td>\n",
       "    </tr>\n",
       "    <tr>\n",
       "      <th>881</th>\n",
       "      <td>1</td>\n",
       "      <td>Graham, Miss. Margaret Edith</td>\n",
       "      <td>female</td>\n",
       "      <td>19.0</td>\n",
       "      <td>0</td>\n",
       "      <td>0</td>\n",
       "      <td>112053</td>\n",
       "      <td>S</td>\n",
       "      <td>1</td>\n",
       "      <td>1912-03-30</td>\n",
       "    </tr>\n",
       "    <tr>\n",
       "      <th>882</th>\n",
       "      <td>3</td>\n",
       "      <td>Johnston, Miss. Catherine Helen \"Carrie\"</td>\n",
       "      <td>female</td>\n",
       "      <td>28.0</td>\n",
       "      <td>1</td>\n",
       "      <td>2</td>\n",
       "      <td>W./C. 6607</td>\n",
       "      <td>S</td>\n",
       "      <td>0</td>\n",
       "      <td>1912-04-07</td>\n",
       "    </tr>\n",
       "    <tr>\n",
       "      <th>883</th>\n",
       "      <td>1</td>\n",
       "      <td>Behr, Mr. Karl Howell</td>\n",
       "      <td>male</td>\n",
       "      <td>26.0</td>\n",
       "      <td>0</td>\n",
       "      <td>0</td>\n",
       "      <td>111369</td>\n",
       "      <td>C</td>\n",
       "      <td>1</td>\n",
       "      <td>1912-03-01</td>\n",
       "    </tr>\n",
       "    <tr>\n",
       "      <th>884</th>\n",
       "      <td>3</td>\n",
       "      <td>Dooley, Mr. Patrick</td>\n",
       "      <td>male</td>\n",
       "      <td>32.0</td>\n",
       "      <td>0</td>\n",
       "      <td>0</td>\n",
       "      <td>370376</td>\n",
       "      <td>Q</td>\n",
       "      <td>0</td>\n",
       "      <td>1912-03-05</td>\n",
       "    </tr>\n",
       "  </tbody>\n",
       "</table>\n",
       "</div>"
      ],
      "text/plain": [
       "     Pclass                                      Name   Gendr   Age  SibSp  \\\n",
       "875       3                        Markun, Mr. Johann    male  33.0      0   \n",
       "876       3              Dahlberg, Miss. Gerda Ulrika  female  22.0      0   \n",
       "877       2             Banfield, Mr. Frederick James    male  28.0      0   \n",
       "878       3                    Sutehall, Mr. Henry Jr    male  25.0      0   \n",
       "879       3      Rice, Mrs. William (Margaret Norton)  female  39.0      0   \n",
       "880       2                     Montvila, Rev. Juozas    male  27.0      0   \n",
       "881       1              Graham, Miss. Margaret Edith  female  19.0      0   \n",
       "882       3  Johnston, Miss. Catherine Helen \"Carrie\"  female  28.0      1   \n",
       "883       1                     Behr, Mr. Karl Howell    male  26.0      0   \n",
       "884       3                       Dooley, Mr. Patrick    male  32.0      0   \n",
       "\n",
       "     Parch            Ticket Embarked  Survived ticket_date  \n",
       "875      0            349257        S         0  1912-03-25  \n",
       "876      0              7552        S         0  1912-02-16  \n",
       "877      0  C.A./SOTON 34068        S         0  1912-03-23  \n",
       "878      0   SOTON/OQ 392076        S         0  1912-01-21  \n",
       "879      5            382652        Q         0  1912-03-28  \n",
       "880      0            211536        S         0  1912-01-29  \n",
       "881      0            112053        S         1  1912-03-30  \n",
       "882      2        W./C. 6607        S         0  1912-04-07  \n",
       "883      0            111369        C         1  1912-03-01  \n",
       "884      0            370376        Q         0  1912-03-05  "
      ]
     },
     "execution_count": 1234,
     "metadata": {},
     "output_type": "execute_result"
    }
   ],
   "source": [
    "data.tail(10)"
   ]
  },
  {
   "cell_type": "code",
   "execution_count": 1235,
   "id": "2c392932",
   "metadata": {
    "ExecuteTime": {
     "end_time": "2023-12-13T06:23:45.012969Z",
     "start_time": "2023-12-13T06:23:44.996153Z"
    },
    "executionInfo": {
     "elapsed": 24,
     "status": "aborted",
     "timestamp": 1702351344721,
     "user": {
      "displayName": "방승욱",
      "userId": "03816609317595006072"
     },
     "user_tz": -540
    },
    "id": "2c392932"
   },
   "outputs": [
    {
     "name": "stdout",
     "output_type": "stream",
     "text": [
      "<class 'pandas.core.frame.DataFrame'>\n",
      "RangeIndex: 885 entries, 0 to 884\n",
      "Data columns (total 10 columns):\n",
      " #   Column       Non-Null Count  Dtype  \n",
      "---  ------       --------------  -----  \n",
      " 0   Pclass       885 non-null    int64  \n",
      " 1   Name         885 non-null    object \n",
      " 2   Gendr        885 non-null    object \n",
      " 3   Age          879 non-null    float64\n",
      " 4   SibSp        885 non-null    int64  \n",
      " 5   Parch        885 non-null    int64  \n",
      " 6   Ticket       885 non-null    object \n",
      " 7   Embarked     883 non-null    object \n",
      " 8   Survived     885 non-null    int64  \n",
      " 9   ticket_date  885 non-null    object \n",
      "dtypes: float64(1), int64(4), object(5)\n",
      "memory usage: 69.3+ KB\n"
     ]
    }
   ],
   "source": [
    "data.info()"
   ]
  },
  {
   "cell_type": "code",
   "execution_count": 1236,
   "id": "af5a7665",
   "metadata": {
    "ExecuteTime": {
     "end_time": "2023-12-13T06:23:45.047976Z",
     "start_time": "2023-12-13T06:23:45.015903Z"
    },
    "executionInfo": {
     "elapsed": 24,
     "status": "aborted",
     "timestamp": 1702351344721,
     "user": {
      "displayName": "방승욱",
      "userId": "03816609317595006072"
     },
     "user_tz": -540
    },
    "id": "af5a7665"
   },
   "outputs": [
    {
     "data": {
      "text/html": [
       "<div>\n",
       "<style scoped>\n",
       "    .dataframe tbody tr th:only-of-type {\n",
       "        vertical-align: middle;\n",
       "    }\n",
       "\n",
       "    .dataframe tbody tr th {\n",
       "        vertical-align: top;\n",
       "    }\n",
       "\n",
       "    .dataframe thead th {\n",
       "        text-align: right;\n",
       "    }\n",
       "</style>\n",
       "<table border=\"1\" class=\"dataframe\">\n",
       "  <thead>\n",
       "    <tr style=\"text-align: right;\">\n",
       "      <th></th>\n",
       "      <th>Pclass</th>\n",
       "      <th>Age</th>\n",
       "      <th>SibSp</th>\n",
       "      <th>Parch</th>\n",
       "      <th>Survived</th>\n",
       "    </tr>\n",
       "  </thead>\n",
       "  <tbody>\n",
       "    <tr>\n",
       "      <th>count</th>\n",
       "      <td>885.000000</td>\n",
       "      <td>879.000000</td>\n",
       "      <td>885.000000</td>\n",
       "      <td>885.000000</td>\n",
       "      <td>885.000000</td>\n",
       "    </tr>\n",
       "    <tr>\n",
       "      <th>mean</th>\n",
       "      <td>2.311864</td>\n",
       "      <td>29.679181</td>\n",
       "      <td>0.525424</td>\n",
       "      <td>0.377401</td>\n",
       "      <td>0.377401</td>\n",
       "    </tr>\n",
       "    <tr>\n",
       "      <th>std</th>\n",
       "      <td>0.836069</td>\n",
       "      <td>13.559664</td>\n",
       "      <td>1.109746</td>\n",
       "      <td>0.805768</td>\n",
       "      <td>0.485011</td>\n",
       "    </tr>\n",
       "    <tr>\n",
       "      <th>min</th>\n",
       "      <td>1.000000</td>\n",
       "      <td>1.000000</td>\n",
       "      <td>0.000000</td>\n",
       "      <td>0.000000</td>\n",
       "      <td>0.000000</td>\n",
       "    </tr>\n",
       "    <tr>\n",
       "      <th>25%</th>\n",
       "      <td>2.000000</td>\n",
       "      <td>22.000000</td>\n",
       "      <td>0.000000</td>\n",
       "      <td>0.000000</td>\n",
       "      <td>0.000000</td>\n",
       "    </tr>\n",
       "    <tr>\n",
       "      <th>50%</th>\n",
       "      <td>3.000000</td>\n",
       "      <td>28.000000</td>\n",
       "      <td>0.000000</td>\n",
       "      <td>0.000000</td>\n",
       "      <td>0.000000</td>\n",
       "    </tr>\n",
       "    <tr>\n",
       "      <th>75%</th>\n",
       "      <td>3.000000</td>\n",
       "      <td>35.000000</td>\n",
       "      <td>1.000000</td>\n",
       "      <td>0.000000</td>\n",
       "      <td>1.000000</td>\n",
       "    </tr>\n",
       "    <tr>\n",
       "      <th>max</th>\n",
       "      <td>3.000000</td>\n",
       "      <td>145.000000</td>\n",
       "      <td>8.000000</td>\n",
       "      <td>6.000000</td>\n",
       "      <td>1.000000</td>\n",
       "    </tr>\n",
       "  </tbody>\n",
       "</table>\n",
       "</div>"
      ],
      "text/plain": [
       "           Pclass         Age       SibSp       Parch    Survived\n",
       "count  885.000000  879.000000  885.000000  885.000000  885.000000\n",
       "mean     2.311864   29.679181    0.525424    0.377401    0.377401\n",
       "std      0.836069   13.559664    1.109746    0.805768    0.485011\n",
       "min      1.000000    1.000000    0.000000    0.000000    0.000000\n",
       "25%      2.000000   22.000000    0.000000    0.000000    0.000000\n",
       "50%      3.000000   28.000000    0.000000    0.000000    0.000000\n",
       "75%      3.000000   35.000000    1.000000    0.000000    1.000000\n",
       "max      3.000000  145.000000    8.000000    6.000000    1.000000"
      ]
     },
     "execution_count": 1236,
     "metadata": {},
     "output_type": "execute_result"
    }
   ],
   "source": [
    "#DataFrame 또는 Series 객체에 대한 요약 통계를 제공합니다.\n",
    "data.describe()"
   ]
  },
  {
   "cell_type": "code",
   "execution_count": 1237,
   "id": "a33b4567",
   "metadata": {
    "ExecuteTime": {
     "end_time": "2023-12-13T06:23:45.078970Z",
     "start_time": "2023-12-13T06:23:45.050933Z"
    },
    "executionInfo": {
     "elapsed": 24,
     "status": "aborted",
     "timestamp": 1702351344721,
     "user": {
      "displayName": "방승욱",
      "userId": "03816609317595006072"
     },
     "user_tz": -540
    },
    "id": "a33b4567"
   },
   "outputs": [
    {
     "data": {
      "text/html": [
       "<div>\n",
       "<style scoped>\n",
       "    .dataframe tbody tr th:only-of-type {\n",
       "        vertical-align: middle;\n",
       "    }\n",
       "\n",
       "    .dataframe tbody tr th {\n",
       "        vertical-align: top;\n",
       "    }\n",
       "\n",
       "    .dataframe thead th {\n",
       "        text-align: right;\n",
       "    }\n",
       "</style>\n",
       "<table border=\"1\" class=\"dataframe\">\n",
       "  <thead>\n",
       "    <tr style=\"text-align: right;\">\n",
       "      <th></th>\n",
       "      <th>Pclass</th>\n",
       "      <th>Name</th>\n",
       "      <th>Gendr</th>\n",
       "      <th>Age</th>\n",
       "      <th>SibSp</th>\n",
       "      <th>Parch</th>\n",
       "      <th>Ticket</th>\n",
       "      <th>Embarked</th>\n",
       "      <th>Survived</th>\n",
       "      <th>ticket_date</th>\n",
       "    </tr>\n",
       "  </thead>\n",
       "  <tbody>\n",
       "    <tr>\n",
       "      <th>0</th>\n",
       "      <td>3</td>\n",
       "      <td>Braund, Mr. Owen Harris</td>\n",
       "      <td>male</td>\n",
       "      <td>22.0</td>\n",
       "      <td>1</td>\n",
       "      <td>0</td>\n",
       "      <td>A/5 21171</td>\n",
       "      <td>S</td>\n",
       "      <td>0</td>\n",
       "      <td>1912-01-12</td>\n",
       "    </tr>\n",
       "    <tr>\n",
       "      <th>1</th>\n",
       "      <td>1</td>\n",
       "      <td>Cumings, Mrs. John Bradley (Florence Briggs Th...</td>\n",
       "      <td>female</td>\n",
       "      <td>38.0</td>\n",
       "      <td>1</td>\n",
       "      <td>0</td>\n",
       "      <td>PC 17599</td>\n",
       "      <td>C</td>\n",
       "      <td>1</td>\n",
       "      <td>1912-03-29</td>\n",
       "    </tr>\n",
       "    <tr>\n",
       "      <th>2</th>\n",
       "      <td>3</td>\n",
       "      <td>Heikkinen, Miss. Laina</td>\n",
       "      <td>female</td>\n",
       "      <td>26.0</td>\n",
       "      <td>0</td>\n",
       "      <td>0</td>\n",
       "      <td>STON/O2. 3101282</td>\n",
       "      <td>S</td>\n",
       "      <td>1</td>\n",
       "      <td>1912-02-23</td>\n",
       "    </tr>\n",
       "    <tr>\n",
       "      <th>3</th>\n",
       "      <td>1</td>\n",
       "      <td>Futrelle, Mrs. Jacques Heath (Lily May Peel)</td>\n",
       "      <td>female</td>\n",
       "      <td>NaN</td>\n",
       "      <td>1</td>\n",
       "      <td>0</td>\n",
       "      <td>113803</td>\n",
       "      <td>S</td>\n",
       "      <td>1</td>\n",
       "      <td>1912-03-28</td>\n",
       "    </tr>\n",
       "    <tr>\n",
       "      <th>4</th>\n",
       "      <td>3</td>\n",
       "      <td>Allen, Mr. William Henry</td>\n",
       "      <td>male</td>\n",
       "      <td>35.0</td>\n",
       "      <td>0</td>\n",
       "      <td>0</td>\n",
       "      <td>373450</td>\n",
       "      <td>S</td>\n",
       "      <td>0</td>\n",
       "      <td>1912-04-03</td>\n",
       "    </tr>\n",
       "    <tr>\n",
       "      <th>...</th>\n",
       "      <td>...</td>\n",
       "      <td>...</td>\n",
       "      <td>...</td>\n",
       "      <td>...</td>\n",
       "      <td>...</td>\n",
       "      <td>...</td>\n",
       "      <td>...</td>\n",
       "      <td>...</td>\n",
       "      <td>...</td>\n",
       "      <td>...</td>\n",
       "    </tr>\n",
       "    <tr>\n",
       "      <th>880</th>\n",
       "      <td>2</td>\n",
       "      <td>Montvila, Rev. Juozas</td>\n",
       "      <td>male</td>\n",
       "      <td>27.0</td>\n",
       "      <td>0</td>\n",
       "      <td>0</td>\n",
       "      <td>211536</td>\n",
       "      <td>S</td>\n",
       "      <td>0</td>\n",
       "      <td>1912-01-29</td>\n",
       "    </tr>\n",
       "    <tr>\n",
       "      <th>881</th>\n",
       "      <td>1</td>\n",
       "      <td>Graham, Miss. Margaret Edith</td>\n",
       "      <td>female</td>\n",
       "      <td>19.0</td>\n",
       "      <td>0</td>\n",
       "      <td>0</td>\n",
       "      <td>112053</td>\n",
       "      <td>S</td>\n",
       "      <td>1</td>\n",
       "      <td>1912-03-30</td>\n",
       "    </tr>\n",
       "    <tr>\n",
       "      <th>882</th>\n",
       "      <td>3</td>\n",
       "      <td>Johnston, Miss. Catherine Helen \"Carrie\"</td>\n",
       "      <td>female</td>\n",
       "      <td>28.0</td>\n",
       "      <td>1</td>\n",
       "      <td>2</td>\n",
       "      <td>W./C. 6607</td>\n",
       "      <td>S</td>\n",
       "      <td>0</td>\n",
       "      <td>1912-04-07</td>\n",
       "    </tr>\n",
       "    <tr>\n",
       "      <th>883</th>\n",
       "      <td>1</td>\n",
       "      <td>Behr, Mr. Karl Howell</td>\n",
       "      <td>male</td>\n",
       "      <td>26.0</td>\n",
       "      <td>0</td>\n",
       "      <td>0</td>\n",
       "      <td>111369</td>\n",
       "      <td>C</td>\n",
       "      <td>1</td>\n",
       "      <td>1912-03-01</td>\n",
       "    </tr>\n",
       "    <tr>\n",
       "      <th>884</th>\n",
       "      <td>3</td>\n",
       "      <td>Dooley, Mr. Patrick</td>\n",
       "      <td>male</td>\n",
       "      <td>32.0</td>\n",
       "      <td>0</td>\n",
       "      <td>0</td>\n",
       "      <td>370376</td>\n",
       "      <td>Q</td>\n",
       "      <td>0</td>\n",
       "      <td>1912-03-05</td>\n",
       "    </tr>\n",
       "  </tbody>\n",
       "</table>\n",
       "<p>885 rows × 10 columns</p>\n",
       "</div>"
      ],
      "text/plain": [
       "     Pclass                                               Name   Gendr   Age  \\\n",
       "0         3                            Braund, Mr. Owen Harris    male  22.0   \n",
       "1         1  Cumings, Mrs. John Bradley (Florence Briggs Th...  female  38.0   \n",
       "2         3                             Heikkinen, Miss. Laina  female  26.0   \n",
       "3         1       Futrelle, Mrs. Jacques Heath (Lily May Peel)  female   NaN   \n",
       "4         3                           Allen, Mr. William Henry    male  35.0   \n",
       "..      ...                                                ...     ...   ...   \n",
       "880       2                              Montvila, Rev. Juozas    male  27.0   \n",
       "881       1                       Graham, Miss. Margaret Edith  female  19.0   \n",
       "882       3           Johnston, Miss. Catherine Helen \"Carrie\"  female  28.0   \n",
       "883       1                              Behr, Mr. Karl Howell    male  26.0   \n",
       "884       3                                Dooley, Mr. Patrick    male  32.0   \n",
       "\n",
       "     SibSp  Parch            Ticket Embarked  Survived ticket_date  \n",
       "0        1      0         A/5 21171        S         0  1912-01-12  \n",
       "1        1      0          PC 17599        C         1  1912-03-29  \n",
       "2        0      0  STON/O2. 3101282        S         1  1912-02-23  \n",
       "3        1      0            113803        S         1  1912-03-28  \n",
       "4        0      0            373450        S         0  1912-04-03  \n",
       "..     ...    ...               ...      ...       ...         ...  \n",
       "880      0      0            211536        S         0  1912-01-29  \n",
       "881      0      0            112053        S         1  1912-03-30  \n",
       "882      1      2        W./C. 6607        S         0  1912-04-07  \n",
       "883      0      0            111369        C         1  1912-03-01  \n",
       "884      0      0            370376        Q         0  1912-03-05  \n",
       "\n",
       "[885 rows x 10 columns]"
      ]
     },
     "execution_count": 1237,
     "metadata": {},
     "output_type": "execute_result"
    }
   ],
   "source": [
    "data"
   ]
  },
  {
   "cell_type": "code",
   "execution_count": 1238,
   "id": "94c8bb69",
   "metadata": {
    "ExecuteTime": {
     "end_time": "2023-12-13T06:23:45.091933Z",
     "start_time": "2023-12-13T06:23:45.082438Z"
    },
    "executionInfo": {
     "elapsed": 24,
     "status": "aborted",
     "timestamp": 1702351344721,
     "user": {
      "displayName": "방승욱",
      "userId": "03816609317595006072"
     },
     "user_tz": -540
    },
    "id": "94c8bb69"
   },
   "outputs": [
    {
     "data": {
      "text/plain": [
       "0                                Braund, Mr. Owen Harris\n",
       "1      Cumings, Mrs. John Bradley (Florence Briggs Th...\n",
       "2                                 Heikkinen, Miss. Laina\n",
       "3           Futrelle, Mrs. Jacques Heath (Lily May Peel)\n",
       "4                               Allen, Mr. William Henry\n",
       "                             ...                        \n",
       "880                                Montvila, Rev. Juozas\n",
       "881                         Graham, Miss. Margaret Edith\n",
       "882             Johnston, Miss. Catherine Helen \"Carrie\"\n",
       "883                                Behr, Mr. Karl Howell\n",
       "884                                  Dooley, Mr. Patrick\n",
       "Name: Name, Length: 885, dtype: object"
      ]
     },
     "execution_count": 1238,
     "metadata": {},
     "output_type": "execute_result"
    }
   ],
   "source": [
    "data['Name']"
   ]
  },
  {
   "cell_type": "code",
   "execution_count": 1239,
   "id": "bcadfe30",
   "metadata": {
    "ExecuteTime": {
     "end_time": "2023-12-13T06:23:45.114979Z",
     "start_time": "2023-12-13T06:23:45.094656Z"
    },
    "executionInfo": {
     "elapsed": 24,
     "status": "aborted",
     "timestamp": 1702351344721,
     "user": {
      "displayName": "방승욱",
      "userId": "03816609317595006072"
     },
     "user_tz": -540
    },
    "id": "bcadfe30"
   },
   "outputs": [
    {
     "data": {
      "text/html": [
       "<div>\n",
       "<style scoped>\n",
       "    .dataframe tbody tr th:only-of-type {\n",
       "        vertical-align: middle;\n",
       "    }\n",
       "\n",
       "    .dataframe tbody tr th {\n",
       "        vertical-align: top;\n",
       "    }\n",
       "\n",
       "    .dataframe thead th {\n",
       "        text-align: right;\n",
       "    }\n",
       "</style>\n",
       "<table border=\"1\" class=\"dataframe\">\n",
       "  <thead>\n",
       "    <tr style=\"text-align: right;\">\n",
       "      <th></th>\n",
       "      <th>Name</th>\n",
       "      <th>Age</th>\n",
       "    </tr>\n",
       "  </thead>\n",
       "  <tbody>\n",
       "    <tr>\n",
       "      <th>0</th>\n",
       "      <td>Braund, Mr. Owen Harris</td>\n",
       "      <td>22.0</td>\n",
       "    </tr>\n",
       "    <tr>\n",
       "      <th>1</th>\n",
       "      <td>Cumings, Mrs. John Bradley (Florence Briggs Th...</td>\n",
       "      <td>38.0</td>\n",
       "    </tr>\n",
       "    <tr>\n",
       "      <th>2</th>\n",
       "      <td>Heikkinen, Miss. Laina</td>\n",
       "      <td>26.0</td>\n",
       "    </tr>\n",
       "    <tr>\n",
       "      <th>3</th>\n",
       "      <td>Futrelle, Mrs. Jacques Heath (Lily May Peel)</td>\n",
       "      <td>NaN</td>\n",
       "    </tr>\n",
       "    <tr>\n",
       "      <th>4</th>\n",
       "      <td>Allen, Mr. William Henry</td>\n",
       "      <td>35.0</td>\n",
       "    </tr>\n",
       "    <tr>\n",
       "      <th>...</th>\n",
       "      <td>...</td>\n",
       "      <td>...</td>\n",
       "    </tr>\n",
       "    <tr>\n",
       "      <th>880</th>\n",
       "      <td>Montvila, Rev. Juozas</td>\n",
       "      <td>27.0</td>\n",
       "    </tr>\n",
       "    <tr>\n",
       "      <th>881</th>\n",
       "      <td>Graham, Miss. Margaret Edith</td>\n",
       "      <td>19.0</td>\n",
       "    </tr>\n",
       "    <tr>\n",
       "      <th>882</th>\n",
       "      <td>Johnston, Miss. Catherine Helen \"Carrie\"</td>\n",
       "      <td>28.0</td>\n",
       "    </tr>\n",
       "    <tr>\n",
       "      <th>883</th>\n",
       "      <td>Behr, Mr. Karl Howell</td>\n",
       "      <td>26.0</td>\n",
       "    </tr>\n",
       "    <tr>\n",
       "      <th>884</th>\n",
       "      <td>Dooley, Mr. Patrick</td>\n",
       "      <td>32.0</td>\n",
       "    </tr>\n",
       "  </tbody>\n",
       "</table>\n",
       "<p>885 rows × 2 columns</p>\n",
       "</div>"
      ],
      "text/plain": [
       "                                                  Name   Age\n",
       "0                              Braund, Mr. Owen Harris  22.0\n",
       "1    Cumings, Mrs. John Bradley (Florence Briggs Th...  38.0\n",
       "2                               Heikkinen, Miss. Laina  26.0\n",
       "3         Futrelle, Mrs. Jacques Heath (Lily May Peel)   NaN\n",
       "4                             Allen, Mr. William Henry  35.0\n",
       "..                                                 ...   ...\n",
       "880                              Montvila, Rev. Juozas  27.0\n",
       "881                       Graham, Miss. Margaret Edith  19.0\n",
       "882           Johnston, Miss. Catherine Helen \"Carrie\"  28.0\n",
       "883                              Behr, Mr. Karl Howell  26.0\n",
       "884                                Dooley, Mr. Patrick  32.0\n",
       "\n",
       "[885 rows x 2 columns]"
      ]
     },
     "execution_count": 1239,
     "metadata": {},
     "output_type": "execute_result"
    }
   ],
   "source": [
    "data[['Name','Age']]"
   ]
  },
  {
   "cell_type": "code",
   "execution_count": 1240,
   "id": "c333ad1d",
   "metadata": {
    "ExecuteTime": {
     "end_time": "2023-12-13T06:23:45.133962Z",
     "start_time": "2023-12-13T06:23:45.118659Z"
    },
    "executionInfo": {
     "elapsed": 24,
     "status": "aborted",
     "timestamp": 1702351344721,
     "user": {
      "displayName": "방승욱",
      "userId": "03816609317595006072"
     },
     "user_tz": -540
    },
    "id": "c333ad1d"
   },
   "outputs": [
    {
     "data": {
      "text/html": [
       "<div>\n",
       "<style scoped>\n",
       "    .dataframe tbody tr th:only-of-type {\n",
       "        vertical-align: middle;\n",
       "    }\n",
       "\n",
       "    .dataframe tbody tr th {\n",
       "        vertical-align: top;\n",
       "    }\n",
       "\n",
       "    .dataframe thead th {\n",
       "        text-align: right;\n",
       "    }\n",
       "</style>\n",
       "<table border=\"1\" class=\"dataframe\">\n",
       "  <thead>\n",
       "    <tr style=\"text-align: right;\">\n",
       "      <th></th>\n",
       "      <th>Name</th>\n",
       "    </tr>\n",
       "  </thead>\n",
       "  <tbody>\n",
       "    <tr>\n",
       "      <th>0</th>\n",
       "      <td>Braund, Mr. Owen Harris</td>\n",
       "    </tr>\n",
       "    <tr>\n",
       "      <th>1</th>\n",
       "      <td>Cumings, Mrs. John Bradley (Florence Briggs Th...</td>\n",
       "    </tr>\n",
       "    <tr>\n",
       "      <th>2</th>\n",
       "      <td>Heikkinen, Miss. Laina</td>\n",
       "    </tr>\n",
       "    <tr>\n",
       "      <th>3</th>\n",
       "      <td>Futrelle, Mrs. Jacques Heath (Lily May Peel)</td>\n",
       "    </tr>\n",
       "    <tr>\n",
       "      <th>4</th>\n",
       "      <td>Allen, Mr. William Henry</td>\n",
       "    </tr>\n",
       "    <tr>\n",
       "      <th>...</th>\n",
       "      <td>...</td>\n",
       "    </tr>\n",
       "    <tr>\n",
       "      <th>880</th>\n",
       "      <td>Montvila, Rev. Juozas</td>\n",
       "    </tr>\n",
       "    <tr>\n",
       "      <th>881</th>\n",
       "      <td>Graham, Miss. Margaret Edith</td>\n",
       "    </tr>\n",
       "    <tr>\n",
       "      <th>882</th>\n",
       "      <td>Johnston, Miss. Catherine Helen \"Carrie\"</td>\n",
       "    </tr>\n",
       "    <tr>\n",
       "      <th>883</th>\n",
       "      <td>Behr, Mr. Karl Howell</td>\n",
       "    </tr>\n",
       "    <tr>\n",
       "      <th>884</th>\n",
       "      <td>Dooley, Mr. Patrick</td>\n",
       "    </tr>\n",
       "  </tbody>\n",
       "</table>\n",
       "<p>885 rows × 1 columns</p>\n",
       "</div>"
      ],
      "text/plain": [
       "                                                  Name\n",
       "0                              Braund, Mr. Owen Harris\n",
       "1    Cumings, Mrs. John Bradley (Florence Briggs Th...\n",
       "2                               Heikkinen, Miss. Laina\n",
       "3         Futrelle, Mrs. Jacques Heath (Lily May Peel)\n",
       "4                             Allen, Mr. William Henry\n",
       "..                                                 ...\n",
       "880                              Montvila, Rev. Juozas\n",
       "881                       Graham, Miss. Margaret Edith\n",
       "882           Johnston, Miss. Catherine Helen \"Carrie\"\n",
       "883                              Behr, Mr. Karl Howell\n",
       "884                                Dooley, Mr. Patrick\n",
       "\n",
       "[885 rows x 1 columns]"
      ]
     },
     "execution_count": 1240,
     "metadata": {},
     "output_type": "execute_result"
    }
   ],
   "source": [
    "pd.DataFrame(data['Name'])"
   ]
  },
  {
   "cell_type": "code",
   "execution_count": 1241,
   "id": "f8ccce50",
   "metadata": {
    "ExecuteTime": {
     "end_time": "2023-12-13T06:23:45.145935Z",
     "start_time": "2023-12-13T06:23:45.137095Z"
    },
    "executionInfo": {
     "elapsed": 23,
     "status": "aborted",
     "timestamp": 1702351344721,
     "user": {
      "displayName": "방승욱",
      "userId": "03816609317595006072"
     },
     "user_tz": -540
    },
    "id": "f8ccce50"
   },
   "outputs": [
    {
     "data": {
      "text/plain": [
       "0                                Braund, Mr. Owen Harris\n",
       "1      Cumings, Mrs. John Bradley (Florence Briggs Th...\n",
       "2                                 Heikkinen, Miss. Laina\n",
       "3           Futrelle, Mrs. Jacques Heath (Lily May Peel)\n",
       "4                               Allen, Mr. William Henry\n",
       "                             ...                        \n",
       "880                                Montvila, Rev. Juozas\n",
       "881                         Graham, Miss. Margaret Edith\n",
       "882             Johnston, Miss. Catherine Helen \"Carrie\"\n",
       "883                                Behr, Mr. Karl Howell\n",
       "884                                  Dooley, Mr. Patrick\n",
       "Name: Name, Length: 885, dtype: object"
      ]
     },
     "execution_count": 1241,
     "metadata": {},
     "output_type": "execute_result"
    }
   ],
   "source": [
    "pd.Series(pd.DataFrame(data['Name'])['Name'])"
   ]
  },
  {
   "cell_type": "code",
   "execution_count": 1242,
   "id": "8537d4e9",
   "metadata": {
    "ExecuteTime": {
     "end_time": "2023-12-13T06:23:45.152925Z",
     "start_time": "2023-12-13T06:23:45.149062Z"
    },
    "executionInfo": {
     "elapsed": 23,
     "status": "aborted",
     "timestamp": 1702351344721,
     "user": {
      "displayName": "방승욱",
      "userId": "03816609317595006072"
     },
     "user_tz": -540
    },
    "id": "8537d4e9"
   },
   "outputs": [],
   "source": [
    "import numpy as np"
   ]
  },
  {
   "cell_type": "code",
   "execution_count": 1243,
   "id": "5de6b393",
   "metadata": {
    "ExecuteTime": {
     "end_time": "2023-12-13T06:23:45.163942Z",
     "start_time": "2023-12-13T06:23:45.156238Z"
    },
    "executionInfo": {
     "elapsed": 23,
     "status": "aborted",
     "timestamp": 1702351344721,
     "user": {
      "displayName": "방승욱",
      "userId": "03816609317595006072"
     },
     "user_tz": -540
    },
    "id": "5de6b393"
   },
   "outputs": [
    {
     "data": {
      "text/plain": [
       "array([[3, 'Braund, Mr. Owen Harris', 'male', ..., 'S', 0, '1912-01-12'],\n",
       "       [1, 'Cumings, Mrs. John Bradley (Florence Briggs Thayer)',\n",
       "        'female', ..., 'C', 1, '1912-03-29'],\n",
       "       [3, 'Heikkinen, Miss. Laina', 'female', ..., 'S', 1, '1912-02-23'],\n",
       "       ...,\n",
       "       [3, 'Johnston, Miss. Catherine Helen \"Carrie\"', 'female', ...,\n",
       "        'S', 0, '1912-04-07'],\n",
       "       [1, 'Behr, Mr. Karl Howell', 'male', ..., 'C', 1, '1912-03-01'],\n",
       "       [3, 'Dooley, Mr. Patrick', 'male', ..., 'Q', 0, '1912-03-05']],\n",
       "      dtype=object)"
      ]
     },
     "execution_count": 1243,
     "metadata": {},
     "output_type": "execute_result"
    }
   ],
   "source": [
    "np.array(data)"
   ]
  },
  {
   "cell_type": "markdown",
   "id": "BitXqjryt-GJ",
   "metadata": {
    "id": "BitXqjryt-GJ"
   },
   "source": [
    "# 불필요한 컬럼 삭제 (Dropping columns), 누락된 결측치 처리 (Missing values)"
   ]
  },
  {
   "cell_type": "code",
   "execution_count": 1244,
   "id": "lZOEWXl4t7Lq",
   "metadata": {
    "ExecuteTime": {
     "end_time": "2023-12-13T06:23:45.171089Z",
     "start_time": "2023-12-13T06:23:45.166577Z"
    },
    "executionInfo": {
     "elapsed": 23,
     "status": "aborted",
     "timestamp": 1702351344721,
     "user": {
      "displayName": "방승욱",
      "userId": "03816609317595006072"
     },
     "user_tz": -540
    },
    "id": "lZOEWXl4t7Lq"
   },
   "outputs": [],
   "source": [
    "import pandas as pd"
   ]
  },
  {
   "cell_type": "code",
   "execution_count": 1245,
   "id": "qvn5fXi4t7Om",
   "metadata": {
    "ExecuteTime": {
     "end_time": "2023-12-13T06:23:45.185932Z",
     "start_time": "2023-12-13T06:23:45.173728Z"
    },
    "executionInfo": {
     "elapsed": 23,
     "status": "aborted",
     "timestamp": 1702351344721,
     "user": {
      "displayName": "방승욱",
      "userId": "03816609317595006072"
     },
     "user_tz": -540
    },
    "id": "qvn5fXi4t7Om"
   },
   "outputs": [],
   "source": [
    "data = pd.read_csv('titanic.csv')"
   ]
  },
  {
   "cell_type": "code",
   "execution_count": 1246,
   "id": "118a999b",
   "metadata": {
    "ExecuteTime": {
     "end_time": "2023-12-13T06:23:45.209945Z",
     "start_time": "2023-12-13T06:23:45.188818Z"
    }
   },
   "outputs": [
    {
     "data": {
      "text/html": [
       "<div>\n",
       "<style scoped>\n",
       "    .dataframe tbody tr th:only-of-type {\n",
       "        vertical-align: middle;\n",
       "    }\n",
       "\n",
       "    .dataframe tbody tr th {\n",
       "        vertical-align: top;\n",
       "    }\n",
       "\n",
       "    .dataframe thead th {\n",
       "        text-align: right;\n",
       "    }\n",
       "</style>\n",
       "<table border=\"1\" class=\"dataframe\">\n",
       "  <thead>\n",
       "    <tr style=\"text-align: right;\">\n",
       "      <th></th>\n",
       "      <th>Pclass</th>\n",
       "      <th>Name</th>\n",
       "      <th>Gendr</th>\n",
       "      <th>Age</th>\n",
       "      <th>SibSp</th>\n",
       "      <th>Parch</th>\n",
       "      <th>Ticket</th>\n",
       "      <th>Embarked</th>\n",
       "      <th>Survived</th>\n",
       "      <th>ticket_date</th>\n",
       "    </tr>\n",
       "  </thead>\n",
       "  <tbody>\n",
       "    <tr>\n",
       "      <th>25</th>\n",
       "      <td>3</td>\n",
       "      <td>Palsson, Miss. Torborg Danira</td>\n",
       "      <td>female</td>\n",
       "      <td>8.0</td>\n",
       "      <td>3</td>\n",
       "      <td>1</td>\n",
       "      <td>349909</td>\n",
       "      <td>S</td>\n",
       "      <td>0</td>\n",
       "      <td>1912-03-14</td>\n",
       "    </tr>\n",
       "    <tr>\n",
       "      <th>632</th>\n",
       "      <td>3</td>\n",
       "      <td>Skoog, Miss. Mabel</td>\n",
       "      <td>female</td>\n",
       "      <td>9.0</td>\n",
       "      <td>3</td>\n",
       "      <td>2</td>\n",
       "      <td>347088</td>\n",
       "      <td>S</td>\n",
       "      <td>0</td>\n",
       "      <td>1912-03-16</td>\n",
       "    </tr>\n",
       "    <tr>\n",
       "      <th>714</th>\n",
       "      <td>1</td>\n",
       "      <td>Endres, Miss. Caroline Louise</td>\n",
       "      <td>female</td>\n",
       "      <td>38.0</td>\n",
       "      <td>0</td>\n",
       "      <td>0</td>\n",
       "      <td>PC 17757</td>\n",
       "      <td>C</td>\n",
       "      <td>1</td>\n",
       "      <td>1912-03-14</td>\n",
       "    </tr>\n",
       "  </tbody>\n",
       "</table>\n",
       "</div>"
      ],
      "text/plain": [
       "     Pclass                           Name   Gendr   Age  SibSp  Parch  \\\n",
       "25        3  Palsson, Miss. Torborg Danira  female   8.0      3      1   \n",
       "632       3             Skoog, Miss. Mabel  female   9.0      3      2   \n",
       "714       1  Endres, Miss. Caroline Louise  female  38.0      0      0   \n",
       "\n",
       "       Ticket Embarked  Survived ticket_date  \n",
       "25     349909        S         0  1912-03-14  \n",
       "632    347088        S         0  1912-03-16  \n",
       "714  PC 17757        C         1  1912-03-14  "
      ]
     },
     "execution_count": 1246,
     "metadata": {},
     "output_type": "execute_result"
    }
   ],
   "source": [
    "# 중복 데이터 처리 부분에서 활용\n",
    "data[data.duplicated()]"
   ]
  },
  {
   "cell_type": "code",
   "execution_count": 1247,
   "id": "b0e662ad",
   "metadata": {
    "ExecuteTime": {
     "end_time": "2023-12-13T06:23:45.233026Z",
     "start_time": "2023-12-13T06:23:45.212776Z"
    }
   },
   "outputs": [
    {
     "data": {
      "text/html": [
       "<div>\n",
       "<style scoped>\n",
       "    .dataframe tbody tr th:only-of-type {\n",
       "        vertical-align: middle;\n",
       "    }\n",
       "\n",
       "    .dataframe tbody tr th {\n",
       "        vertical-align: top;\n",
       "    }\n",
       "\n",
       "    .dataframe thead th {\n",
       "        text-align: right;\n",
       "    }\n",
       "</style>\n",
       "<table border=\"1\" class=\"dataframe\">\n",
       "  <thead>\n",
       "    <tr style=\"text-align: right;\">\n",
       "      <th></th>\n",
       "      <th>Pclass</th>\n",
       "      <th>Name</th>\n",
       "      <th>Gendr</th>\n",
       "      <th>Age</th>\n",
       "      <th>SibSp</th>\n",
       "      <th>Parch</th>\n",
       "      <th>Ticket</th>\n",
       "      <th>Embarked</th>\n",
       "      <th>Survived</th>\n",
       "      <th>ticket_date</th>\n",
       "    </tr>\n",
       "  </thead>\n",
       "  <tbody>\n",
       "    <tr>\n",
       "      <th>24</th>\n",
       "      <td>3</td>\n",
       "      <td>Palsson, Miss. Torborg Danira</td>\n",
       "      <td>female</td>\n",
       "      <td>8.0</td>\n",
       "      <td>3</td>\n",
       "      <td>1</td>\n",
       "      <td>349909</td>\n",
       "      <td>S</td>\n",
       "      <td>0</td>\n",
       "      <td>1912-03-14</td>\n",
       "    </tr>\n",
       "    <tr>\n",
       "      <th>25</th>\n",
       "      <td>3</td>\n",
       "      <td>Palsson, Miss. Torborg Danira</td>\n",
       "      <td>female</td>\n",
       "      <td>8.0</td>\n",
       "      <td>3</td>\n",
       "      <td>1</td>\n",
       "      <td>349909</td>\n",
       "      <td>S</td>\n",
       "      <td>0</td>\n",
       "      <td>1912-03-14</td>\n",
       "    </tr>\n",
       "  </tbody>\n",
       "</table>\n",
       "</div>"
      ],
      "text/plain": [
       "    Pclass                           Name   Gendr  Age  SibSp  Parch  Ticket  \\\n",
       "24       3  Palsson, Miss. Torborg Danira  female  8.0      3      1  349909   \n",
       "25       3  Palsson, Miss. Torborg Danira  female  8.0      3      1  349909   \n",
       "\n",
       "   Embarked  Survived ticket_date  \n",
       "24        S         0  1912-03-14  \n",
       "25        S         0  1912-03-14  "
      ]
     },
     "execution_count": 1247,
     "metadata": {},
     "output_type": "execute_result"
    }
   ],
   "source": [
    "# 중복 데이터 처리 부분에서 활용\n",
    "data[data['Name'] == 'Palsson, Miss. Torborg Danira']"
   ]
  },
  {
   "cell_type": "code",
   "execution_count": 1248,
   "id": "5137517f",
   "metadata": {
    "ExecuteTime": {
     "end_time": "2023-12-13T06:23:45.250909Z",
     "start_time": "2023-12-13T06:23:45.236567Z"
    }
   },
   "outputs": [],
   "source": [
    "# 중복 데이터 처리 부분에서 활용\n",
    "data = data.drop_duplicates()"
   ]
  },
  {
   "cell_type": "code",
   "execution_count": 1249,
   "id": "NdfDVKpOt7Rd",
   "metadata": {
    "ExecuteTime": {
     "end_time": "2023-12-13T06:23:45.273916Z",
     "start_time": "2023-12-13T06:23:45.257062Z"
    },
    "executionInfo": {
     "elapsed": 24,
     "status": "aborted",
     "timestamp": 1702351344722,
     "user": {
      "displayName": "방승욱",
      "userId": "03816609317595006072"
     },
     "user_tz": -540
    },
    "id": "NdfDVKpOt7Rd"
   },
   "outputs": [
    {
     "data": {
      "text/html": [
       "<div>\n",
       "<style scoped>\n",
       "    .dataframe tbody tr th:only-of-type {\n",
       "        vertical-align: middle;\n",
       "    }\n",
       "\n",
       "    .dataframe tbody tr th {\n",
       "        vertical-align: top;\n",
       "    }\n",
       "\n",
       "    .dataframe thead th {\n",
       "        text-align: right;\n",
       "    }\n",
       "</style>\n",
       "<table border=\"1\" class=\"dataframe\">\n",
       "  <thead>\n",
       "    <tr style=\"text-align: right;\">\n",
       "      <th></th>\n",
       "      <th>Pclass</th>\n",
       "      <th>Name</th>\n",
       "      <th>Gendr</th>\n",
       "      <th>Age</th>\n",
       "      <th>SibSp</th>\n",
       "      <th>Parch</th>\n",
       "      <th>Ticket</th>\n",
       "      <th>Embarked</th>\n",
       "      <th>Survived</th>\n",
       "      <th>ticket_date</th>\n",
       "    </tr>\n",
       "  </thead>\n",
       "  <tbody>\n",
       "    <tr>\n",
       "      <th>0</th>\n",
       "      <td>3</td>\n",
       "      <td>Braund, Mr. Owen Harris</td>\n",
       "      <td>male</td>\n",
       "      <td>22.0</td>\n",
       "      <td>1</td>\n",
       "      <td>0</td>\n",
       "      <td>A/5 21171</td>\n",
       "      <td>S</td>\n",
       "      <td>0</td>\n",
       "      <td>1912-01-12</td>\n",
       "    </tr>\n",
       "    <tr>\n",
       "      <th>1</th>\n",
       "      <td>1</td>\n",
       "      <td>Cumings, Mrs. John Bradley (Florence Briggs Th...</td>\n",
       "      <td>female</td>\n",
       "      <td>38.0</td>\n",
       "      <td>1</td>\n",
       "      <td>0</td>\n",
       "      <td>PC 17599</td>\n",
       "      <td>C</td>\n",
       "      <td>1</td>\n",
       "      <td>1912-03-29</td>\n",
       "    </tr>\n",
       "    <tr>\n",
       "      <th>2</th>\n",
       "      <td>3</td>\n",
       "      <td>Heikkinen, Miss. Laina</td>\n",
       "      <td>female</td>\n",
       "      <td>26.0</td>\n",
       "      <td>0</td>\n",
       "      <td>0</td>\n",
       "      <td>STON/O2. 3101282</td>\n",
       "      <td>S</td>\n",
       "      <td>1</td>\n",
       "      <td>1912-02-23</td>\n",
       "    </tr>\n",
       "    <tr>\n",
       "      <th>3</th>\n",
       "      <td>1</td>\n",
       "      <td>Futrelle, Mrs. Jacques Heath (Lily May Peel)</td>\n",
       "      <td>female</td>\n",
       "      <td>NaN</td>\n",
       "      <td>1</td>\n",
       "      <td>0</td>\n",
       "      <td>113803</td>\n",
       "      <td>S</td>\n",
       "      <td>1</td>\n",
       "      <td>1912-03-28</td>\n",
       "    </tr>\n",
       "    <tr>\n",
       "      <th>4</th>\n",
       "      <td>3</td>\n",
       "      <td>Allen, Mr. William Henry</td>\n",
       "      <td>male</td>\n",
       "      <td>35.0</td>\n",
       "      <td>0</td>\n",
       "      <td>0</td>\n",
       "      <td>373450</td>\n",
       "      <td>S</td>\n",
       "      <td>0</td>\n",
       "      <td>1912-04-03</td>\n",
       "    </tr>\n",
       "  </tbody>\n",
       "</table>\n",
       "</div>"
      ],
      "text/plain": [
       "   Pclass                                               Name   Gendr   Age  \\\n",
       "0       3                            Braund, Mr. Owen Harris    male  22.0   \n",
       "1       1  Cumings, Mrs. John Bradley (Florence Briggs Th...  female  38.0   \n",
       "2       3                             Heikkinen, Miss. Laina  female  26.0   \n",
       "3       1       Futrelle, Mrs. Jacques Heath (Lily May Peel)  female   NaN   \n",
       "4       3                           Allen, Mr. William Henry    male  35.0   \n",
       "\n",
       "   SibSp  Parch            Ticket Embarked  Survived ticket_date  \n",
       "0      1      0         A/5 21171        S         0  1912-01-12  \n",
       "1      1      0          PC 17599        C         1  1912-03-29  \n",
       "2      0      0  STON/O2. 3101282        S         1  1912-02-23  \n",
       "3      1      0            113803        S         1  1912-03-28  \n",
       "4      0      0            373450        S         0  1912-04-03  "
      ]
     },
     "execution_count": 1249,
     "metadata": {},
     "output_type": "execute_result"
    }
   ],
   "source": [
    "data.head()"
   ]
  },
  {
   "cell_type": "code",
   "execution_count": 1250,
   "id": "gqRN8Gu1t7UQ",
   "metadata": {
    "ExecuteTime": {
     "end_time": "2023-12-13T06:23:45.283872Z",
     "start_time": "2023-12-13T06:23:45.277991Z"
    },
    "executionInfo": {
     "elapsed": 24,
     "status": "aborted",
     "timestamp": 1702351344722,
     "user": {
      "displayName": "방승욱",
      "userId": "03816609317595006072"
     },
     "user_tz": -540
    },
    "id": "gqRN8Gu1t7UQ"
   },
   "outputs": [],
   "source": [
    "data.drop('Name', axis=1, inplace=True)"
   ]
  },
  {
   "cell_type": "code",
   "execution_count": 1251,
   "id": "_FyMVRuat7XR",
   "metadata": {
    "ExecuteTime": {
     "end_time": "2023-12-13T06:23:45.302920Z",
     "start_time": "2023-12-13T06:23:45.286473Z"
    },
    "executionInfo": {
     "elapsed": 24,
     "status": "aborted",
     "timestamp": 1702351344722,
     "user": {
      "displayName": "방승욱",
      "userId": "03816609317595006072"
     },
     "user_tz": -540
    },
    "id": "_FyMVRuat7XR"
   },
   "outputs": [
    {
     "data": {
      "text/html": [
       "<div>\n",
       "<style scoped>\n",
       "    .dataframe tbody tr th:only-of-type {\n",
       "        vertical-align: middle;\n",
       "    }\n",
       "\n",
       "    .dataframe tbody tr th {\n",
       "        vertical-align: top;\n",
       "    }\n",
       "\n",
       "    .dataframe thead th {\n",
       "        text-align: right;\n",
       "    }\n",
       "</style>\n",
       "<table border=\"1\" class=\"dataframe\">\n",
       "  <thead>\n",
       "    <tr style=\"text-align: right;\">\n",
       "      <th></th>\n",
       "      <th>Pclass</th>\n",
       "      <th>Gendr</th>\n",
       "      <th>Age</th>\n",
       "      <th>SibSp</th>\n",
       "      <th>Parch</th>\n",
       "      <th>Ticket</th>\n",
       "      <th>Embarked</th>\n",
       "      <th>Survived</th>\n",
       "      <th>ticket_date</th>\n",
       "    </tr>\n",
       "  </thead>\n",
       "  <tbody>\n",
       "    <tr>\n",
       "      <th>0</th>\n",
       "      <td>3</td>\n",
       "      <td>male</td>\n",
       "      <td>22.0</td>\n",
       "      <td>1</td>\n",
       "      <td>0</td>\n",
       "      <td>A/5 21171</td>\n",
       "      <td>S</td>\n",
       "      <td>0</td>\n",
       "      <td>1912-01-12</td>\n",
       "    </tr>\n",
       "    <tr>\n",
       "      <th>1</th>\n",
       "      <td>1</td>\n",
       "      <td>female</td>\n",
       "      <td>38.0</td>\n",
       "      <td>1</td>\n",
       "      <td>0</td>\n",
       "      <td>PC 17599</td>\n",
       "      <td>C</td>\n",
       "      <td>1</td>\n",
       "      <td>1912-03-29</td>\n",
       "    </tr>\n",
       "    <tr>\n",
       "      <th>2</th>\n",
       "      <td>3</td>\n",
       "      <td>female</td>\n",
       "      <td>26.0</td>\n",
       "      <td>0</td>\n",
       "      <td>0</td>\n",
       "      <td>STON/O2. 3101282</td>\n",
       "      <td>S</td>\n",
       "      <td>1</td>\n",
       "      <td>1912-02-23</td>\n",
       "    </tr>\n",
       "    <tr>\n",
       "      <th>3</th>\n",
       "      <td>1</td>\n",
       "      <td>female</td>\n",
       "      <td>NaN</td>\n",
       "      <td>1</td>\n",
       "      <td>0</td>\n",
       "      <td>113803</td>\n",
       "      <td>S</td>\n",
       "      <td>1</td>\n",
       "      <td>1912-03-28</td>\n",
       "    </tr>\n",
       "    <tr>\n",
       "      <th>4</th>\n",
       "      <td>3</td>\n",
       "      <td>male</td>\n",
       "      <td>35.0</td>\n",
       "      <td>0</td>\n",
       "      <td>0</td>\n",
       "      <td>373450</td>\n",
       "      <td>S</td>\n",
       "      <td>0</td>\n",
       "      <td>1912-04-03</td>\n",
       "    </tr>\n",
       "  </tbody>\n",
       "</table>\n",
       "</div>"
      ],
      "text/plain": [
       "   Pclass   Gendr   Age  SibSp  Parch            Ticket Embarked  Survived  \\\n",
       "0       3    male  22.0      1      0         A/5 21171        S         0   \n",
       "1       1  female  38.0      1      0          PC 17599        C         1   \n",
       "2       3  female  26.0      0      0  STON/O2. 3101282        S         1   \n",
       "3       1  female   NaN      1      0            113803        S         1   \n",
       "4       3    male  35.0      0      0            373450        S         0   \n",
       "\n",
       "  ticket_date  \n",
       "0  1912-01-12  \n",
       "1  1912-03-29  \n",
       "2  1912-02-23  \n",
       "3  1912-03-28  \n",
       "4  1912-04-03  "
      ]
     },
     "execution_count": 1251,
     "metadata": {},
     "output_type": "execute_result"
    }
   ],
   "source": [
    "data.head()"
   ]
  },
  {
   "cell_type": "code",
   "execution_count": 1252,
   "id": "DOxNJUhCt7aI",
   "metadata": {
    "ExecuteTime": {
     "end_time": "2023-12-13T06:23:45.328933Z",
     "start_time": "2023-12-13T06:23:45.305846Z"
    },
    "executionInfo": {
     "elapsed": 23,
     "status": "aborted",
     "timestamp": 1702351344722,
     "user": {
      "displayName": "방승욱",
      "userId": "03816609317595006072"
     },
     "user_tz": -540
    },
    "id": "DOxNJUhCt7aI"
   },
   "outputs": [
    {
     "data": {
      "text/html": [
       "<div>\n",
       "<style scoped>\n",
       "    .dataframe tbody tr th:only-of-type {\n",
       "        vertical-align: middle;\n",
       "    }\n",
       "\n",
       "    .dataframe tbody tr th {\n",
       "        vertical-align: top;\n",
       "    }\n",
       "\n",
       "    .dataframe thead th {\n",
       "        text-align: right;\n",
       "    }\n",
       "</style>\n",
       "<table border=\"1\" class=\"dataframe\">\n",
       "  <thead>\n",
       "    <tr style=\"text-align: right;\">\n",
       "      <th></th>\n",
       "      <th>Pclass</th>\n",
       "      <th>Gendr</th>\n",
       "      <th>Age</th>\n",
       "      <th>SibSp</th>\n",
       "      <th>Parch</th>\n",
       "      <th>Ticket</th>\n",
       "      <th>Embarked</th>\n",
       "      <th>Survived</th>\n",
       "      <th>ticket_date</th>\n",
       "    </tr>\n",
       "  </thead>\n",
       "  <tbody>\n",
       "    <tr>\n",
       "      <th>0</th>\n",
       "      <td>3</td>\n",
       "      <td>male</td>\n",
       "      <td>22.0</td>\n",
       "      <td>1</td>\n",
       "      <td>0</td>\n",
       "      <td>A/5 21171</td>\n",
       "      <td>S</td>\n",
       "      <td>0</td>\n",
       "      <td>1912-01-12</td>\n",
       "    </tr>\n",
       "    <tr>\n",
       "      <th>1</th>\n",
       "      <td>1</td>\n",
       "      <td>female</td>\n",
       "      <td>38.0</td>\n",
       "      <td>1</td>\n",
       "      <td>0</td>\n",
       "      <td>PC 17599</td>\n",
       "      <td>C</td>\n",
       "      <td>1</td>\n",
       "      <td>1912-03-29</td>\n",
       "    </tr>\n",
       "    <tr>\n",
       "      <th>3</th>\n",
       "      <td>1</td>\n",
       "      <td>female</td>\n",
       "      <td>NaN</td>\n",
       "      <td>1</td>\n",
       "      <td>0</td>\n",
       "      <td>113803</td>\n",
       "      <td>S</td>\n",
       "      <td>1</td>\n",
       "      <td>1912-03-28</td>\n",
       "    </tr>\n",
       "    <tr>\n",
       "      <th>4</th>\n",
       "      <td>3</td>\n",
       "      <td>male</td>\n",
       "      <td>35.0</td>\n",
       "      <td>0</td>\n",
       "      <td>0</td>\n",
       "      <td>373450</td>\n",
       "      <td>S</td>\n",
       "      <td>0</td>\n",
       "      <td>1912-04-03</td>\n",
       "    </tr>\n",
       "    <tr>\n",
       "      <th>5</th>\n",
       "      <td>3</td>\n",
       "      <td>male</td>\n",
       "      <td>28.0</td>\n",
       "      <td>0</td>\n",
       "      <td>0</td>\n",
       "      <td>330877</td>\n",
       "      <td>Q</td>\n",
       "      <td>0</td>\n",
       "      <td>1912-03-30</td>\n",
       "    </tr>\n",
       "    <tr>\n",
       "      <th>...</th>\n",
       "      <td>...</td>\n",
       "      <td>...</td>\n",
       "      <td>...</td>\n",
       "      <td>...</td>\n",
       "      <td>...</td>\n",
       "      <td>...</td>\n",
       "      <td>...</td>\n",
       "      <td>...</td>\n",
       "      <td>...</td>\n",
       "    </tr>\n",
       "    <tr>\n",
       "      <th>880</th>\n",
       "      <td>2</td>\n",
       "      <td>male</td>\n",
       "      <td>27.0</td>\n",
       "      <td>0</td>\n",
       "      <td>0</td>\n",
       "      <td>211536</td>\n",
       "      <td>S</td>\n",
       "      <td>0</td>\n",
       "      <td>1912-01-29</td>\n",
       "    </tr>\n",
       "    <tr>\n",
       "      <th>881</th>\n",
       "      <td>1</td>\n",
       "      <td>female</td>\n",
       "      <td>19.0</td>\n",
       "      <td>0</td>\n",
       "      <td>0</td>\n",
       "      <td>112053</td>\n",
       "      <td>S</td>\n",
       "      <td>1</td>\n",
       "      <td>1912-03-30</td>\n",
       "    </tr>\n",
       "    <tr>\n",
       "      <th>882</th>\n",
       "      <td>3</td>\n",
       "      <td>female</td>\n",
       "      <td>28.0</td>\n",
       "      <td>1</td>\n",
       "      <td>2</td>\n",
       "      <td>W./C. 6607</td>\n",
       "      <td>S</td>\n",
       "      <td>0</td>\n",
       "      <td>1912-04-07</td>\n",
       "    </tr>\n",
       "    <tr>\n",
       "      <th>883</th>\n",
       "      <td>1</td>\n",
       "      <td>male</td>\n",
       "      <td>26.0</td>\n",
       "      <td>0</td>\n",
       "      <td>0</td>\n",
       "      <td>111369</td>\n",
       "      <td>C</td>\n",
       "      <td>1</td>\n",
       "      <td>1912-03-01</td>\n",
       "    </tr>\n",
       "    <tr>\n",
       "      <th>884</th>\n",
       "      <td>3</td>\n",
       "      <td>male</td>\n",
       "      <td>32.0</td>\n",
       "      <td>0</td>\n",
       "      <td>0</td>\n",
       "      <td>370376</td>\n",
       "      <td>Q</td>\n",
       "      <td>0</td>\n",
       "      <td>1912-03-05</td>\n",
       "    </tr>\n",
       "  </tbody>\n",
       "</table>\n",
       "<p>881 rows × 9 columns</p>\n",
       "</div>"
      ],
      "text/plain": [
       "     Pclass   Gendr   Age  SibSp  Parch      Ticket Embarked  Survived  \\\n",
       "0         3    male  22.0      1      0   A/5 21171        S         0   \n",
       "1         1  female  38.0      1      0    PC 17599        C         1   \n",
       "3         1  female   NaN      1      0      113803        S         1   \n",
       "4         3    male  35.0      0      0      373450        S         0   \n",
       "5         3    male  28.0      0      0      330877        Q         0   \n",
       "..      ...     ...   ...    ...    ...         ...      ...       ...   \n",
       "880       2    male  27.0      0      0      211536        S         0   \n",
       "881       1  female  19.0      0      0      112053        S         1   \n",
       "882       3  female  28.0      1      2  W./C. 6607        S         0   \n",
       "883       1    male  26.0      0      0      111369        C         1   \n",
       "884       3    male  32.0      0      0      370376        Q         0   \n",
       "\n",
       "    ticket_date  \n",
       "0    1912-01-12  \n",
       "1    1912-03-29  \n",
       "3    1912-03-28  \n",
       "4    1912-04-03  \n",
       "5    1912-03-30  \n",
       "..          ...  \n",
       "880  1912-01-29  \n",
       "881  1912-03-30  \n",
       "882  1912-04-07  \n",
       "883  1912-03-01  \n",
       "884  1912-03-05  \n",
       "\n",
       "[881 rows x 9 columns]"
      ]
     },
     "execution_count": 1252,
     "metadata": {},
     "output_type": "execute_result"
    }
   ],
   "source": [
    "data.drop(2, axis=0)"
   ]
  },
  {
   "cell_type": "code",
   "execution_count": 1253,
   "id": "giWpnBZrt7dP",
   "metadata": {
    "ExecuteTime": {
     "end_time": "2023-12-13T06:23:45.354923Z",
     "start_time": "2023-12-13T06:23:45.331755Z"
    },
    "executionInfo": {
     "elapsed": 23,
     "status": "aborted",
     "timestamp": 1702351344722,
     "user": {
      "displayName": "방승욱",
      "userId": "03816609317595006072"
     },
     "user_tz": -540
    },
    "id": "giWpnBZrt7dP"
   },
   "outputs": [
    {
     "data": {
      "text/html": [
       "<div>\n",
       "<style scoped>\n",
       "    .dataframe tbody tr th:only-of-type {\n",
       "        vertical-align: middle;\n",
       "    }\n",
       "\n",
       "    .dataframe tbody tr th {\n",
       "        vertical-align: top;\n",
       "    }\n",
       "\n",
       "    .dataframe thead th {\n",
       "        text-align: right;\n",
       "    }\n",
       "</style>\n",
       "<table border=\"1\" class=\"dataframe\">\n",
       "  <thead>\n",
       "    <tr style=\"text-align: right;\">\n",
       "      <th></th>\n",
       "      <th>Gendr</th>\n",
       "      <th>SibSp</th>\n",
       "      <th>Parch</th>\n",
       "      <th>Ticket</th>\n",
       "      <th>Embarked</th>\n",
       "      <th>Survived</th>\n",
       "      <th>ticket_date</th>\n",
       "    </tr>\n",
       "  </thead>\n",
       "  <tbody>\n",
       "    <tr>\n",
       "      <th>0</th>\n",
       "      <td>male</td>\n",
       "      <td>1</td>\n",
       "      <td>0</td>\n",
       "      <td>A/5 21171</td>\n",
       "      <td>S</td>\n",
       "      <td>0</td>\n",
       "      <td>1912-01-12</td>\n",
       "    </tr>\n",
       "    <tr>\n",
       "      <th>1</th>\n",
       "      <td>female</td>\n",
       "      <td>1</td>\n",
       "      <td>0</td>\n",
       "      <td>PC 17599</td>\n",
       "      <td>C</td>\n",
       "      <td>1</td>\n",
       "      <td>1912-03-29</td>\n",
       "    </tr>\n",
       "    <tr>\n",
       "      <th>2</th>\n",
       "      <td>female</td>\n",
       "      <td>0</td>\n",
       "      <td>0</td>\n",
       "      <td>STON/O2. 3101282</td>\n",
       "      <td>S</td>\n",
       "      <td>1</td>\n",
       "      <td>1912-02-23</td>\n",
       "    </tr>\n",
       "    <tr>\n",
       "      <th>3</th>\n",
       "      <td>female</td>\n",
       "      <td>1</td>\n",
       "      <td>0</td>\n",
       "      <td>113803</td>\n",
       "      <td>S</td>\n",
       "      <td>1</td>\n",
       "      <td>1912-03-28</td>\n",
       "    </tr>\n",
       "    <tr>\n",
       "      <th>4</th>\n",
       "      <td>male</td>\n",
       "      <td>0</td>\n",
       "      <td>0</td>\n",
       "      <td>373450</td>\n",
       "      <td>S</td>\n",
       "      <td>0</td>\n",
       "      <td>1912-04-03</td>\n",
       "    </tr>\n",
       "    <tr>\n",
       "      <th>...</th>\n",
       "      <td>...</td>\n",
       "      <td>...</td>\n",
       "      <td>...</td>\n",
       "      <td>...</td>\n",
       "      <td>...</td>\n",
       "      <td>...</td>\n",
       "      <td>...</td>\n",
       "    </tr>\n",
       "    <tr>\n",
       "      <th>880</th>\n",
       "      <td>male</td>\n",
       "      <td>0</td>\n",
       "      <td>0</td>\n",
       "      <td>211536</td>\n",
       "      <td>S</td>\n",
       "      <td>0</td>\n",
       "      <td>1912-01-29</td>\n",
       "    </tr>\n",
       "    <tr>\n",
       "      <th>881</th>\n",
       "      <td>female</td>\n",
       "      <td>0</td>\n",
       "      <td>0</td>\n",
       "      <td>112053</td>\n",
       "      <td>S</td>\n",
       "      <td>1</td>\n",
       "      <td>1912-03-30</td>\n",
       "    </tr>\n",
       "    <tr>\n",
       "      <th>882</th>\n",
       "      <td>female</td>\n",
       "      <td>1</td>\n",
       "      <td>2</td>\n",
       "      <td>W./C. 6607</td>\n",
       "      <td>S</td>\n",
       "      <td>0</td>\n",
       "      <td>1912-04-07</td>\n",
       "    </tr>\n",
       "    <tr>\n",
       "      <th>883</th>\n",
       "      <td>male</td>\n",
       "      <td>0</td>\n",
       "      <td>0</td>\n",
       "      <td>111369</td>\n",
       "      <td>C</td>\n",
       "      <td>1</td>\n",
       "      <td>1912-03-01</td>\n",
       "    </tr>\n",
       "    <tr>\n",
       "      <th>884</th>\n",
       "      <td>male</td>\n",
       "      <td>0</td>\n",
       "      <td>0</td>\n",
       "      <td>370376</td>\n",
       "      <td>Q</td>\n",
       "      <td>0</td>\n",
       "      <td>1912-03-05</td>\n",
       "    </tr>\n",
       "  </tbody>\n",
       "</table>\n",
       "<p>882 rows × 7 columns</p>\n",
       "</div>"
      ],
      "text/plain": [
       "      Gendr  SibSp  Parch            Ticket Embarked  Survived ticket_date\n",
       "0      male      1      0         A/5 21171        S         0  1912-01-12\n",
       "1    female      1      0          PC 17599        C         1  1912-03-29\n",
       "2    female      0      0  STON/O2. 3101282        S         1  1912-02-23\n",
       "3    female      1      0            113803        S         1  1912-03-28\n",
       "4      male      0      0            373450        S         0  1912-04-03\n",
       "..      ...    ...    ...               ...      ...       ...         ...\n",
       "880    male      0      0            211536        S         0  1912-01-29\n",
       "881  female      0      0            112053        S         1  1912-03-30\n",
       "882  female      1      2        W./C. 6607        S         0  1912-04-07\n",
       "883    male      0      0            111369        C         1  1912-03-01\n",
       "884    male      0      0            370376        Q         0  1912-03-05\n",
       "\n",
       "[882 rows x 7 columns]"
      ]
     },
     "execution_count": 1253,
     "metadata": {},
     "output_type": "execute_result"
    }
   ],
   "source": [
    "data.drop(['Pclass','Age'], axis=1)"
   ]
  },
  {
   "cell_type": "code",
   "execution_count": 1254,
   "id": "LJUlJ6-qt7iu",
   "metadata": {
    "ExecuteTime": {
     "end_time": "2023-12-13T06:23:45.373911Z",
     "start_time": "2023-12-13T06:23:45.357814Z"
    },
    "executionInfo": {
     "elapsed": 23,
     "status": "aborted",
     "timestamp": 1702351344722,
     "user": {
      "displayName": "방승욱",
      "userId": "03816609317595006072"
     },
     "user_tz": -540
    },
    "id": "LJUlJ6-qt7iu"
   },
   "outputs": [
    {
     "data": {
      "text/html": [
       "<div>\n",
       "<style scoped>\n",
       "    .dataframe tbody tr th:only-of-type {\n",
       "        vertical-align: middle;\n",
       "    }\n",
       "\n",
       "    .dataframe tbody tr th {\n",
       "        vertical-align: top;\n",
       "    }\n",
       "\n",
       "    .dataframe thead th {\n",
       "        text-align: right;\n",
       "    }\n",
       "</style>\n",
       "<table border=\"1\" class=\"dataframe\">\n",
       "  <thead>\n",
       "    <tr style=\"text-align: right;\">\n",
       "      <th></th>\n",
       "      <th>Pclass</th>\n",
       "      <th>Gendr</th>\n",
       "      <th>Age</th>\n",
       "      <th>SibSp</th>\n",
       "      <th>Parch</th>\n",
       "      <th>Ticket</th>\n",
       "      <th>Embarked</th>\n",
       "      <th>Survived</th>\n",
       "      <th>ticket_date</th>\n",
       "    </tr>\n",
       "  </thead>\n",
       "  <tbody>\n",
       "    <tr>\n",
       "      <th>4</th>\n",
       "      <td>3</td>\n",
       "      <td>male</td>\n",
       "      <td>35.0</td>\n",
       "      <td>0</td>\n",
       "      <td>0</td>\n",
       "      <td>373450</td>\n",
       "      <td>S</td>\n",
       "      <td>0</td>\n",
       "      <td>1912-04-03</td>\n",
       "    </tr>\n",
       "    <tr>\n",
       "      <th>5</th>\n",
       "      <td>3</td>\n",
       "      <td>male</td>\n",
       "      <td>28.0</td>\n",
       "      <td>0</td>\n",
       "      <td>0</td>\n",
       "      <td>330877</td>\n",
       "      <td>Q</td>\n",
       "      <td>0</td>\n",
       "      <td>1912-03-30</td>\n",
       "    </tr>\n",
       "    <tr>\n",
       "      <th>6</th>\n",
       "      <td>1</td>\n",
       "      <td>male</td>\n",
       "      <td>54.0</td>\n",
       "      <td>0</td>\n",
       "      <td>0</td>\n",
       "      <td>17463</td>\n",
       "      <td>S</td>\n",
       "      <td>0</td>\n",
       "      <td>1912-03-14</td>\n",
       "    </tr>\n",
       "  </tbody>\n",
       "</table>\n",
       "</div>"
      ],
      "text/plain": [
       "   Pclass Gendr   Age  SibSp  Parch  Ticket Embarked  Survived ticket_date\n",
       "4       3  male  35.0      0      0  373450        S         0  1912-04-03\n",
       "5       3  male  28.0      0      0  330877        Q         0  1912-03-30\n",
       "6       1  male  54.0      0      0   17463        S         0  1912-03-14"
      ]
     },
     "execution_count": 1254,
     "metadata": {},
     "output_type": "execute_result"
    }
   ],
   "source": [
    "data.loc[[4,5,6]]"
   ]
  },
  {
   "cell_type": "code",
   "execution_count": 1255,
   "id": "oO57JycOt7lk",
   "metadata": {
    "ExecuteTime": {
     "end_time": "2023-12-13T06:23:45.400907Z",
     "start_time": "2023-12-13T06:23:45.376844Z"
    },
    "executionInfo": {
     "elapsed": 23,
     "status": "aborted",
     "timestamp": 1702351344722,
     "user": {
      "displayName": "방승욱",
      "userId": "03816609317595006072"
     },
     "user_tz": -540
    },
    "id": "oO57JycOt7lk"
   },
   "outputs": [
    {
     "data": {
      "text/html": [
       "<div>\n",
       "<style scoped>\n",
       "    .dataframe tbody tr th:only-of-type {\n",
       "        vertical-align: middle;\n",
       "    }\n",
       "\n",
       "    .dataframe tbody tr th {\n",
       "        vertical-align: top;\n",
       "    }\n",
       "\n",
       "    .dataframe thead th {\n",
       "        text-align: right;\n",
       "    }\n",
       "</style>\n",
       "<table border=\"1\" class=\"dataframe\">\n",
       "  <thead>\n",
       "    <tr style=\"text-align: right;\">\n",
       "      <th></th>\n",
       "      <th>Pclass</th>\n",
       "      <th>Gendr</th>\n",
       "      <th>Age</th>\n",
       "      <th>SibSp</th>\n",
       "      <th>Parch</th>\n",
       "      <th>Ticket</th>\n",
       "      <th>Embarked</th>\n",
       "      <th>Survived</th>\n",
       "      <th>ticket_date</th>\n",
       "    </tr>\n",
       "  </thead>\n",
       "  <tbody>\n",
       "    <tr>\n",
       "      <th>4</th>\n",
       "      <td>3</td>\n",
       "      <td>male</td>\n",
       "      <td>35.0</td>\n",
       "      <td>0</td>\n",
       "      <td>0</td>\n",
       "      <td>373450</td>\n",
       "      <td>S</td>\n",
       "      <td>0</td>\n",
       "      <td>1912-04-03</td>\n",
       "    </tr>\n",
       "    <tr>\n",
       "      <th>5</th>\n",
       "      <td>3</td>\n",
       "      <td>male</td>\n",
       "      <td>28.0</td>\n",
       "      <td>0</td>\n",
       "      <td>0</td>\n",
       "      <td>330877</td>\n",
       "      <td>Q</td>\n",
       "      <td>0</td>\n",
       "      <td>1912-03-30</td>\n",
       "    </tr>\n",
       "    <tr>\n",
       "      <th>6</th>\n",
       "      <td>1</td>\n",
       "      <td>male</td>\n",
       "      <td>54.0</td>\n",
       "      <td>0</td>\n",
       "      <td>0</td>\n",
       "      <td>17463</td>\n",
       "      <td>S</td>\n",
       "      <td>0</td>\n",
       "      <td>1912-03-14</td>\n",
       "    </tr>\n",
       "    <tr>\n",
       "      <th>7</th>\n",
       "      <td>3</td>\n",
       "      <td>male</td>\n",
       "      <td>2.0</td>\n",
       "      <td>3</td>\n",
       "      <td>1</td>\n",
       "      <td>349909</td>\n",
       "      <td>S</td>\n",
       "      <td>0</td>\n",
       "      <td>1912-03-14</td>\n",
       "    </tr>\n",
       "    <tr>\n",
       "      <th>8</th>\n",
       "      <td>3</td>\n",
       "      <td>female</td>\n",
       "      <td>27.0</td>\n",
       "      <td>0</td>\n",
       "      <td>2</td>\n",
       "      <td>347742</td>\n",
       "      <td>S</td>\n",
       "      <td>1</td>\n",
       "      <td>1912-01-30</td>\n",
       "    </tr>\n",
       "    <tr>\n",
       "      <th>...</th>\n",
       "      <td>...</td>\n",
       "      <td>...</td>\n",
       "      <td>...</td>\n",
       "      <td>...</td>\n",
       "      <td>...</td>\n",
       "      <td>...</td>\n",
       "      <td>...</td>\n",
       "      <td>...</td>\n",
       "      <td>...</td>\n",
       "    </tr>\n",
       "    <tr>\n",
       "      <th>880</th>\n",
       "      <td>2</td>\n",
       "      <td>male</td>\n",
       "      <td>27.0</td>\n",
       "      <td>0</td>\n",
       "      <td>0</td>\n",
       "      <td>211536</td>\n",
       "      <td>S</td>\n",
       "      <td>0</td>\n",
       "      <td>1912-01-29</td>\n",
       "    </tr>\n",
       "    <tr>\n",
       "      <th>881</th>\n",
       "      <td>1</td>\n",
       "      <td>female</td>\n",
       "      <td>19.0</td>\n",
       "      <td>0</td>\n",
       "      <td>0</td>\n",
       "      <td>112053</td>\n",
       "      <td>S</td>\n",
       "      <td>1</td>\n",
       "      <td>1912-03-30</td>\n",
       "    </tr>\n",
       "    <tr>\n",
       "      <th>882</th>\n",
       "      <td>3</td>\n",
       "      <td>female</td>\n",
       "      <td>28.0</td>\n",
       "      <td>1</td>\n",
       "      <td>2</td>\n",
       "      <td>W./C. 6607</td>\n",
       "      <td>S</td>\n",
       "      <td>0</td>\n",
       "      <td>1912-04-07</td>\n",
       "    </tr>\n",
       "    <tr>\n",
       "      <th>883</th>\n",
       "      <td>1</td>\n",
       "      <td>male</td>\n",
       "      <td>26.0</td>\n",
       "      <td>0</td>\n",
       "      <td>0</td>\n",
       "      <td>111369</td>\n",
       "      <td>C</td>\n",
       "      <td>1</td>\n",
       "      <td>1912-03-01</td>\n",
       "    </tr>\n",
       "    <tr>\n",
       "      <th>884</th>\n",
       "      <td>3</td>\n",
       "      <td>male</td>\n",
       "      <td>32.0</td>\n",
       "      <td>0</td>\n",
       "      <td>0</td>\n",
       "      <td>370376</td>\n",
       "      <td>Q</td>\n",
       "      <td>0</td>\n",
       "      <td>1912-03-05</td>\n",
       "    </tr>\n",
       "  </tbody>\n",
       "</table>\n",
       "<p>878 rows × 9 columns</p>\n",
       "</div>"
      ],
      "text/plain": [
       "     Pclass   Gendr   Age  SibSp  Parch      Ticket Embarked  Survived  \\\n",
       "4         3    male  35.0      0      0      373450        S         0   \n",
       "5         3    male  28.0      0      0      330877        Q         0   \n",
       "6         1    male  54.0      0      0       17463        S         0   \n",
       "7         3    male   2.0      3      1      349909        S         0   \n",
       "8         3  female  27.0      0      2      347742        S         1   \n",
       "..      ...     ...   ...    ...    ...         ...      ...       ...   \n",
       "880       2    male  27.0      0      0      211536        S         0   \n",
       "881       1  female  19.0      0      0      112053        S         1   \n",
       "882       3  female  28.0      1      2  W./C. 6607        S         0   \n",
       "883       1    male  26.0      0      0      111369        C         1   \n",
       "884       3    male  32.0      0      0      370376        Q         0   \n",
       "\n",
       "    ticket_date  \n",
       "4    1912-04-03  \n",
       "5    1912-03-30  \n",
       "6    1912-03-14  \n",
       "7    1912-03-14  \n",
       "8    1912-01-30  \n",
       "..          ...  \n",
       "880  1912-01-29  \n",
       "881  1912-03-30  \n",
       "882  1912-04-07  \n",
       "883  1912-03-01  \n",
       "884  1912-03-05  \n",
       "\n",
       "[878 rows x 9 columns]"
      ]
     },
     "execution_count": 1255,
     "metadata": {},
     "output_type": "execute_result"
    }
   ],
   "source": [
    "data.loc[4:]"
   ]
  },
  {
   "cell_type": "code",
   "execution_count": 1256,
   "id": "k3eMH7gVt7oY",
   "metadata": {
    "ExecuteTime": {
     "end_time": "2023-12-13T06:23:45.419903Z",
     "start_time": "2023-12-13T06:23:45.403839Z"
    },
    "executionInfo": {
     "elapsed": 23,
     "status": "aborted",
     "timestamp": 1702351344722,
     "user": {
      "displayName": "방승욱",
      "userId": "03816609317595006072"
     },
     "user_tz": -540
    },
    "id": "k3eMH7gVt7oY"
   },
   "outputs": [
    {
     "data": {
      "text/html": [
       "<div>\n",
       "<style scoped>\n",
       "    .dataframe tbody tr th:only-of-type {\n",
       "        vertical-align: middle;\n",
       "    }\n",
       "\n",
       "    .dataframe tbody tr th {\n",
       "        vertical-align: top;\n",
       "    }\n",
       "\n",
       "    .dataframe thead th {\n",
       "        text-align: right;\n",
       "    }\n",
       "</style>\n",
       "<table border=\"1\" class=\"dataframe\">\n",
       "  <thead>\n",
       "    <tr style=\"text-align: right;\">\n",
       "      <th></th>\n",
       "      <th>Pclass</th>\n",
       "      <th>Gendr</th>\n",
       "      <th>Age</th>\n",
       "      <th>SibSp</th>\n",
       "      <th>Parch</th>\n",
       "      <th>Ticket</th>\n",
       "      <th>Embarked</th>\n",
       "      <th>Survived</th>\n",
       "      <th>ticket_date</th>\n",
       "    </tr>\n",
       "  </thead>\n",
       "  <tbody>\n",
       "    <tr>\n",
       "      <th>4</th>\n",
       "      <td>3</td>\n",
       "      <td>male</td>\n",
       "      <td>35.0</td>\n",
       "      <td>0</td>\n",
       "      <td>0</td>\n",
       "      <td>373450</td>\n",
       "      <td>S</td>\n",
       "      <td>0</td>\n",
       "      <td>1912-04-03</td>\n",
       "    </tr>\n",
       "    <tr>\n",
       "      <th>5</th>\n",
       "      <td>3</td>\n",
       "      <td>male</td>\n",
       "      <td>28.0</td>\n",
       "      <td>0</td>\n",
       "      <td>0</td>\n",
       "      <td>330877</td>\n",
       "      <td>Q</td>\n",
       "      <td>0</td>\n",
       "      <td>1912-03-30</td>\n",
       "    </tr>\n",
       "    <tr>\n",
       "      <th>6</th>\n",
       "      <td>1</td>\n",
       "      <td>male</td>\n",
       "      <td>54.0</td>\n",
       "      <td>0</td>\n",
       "      <td>0</td>\n",
       "      <td>17463</td>\n",
       "      <td>S</td>\n",
       "      <td>0</td>\n",
       "      <td>1912-03-14</td>\n",
       "    </tr>\n",
       "  </tbody>\n",
       "</table>\n",
       "</div>"
      ],
      "text/plain": [
       "   Pclass Gendr   Age  SibSp  Parch  Ticket Embarked  Survived ticket_date\n",
       "4       3  male  35.0      0      0  373450        S         0  1912-04-03\n",
       "5       3  male  28.0      0      0  330877        Q         0  1912-03-30\n",
       "6       1  male  54.0      0      0   17463        S         0  1912-03-14"
      ]
     },
     "execution_count": 1256,
     "metadata": {},
     "output_type": "execute_result"
    }
   ],
   "source": [
    "data.loc[[4, 5, 6]]"
   ]
  },
  {
   "cell_type": "code",
   "execution_count": 1257,
   "id": "qDredDK-t7rG",
   "metadata": {
    "ExecuteTime": {
     "end_time": "2023-12-13T06:23:45.440911Z",
     "start_time": "2023-12-13T06:23:45.422599Z"
    },
    "executionInfo": {
     "elapsed": 23,
     "status": "aborted",
     "timestamp": 1702351344722,
     "user": {
      "displayName": "방승욱",
      "userId": "03816609317595006072"
     },
     "user_tz": -540
    },
    "id": "qDredDK-t7rG"
   },
   "outputs": [
    {
     "data": {
      "text/html": [
       "<div>\n",
       "<style scoped>\n",
       "    .dataframe tbody tr th:only-of-type {\n",
       "        vertical-align: middle;\n",
       "    }\n",
       "\n",
       "    .dataframe tbody tr th {\n",
       "        vertical-align: top;\n",
       "    }\n",
       "\n",
       "    .dataframe thead th {\n",
       "        text-align: right;\n",
       "    }\n",
       "</style>\n",
       "<table border=\"1\" class=\"dataframe\">\n",
       "  <thead>\n",
       "    <tr style=\"text-align: right;\">\n",
       "      <th></th>\n",
       "      <th>Pclass</th>\n",
       "      <th>Gendr</th>\n",
       "      <th>Age</th>\n",
       "      <th>SibSp</th>\n",
       "      <th>Parch</th>\n",
       "      <th>Ticket</th>\n",
       "      <th>Embarked</th>\n",
       "      <th>Survived</th>\n",
       "      <th>ticket_date</th>\n",
       "    </tr>\n",
       "  </thead>\n",
       "  <tbody>\n",
       "    <tr>\n",
       "      <th>4</th>\n",
       "      <td>3</td>\n",
       "      <td>male</td>\n",
       "      <td>35.0</td>\n",
       "      <td>0</td>\n",
       "      <td>0</td>\n",
       "      <td>373450</td>\n",
       "      <td>S</td>\n",
       "      <td>0</td>\n",
       "      <td>1912-04-03</td>\n",
       "    </tr>\n",
       "    <tr>\n",
       "      <th>5</th>\n",
       "      <td>3</td>\n",
       "      <td>male</td>\n",
       "      <td>28.0</td>\n",
       "      <td>0</td>\n",
       "      <td>0</td>\n",
       "      <td>330877</td>\n",
       "      <td>Q</td>\n",
       "      <td>0</td>\n",
       "      <td>1912-03-30</td>\n",
       "    </tr>\n",
       "    <tr>\n",
       "      <th>6</th>\n",
       "      <td>1</td>\n",
       "      <td>male</td>\n",
       "      <td>54.0</td>\n",
       "      <td>0</td>\n",
       "      <td>0</td>\n",
       "      <td>17463</td>\n",
       "      <td>S</td>\n",
       "      <td>0</td>\n",
       "      <td>1912-03-14</td>\n",
       "    </tr>\n",
       "  </tbody>\n",
       "</table>\n",
       "</div>"
      ],
      "text/plain": [
       "   Pclass Gendr   Age  SibSp  Parch  Ticket Embarked  Survived ticket_date\n",
       "4       3  male  35.0      0      0  373450        S         0  1912-04-03\n",
       "5       3  male  28.0      0      0  330877        Q         0  1912-03-30\n",
       "6       1  male  54.0      0      0   17463        S         0  1912-03-14"
      ]
     },
     "execution_count": 1257,
     "metadata": {},
     "output_type": "execute_result"
    }
   ],
   "source": [
    "data.iloc[[4, 5, 6]]"
   ]
  },
  {
   "cell_type": "code",
   "execution_count": 1258,
   "id": "-mBwVfQft7uD",
   "metadata": {
    "ExecuteTime": {
     "end_time": "2023-12-13T06:23:45.452892Z",
     "start_time": "2023-12-13T06:23:45.447569Z"
    },
    "executionInfo": {
     "elapsed": 23,
     "status": "aborted",
     "timestamp": 1702351344722,
     "user": {
      "displayName": "방승욱",
      "userId": "03816609317595006072"
     },
     "user_tz": -540
    },
    "id": "-mBwVfQft7uD"
   },
   "outputs": [],
   "source": [
    "temp = data.head().copy()"
   ]
  },
  {
   "cell_type": "code",
   "execution_count": 1259,
   "id": "U6YGNU7UudTq",
   "metadata": {
    "ExecuteTime": {
     "end_time": "2023-12-13T06:23:45.459989Z",
     "start_time": "2023-12-13T06:23:45.455586Z"
    },
    "executionInfo": {
     "elapsed": 23,
     "status": "aborted",
     "timestamp": 1702351344722,
     "user": {
      "displayName": "방승욱",
      "userId": "03816609317595006072"
     },
     "user_tz": -540
    },
    "id": "U6YGNU7UudTq"
   },
   "outputs": [],
   "source": [
    "temp.index = ['a', 'b', 'c', 'd', 'e']"
   ]
  },
  {
   "cell_type": "code",
   "execution_count": 1260,
   "id": "ORLcCkHcudl_",
   "metadata": {
    "ExecuteTime": {
     "end_time": "2023-12-13T06:23:45.480891Z",
     "start_time": "2023-12-13T06:23:45.462831Z"
    },
    "executionInfo": {
     "elapsed": 23,
     "status": "aborted",
     "timestamp": 1702351344722,
     "user": {
      "displayName": "방승욱",
      "userId": "03816609317595006072"
     },
     "user_tz": -540
    },
    "id": "ORLcCkHcudl_"
   },
   "outputs": [
    {
     "data": {
      "text/html": [
       "<div>\n",
       "<style scoped>\n",
       "    .dataframe tbody tr th:only-of-type {\n",
       "        vertical-align: middle;\n",
       "    }\n",
       "\n",
       "    .dataframe tbody tr th {\n",
       "        vertical-align: top;\n",
       "    }\n",
       "\n",
       "    .dataframe thead th {\n",
       "        text-align: right;\n",
       "    }\n",
       "</style>\n",
       "<table border=\"1\" class=\"dataframe\">\n",
       "  <thead>\n",
       "    <tr style=\"text-align: right;\">\n",
       "      <th></th>\n",
       "      <th>Pclass</th>\n",
       "      <th>Gendr</th>\n",
       "      <th>Age</th>\n",
       "      <th>SibSp</th>\n",
       "      <th>Parch</th>\n",
       "      <th>Ticket</th>\n",
       "      <th>Embarked</th>\n",
       "      <th>Survived</th>\n",
       "      <th>ticket_date</th>\n",
       "    </tr>\n",
       "  </thead>\n",
       "  <tbody>\n",
       "    <tr>\n",
       "      <th>a</th>\n",
       "      <td>3</td>\n",
       "      <td>male</td>\n",
       "      <td>22.0</td>\n",
       "      <td>1</td>\n",
       "      <td>0</td>\n",
       "      <td>A/5 21171</td>\n",
       "      <td>S</td>\n",
       "      <td>0</td>\n",
       "      <td>1912-01-12</td>\n",
       "    </tr>\n",
       "    <tr>\n",
       "      <th>b</th>\n",
       "      <td>1</td>\n",
       "      <td>female</td>\n",
       "      <td>38.0</td>\n",
       "      <td>1</td>\n",
       "      <td>0</td>\n",
       "      <td>PC 17599</td>\n",
       "      <td>C</td>\n",
       "      <td>1</td>\n",
       "      <td>1912-03-29</td>\n",
       "    </tr>\n",
       "    <tr>\n",
       "      <th>c</th>\n",
       "      <td>3</td>\n",
       "      <td>female</td>\n",
       "      <td>26.0</td>\n",
       "      <td>0</td>\n",
       "      <td>0</td>\n",
       "      <td>STON/O2. 3101282</td>\n",
       "      <td>S</td>\n",
       "      <td>1</td>\n",
       "      <td>1912-02-23</td>\n",
       "    </tr>\n",
       "    <tr>\n",
       "      <th>d</th>\n",
       "      <td>1</td>\n",
       "      <td>female</td>\n",
       "      <td>NaN</td>\n",
       "      <td>1</td>\n",
       "      <td>0</td>\n",
       "      <td>113803</td>\n",
       "      <td>S</td>\n",
       "      <td>1</td>\n",
       "      <td>1912-03-28</td>\n",
       "    </tr>\n",
       "    <tr>\n",
       "      <th>e</th>\n",
       "      <td>3</td>\n",
       "      <td>male</td>\n",
       "      <td>35.0</td>\n",
       "      <td>0</td>\n",
       "      <td>0</td>\n",
       "      <td>373450</td>\n",
       "      <td>S</td>\n",
       "      <td>0</td>\n",
       "      <td>1912-04-03</td>\n",
       "    </tr>\n",
       "  </tbody>\n",
       "</table>\n",
       "</div>"
      ],
      "text/plain": [
       "   Pclass   Gendr   Age  SibSp  Parch            Ticket Embarked  Survived  \\\n",
       "a       3    male  22.0      1      0         A/5 21171        S         0   \n",
       "b       1  female  38.0      1      0          PC 17599        C         1   \n",
       "c       3  female  26.0      0      0  STON/O2. 3101282        S         1   \n",
       "d       1  female   NaN      1      0            113803        S         1   \n",
       "e       3    male  35.0      0      0            373450        S         0   \n",
       "\n",
       "  ticket_date  \n",
       "a  1912-01-12  \n",
       "b  1912-03-29  \n",
       "c  1912-02-23  \n",
       "d  1912-03-28  \n",
       "e  1912-04-03  "
      ]
     },
     "execution_count": 1260,
     "metadata": {},
     "output_type": "execute_result"
    }
   ],
   "source": [
    "temp"
   ]
  },
  {
   "cell_type": "code",
   "execution_count": 1261,
   "id": "UWJw8_WEuds8",
   "metadata": {
    "ExecuteTime": {
     "end_time": "2023-12-13T06:23:45.502908Z",
     "start_time": "2023-12-13T06:23:45.483108Z"
    },
    "executionInfo": {
     "elapsed": 22,
     "status": "aborted",
     "timestamp": 1702351344722,
     "user": {
      "displayName": "방승욱",
      "userId": "03816609317595006072"
     },
     "user_tz": -540
    },
    "id": "UWJw8_WEuds8"
   },
   "outputs": [
    {
     "data": {
      "text/plain": [
       "Pclass                        3\n",
       "Gendr                    female\n",
       "Age                        26.0\n",
       "SibSp                         0\n",
       "Parch                         0\n",
       "Ticket         STON/O2. 3101282\n",
       "Embarked                      S\n",
       "Survived                      1\n",
       "ticket_date          1912-02-23\n",
       "Name: c, dtype: object"
      ]
     },
     "execution_count": 1261,
     "metadata": {},
     "output_type": "execute_result"
    }
   ],
   "source": [
    "temp.loc['c']"
   ]
  },
  {
   "cell_type": "code",
   "execution_count": 1262,
   "id": "9rbA1iBjudwD",
   "metadata": {
    "ExecuteTime": {
     "end_time": "2023-12-13T06:23:45.514937Z",
     "start_time": "2023-12-13T06:23:45.506308Z"
    },
    "executionInfo": {
     "elapsed": 22,
     "status": "aborted",
     "timestamp": 1702351344722,
     "user": {
      "displayName": "방승욱",
      "userId": "03816609317595006072"
     },
     "user_tz": -540
    },
    "id": "9rbA1iBjudwD"
   },
   "outputs": [
    {
     "data": {
      "text/plain": [
       "Pclass                        3\n",
       "Gendr                    female\n",
       "Age                        26.0\n",
       "SibSp                         0\n",
       "Parch                         0\n",
       "Ticket         STON/O2. 3101282\n",
       "Embarked                      S\n",
       "Survived                      1\n",
       "ticket_date          1912-02-23\n",
       "Name: c, dtype: object"
      ]
     },
     "execution_count": 1262,
     "metadata": {},
     "output_type": "execute_result"
    }
   ],
   "source": [
    "temp.iloc[2]"
   ]
  },
  {
   "cell_type": "code",
   "execution_count": 1263,
   "id": "YrOMOFJdudzM",
   "metadata": {
    "ExecuteTime": {
     "end_time": "2023-12-13T06:23:45.541917Z",
     "start_time": "2023-12-13T06:23:45.519497Z"
    },
    "executionInfo": {
     "elapsed": 22,
     "status": "aborted",
     "timestamp": 1702351344722,
     "user": {
      "displayName": "방승욱",
      "userId": "03816609317595006072"
     },
     "user_tz": -540
    },
    "id": "YrOMOFJdudzM"
   },
   "outputs": [
    {
     "data": {
      "text/html": [
       "<div>\n",
       "<style scoped>\n",
       "    .dataframe tbody tr th:only-of-type {\n",
       "        vertical-align: middle;\n",
       "    }\n",
       "\n",
       "    .dataframe tbody tr th {\n",
       "        vertical-align: top;\n",
       "    }\n",
       "\n",
       "    .dataframe thead th {\n",
       "        text-align: right;\n",
       "    }\n",
       "</style>\n",
       "<table border=\"1\" class=\"dataframe\">\n",
       "  <thead>\n",
       "    <tr style=\"text-align: right;\">\n",
       "      <th></th>\n",
       "      <th>Pclass</th>\n",
       "      <th>Gendr</th>\n",
       "      <th>Age</th>\n",
       "      <th>SibSp</th>\n",
       "      <th>Parch</th>\n",
       "      <th>Ticket</th>\n",
       "      <th>Embarked</th>\n",
       "      <th>Survived</th>\n",
       "      <th>ticket_date</th>\n",
       "    </tr>\n",
       "  </thead>\n",
       "  <tbody>\n",
       "    <tr>\n",
       "      <th>0</th>\n",
       "      <td>False</td>\n",
       "      <td>False</td>\n",
       "      <td>False</td>\n",
       "      <td>False</td>\n",
       "      <td>False</td>\n",
       "      <td>False</td>\n",
       "      <td>False</td>\n",
       "      <td>False</td>\n",
       "      <td>False</td>\n",
       "    </tr>\n",
       "    <tr>\n",
       "      <th>1</th>\n",
       "      <td>False</td>\n",
       "      <td>False</td>\n",
       "      <td>False</td>\n",
       "      <td>False</td>\n",
       "      <td>False</td>\n",
       "      <td>False</td>\n",
       "      <td>False</td>\n",
       "      <td>False</td>\n",
       "      <td>False</td>\n",
       "    </tr>\n",
       "    <tr>\n",
       "      <th>2</th>\n",
       "      <td>False</td>\n",
       "      <td>False</td>\n",
       "      <td>False</td>\n",
       "      <td>False</td>\n",
       "      <td>False</td>\n",
       "      <td>False</td>\n",
       "      <td>False</td>\n",
       "      <td>False</td>\n",
       "      <td>False</td>\n",
       "    </tr>\n",
       "    <tr>\n",
       "      <th>3</th>\n",
       "      <td>False</td>\n",
       "      <td>False</td>\n",
       "      <td>True</td>\n",
       "      <td>False</td>\n",
       "      <td>False</td>\n",
       "      <td>False</td>\n",
       "      <td>False</td>\n",
       "      <td>False</td>\n",
       "      <td>False</td>\n",
       "    </tr>\n",
       "    <tr>\n",
       "      <th>4</th>\n",
       "      <td>False</td>\n",
       "      <td>False</td>\n",
       "      <td>False</td>\n",
       "      <td>False</td>\n",
       "      <td>False</td>\n",
       "      <td>False</td>\n",
       "      <td>False</td>\n",
       "      <td>False</td>\n",
       "      <td>False</td>\n",
       "    </tr>\n",
       "    <tr>\n",
       "      <th>...</th>\n",
       "      <td>...</td>\n",
       "      <td>...</td>\n",
       "      <td>...</td>\n",
       "      <td>...</td>\n",
       "      <td>...</td>\n",
       "      <td>...</td>\n",
       "      <td>...</td>\n",
       "      <td>...</td>\n",
       "      <td>...</td>\n",
       "    </tr>\n",
       "    <tr>\n",
       "      <th>880</th>\n",
       "      <td>False</td>\n",
       "      <td>False</td>\n",
       "      <td>False</td>\n",
       "      <td>False</td>\n",
       "      <td>False</td>\n",
       "      <td>False</td>\n",
       "      <td>False</td>\n",
       "      <td>False</td>\n",
       "      <td>False</td>\n",
       "    </tr>\n",
       "    <tr>\n",
       "      <th>881</th>\n",
       "      <td>False</td>\n",
       "      <td>False</td>\n",
       "      <td>False</td>\n",
       "      <td>False</td>\n",
       "      <td>False</td>\n",
       "      <td>False</td>\n",
       "      <td>False</td>\n",
       "      <td>False</td>\n",
       "      <td>False</td>\n",
       "    </tr>\n",
       "    <tr>\n",
       "      <th>882</th>\n",
       "      <td>False</td>\n",
       "      <td>False</td>\n",
       "      <td>False</td>\n",
       "      <td>False</td>\n",
       "      <td>False</td>\n",
       "      <td>False</td>\n",
       "      <td>False</td>\n",
       "      <td>False</td>\n",
       "      <td>False</td>\n",
       "    </tr>\n",
       "    <tr>\n",
       "      <th>883</th>\n",
       "      <td>False</td>\n",
       "      <td>False</td>\n",
       "      <td>False</td>\n",
       "      <td>False</td>\n",
       "      <td>False</td>\n",
       "      <td>False</td>\n",
       "      <td>False</td>\n",
       "      <td>False</td>\n",
       "      <td>False</td>\n",
       "    </tr>\n",
       "    <tr>\n",
       "      <th>884</th>\n",
       "      <td>False</td>\n",
       "      <td>False</td>\n",
       "      <td>False</td>\n",
       "      <td>False</td>\n",
       "      <td>False</td>\n",
       "      <td>False</td>\n",
       "      <td>False</td>\n",
       "      <td>False</td>\n",
       "      <td>False</td>\n",
       "    </tr>\n",
       "  </tbody>\n",
       "</table>\n",
       "<p>882 rows × 9 columns</p>\n",
       "</div>"
      ],
      "text/plain": [
       "     Pclass  Gendr    Age  SibSp  Parch  Ticket  Embarked  Survived  \\\n",
       "0     False  False  False  False  False   False     False     False   \n",
       "1     False  False  False  False  False   False     False     False   \n",
       "2     False  False  False  False  False   False     False     False   \n",
       "3     False  False   True  False  False   False     False     False   \n",
       "4     False  False  False  False  False   False     False     False   \n",
       "..      ...    ...    ...    ...    ...     ...       ...       ...   \n",
       "880   False  False  False  False  False   False     False     False   \n",
       "881   False  False  False  False  False   False     False     False   \n",
       "882   False  False  False  False  False   False     False     False   \n",
       "883   False  False  False  False  False   False     False     False   \n",
       "884   False  False  False  False  False   False     False     False   \n",
       "\n",
       "     ticket_date  \n",
       "0          False  \n",
       "1          False  \n",
       "2          False  \n",
       "3          False  \n",
       "4          False  \n",
       "..           ...  \n",
       "880        False  \n",
       "881        False  \n",
       "882        False  \n",
       "883        False  \n",
       "884        False  \n",
       "\n",
       "[882 rows x 9 columns]"
      ]
     },
     "execution_count": 1263,
     "metadata": {},
     "output_type": "execute_result"
    }
   ],
   "source": [
    "data.isna()"
   ]
  },
  {
   "cell_type": "code",
   "execution_count": 1264,
   "id": "zGs47M55ud2C",
   "metadata": {
    "ExecuteTime": {
     "end_time": "2023-12-13T06:23:45.555033Z",
     "start_time": "2023-12-13T06:23:45.544628Z"
    },
    "executionInfo": {
     "elapsed": 22,
     "status": "aborted",
     "timestamp": 1702351344722,
     "user": {
      "displayName": "방승욱",
      "userId": "03816609317595006072"
     },
     "user_tz": -540
    },
    "id": "zGs47M55ud2C"
   },
   "outputs": [
    {
     "data": {
      "text/plain": [
       "Pclass         0\n",
       "Gendr          0\n",
       "Age            6\n",
       "SibSp          0\n",
       "Parch          0\n",
       "Ticket         0\n",
       "Embarked       2\n",
       "Survived       0\n",
       "ticket_date    0\n",
       "dtype: int64"
      ]
     },
     "execution_count": 1264,
     "metadata": {},
     "output_type": "execute_result"
    }
   ],
   "source": [
    "data.isna().sum()"
   ]
  },
  {
   "cell_type": "code",
   "execution_count": 1265,
   "id": "aGYgEJ4Gud4-",
   "metadata": {
    "ExecuteTime": {
     "end_time": "2023-12-13T06:23:45.567890Z",
     "start_time": "2023-12-13T06:23:45.558020Z"
    },
    "executionInfo": {
     "elapsed": 22,
     "status": "aborted",
     "timestamp": 1702351344722,
     "user": {
      "displayName": "방승욱",
      "userId": "03816609317595006072"
     },
     "user_tz": -540
    },
    "id": "aGYgEJ4Gud4-"
   },
   "outputs": [
    {
     "data": {
      "text/plain": [
       "Pclass         0.000000\n",
       "Gendr          0.000000\n",
       "Age            0.006803\n",
       "SibSp          0.000000\n",
       "Parch          0.000000\n",
       "Ticket         0.000000\n",
       "Embarked       0.002268\n",
       "Survived       0.000000\n",
       "ticket_date    0.000000\n",
       "dtype: float64"
      ]
     },
     "execution_count": 1265,
     "metadata": {},
     "output_type": "execute_result"
    }
   ],
   "source": [
    "data.isna().mean()"
   ]
  },
  {
   "cell_type": "code",
   "execution_count": 1266,
   "id": "Er-rS19lud7y",
   "metadata": {
    "ExecuteTime": {
     "end_time": "2023-12-13T06:23:45.586890Z",
     "start_time": "2023-12-13T06:23:45.571094Z"
    },
    "executionInfo": {
     "elapsed": 23,
     "status": "aborted",
     "timestamp": 1702351344723,
     "user": {
      "displayName": "방승욱",
      "userId": "03816609317595006072"
     },
     "user_tz": -540
    },
    "id": "Er-rS19lud7y"
   },
   "outputs": [
    {
     "data": {
      "text/html": [
       "<div>\n",
       "<style scoped>\n",
       "    .dataframe tbody tr th:only-of-type {\n",
       "        vertical-align: middle;\n",
       "    }\n",
       "\n",
       "    .dataframe tbody tr th {\n",
       "        vertical-align: top;\n",
       "    }\n",
       "\n",
       "    .dataframe thead th {\n",
       "        text-align: right;\n",
       "    }\n",
       "</style>\n",
       "<table border=\"1\" class=\"dataframe\">\n",
       "  <thead>\n",
       "    <tr style=\"text-align: right;\">\n",
       "      <th></th>\n",
       "      <th>Pclass</th>\n",
       "      <th>Gendr</th>\n",
       "      <th>Age</th>\n",
       "      <th>SibSp</th>\n",
       "      <th>Parch</th>\n",
       "      <th>Ticket</th>\n",
       "      <th>Embarked</th>\n",
       "      <th>Survived</th>\n",
       "      <th>ticket_date</th>\n",
       "    </tr>\n",
       "  </thead>\n",
       "  <tbody>\n",
       "    <tr>\n",
       "      <th>3</th>\n",
       "      <td>1</td>\n",
       "      <td>female</td>\n",
       "      <td>NaN</td>\n",
       "      <td>1</td>\n",
       "      <td>0</td>\n",
       "      <td>113803</td>\n",
       "      <td>S</td>\n",
       "      <td>1</td>\n",
       "      <td>1912-03-28</td>\n",
       "    </tr>\n",
       "    <tr>\n",
       "      <th>106</th>\n",
       "      <td>3</td>\n",
       "      <td>male</td>\n",
       "      <td>NaN</td>\n",
       "      <td>0</td>\n",
       "      <td>0</td>\n",
       "      <td>312991</td>\n",
       "      <td>S</td>\n",
       "      <td>1</td>\n",
       "      <td>1912-01-27</td>\n",
       "    </tr>\n",
       "    <tr>\n",
       "      <th>156</th>\n",
       "      <td>3</td>\n",
       "      <td>male</td>\n",
       "      <td>NaN</td>\n",
       "      <td>0</td>\n",
       "      <td>0</td>\n",
       "      <td>SOTON/OQ 392090</td>\n",
       "      <td>S</td>\n",
       "      <td>0</td>\n",
       "      <td>1912-04-01</td>\n",
       "    </tr>\n",
       "    <tr>\n",
       "      <th>185</th>\n",
       "      <td>3</td>\n",
       "      <td>female</td>\n",
       "      <td>NaN</td>\n",
       "      <td>1</td>\n",
       "      <td>0</td>\n",
       "      <td>370365</td>\n",
       "      <td>Q</td>\n",
       "      <td>1</td>\n",
       "      <td>1912-03-25</td>\n",
       "    </tr>\n",
       "    <tr>\n",
       "      <th>213</th>\n",
       "      <td>3</td>\n",
       "      <td>male</td>\n",
       "      <td>NaN</td>\n",
       "      <td>1</td>\n",
       "      <td>0</td>\n",
       "      <td>367229</td>\n",
       "      <td>Q</td>\n",
       "      <td>0</td>\n",
       "      <td>1912-02-12</td>\n",
       "    </tr>\n",
       "    <tr>\n",
       "      <th>241</th>\n",
       "      <td>2</td>\n",
       "      <td>male</td>\n",
       "      <td>NaN</td>\n",
       "      <td>0</td>\n",
       "      <td>0</td>\n",
       "      <td>W./C. 14263</td>\n",
       "      <td>S</td>\n",
       "      <td>0</td>\n",
       "      <td>1912-01-31</td>\n",
       "    </tr>\n",
       "  </tbody>\n",
       "</table>\n",
       "</div>"
      ],
      "text/plain": [
       "     Pclass   Gendr  Age  SibSp  Parch           Ticket Embarked  Survived  \\\n",
       "3         1  female  NaN      1      0           113803        S         1   \n",
       "106       3    male  NaN      0      0           312991        S         1   \n",
       "156       3    male  NaN      0      0  SOTON/OQ 392090        S         0   \n",
       "185       3  female  NaN      1      0           370365        Q         1   \n",
       "213       3    male  NaN      1      0           367229        Q         0   \n",
       "241       2    male  NaN      0      0      W./C. 14263        S         0   \n",
       "\n",
       "    ticket_date  \n",
       "3    1912-03-28  \n",
       "106  1912-01-27  \n",
       "156  1912-04-01  \n",
       "185  1912-03-25  \n",
       "213  1912-02-12  \n",
       "241  1912-01-31  "
      ]
     },
     "execution_count": 1266,
     "metadata": {},
     "output_type": "execute_result"
    }
   ],
   "source": [
    "data[data['Age'].isna()]"
   ]
  },
  {
   "cell_type": "code",
   "execution_count": 1267,
   "id": "XnYTXKVPud-l",
   "metadata": {
    "ExecuteTime": {
     "end_time": "2023-12-13T06:23:45.595887Z",
     "start_time": "2023-12-13T06:23:45.590114Z"
    },
    "executionInfo": {
     "elapsed": 23,
     "status": "aborted",
     "timestamp": 1702351344723,
     "user": {
      "displayName": "방승욱",
      "userId": "03816609317595006072"
     },
     "user_tz": -540
    },
    "id": "XnYTXKVPud-l"
   },
   "outputs": [],
   "source": [
    "age_na_index = data[data['Age'].isna()].index"
   ]
  },
  {
   "cell_type": "code",
   "execution_count": 1268,
   "id": "6uSQQgmbueBQ",
   "metadata": {
    "ExecuteTime": {
     "end_time": "2023-12-13T06:23:45.604848Z",
     "start_time": "2023-12-13T06:23:45.598546Z"
    },
    "executionInfo": {
     "elapsed": 23,
     "status": "aborted",
     "timestamp": 1702351344723,
     "user": {
      "displayName": "방승욱",
      "userId": "03816609317595006072"
     },
     "user_tz": -540
    },
    "id": "6uSQQgmbueBQ"
   },
   "outputs": [],
   "source": [
    "embarked_na_index = data[data['Embarked'].isna()].index"
   ]
  },
  {
   "cell_type": "code",
   "execution_count": 1269,
   "id": "x6vk__lJvIhl",
   "metadata": {
    "ExecuteTime": {
     "end_time": "2023-12-13T06:23:45.622918Z",
     "start_time": "2023-12-13T06:23:45.607337Z"
    },
    "executionInfo": {
     "elapsed": 23,
     "status": "aborted",
     "timestamp": 1702351344723,
     "user": {
      "displayName": "방승욱",
      "userId": "03816609317595006072"
     },
     "user_tz": -540
    },
    "id": "x6vk__lJvIhl"
   },
   "outputs": [
    {
     "data": {
      "text/html": [
       "<div>\n",
       "<style scoped>\n",
       "    .dataframe tbody tr th:only-of-type {\n",
       "        vertical-align: middle;\n",
       "    }\n",
       "\n",
       "    .dataframe tbody tr th {\n",
       "        vertical-align: top;\n",
       "    }\n",
       "\n",
       "    .dataframe thead th {\n",
       "        text-align: right;\n",
       "    }\n",
       "</style>\n",
       "<table border=\"1\" class=\"dataframe\">\n",
       "  <thead>\n",
       "    <tr style=\"text-align: right;\">\n",
       "      <th></th>\n",
       "      <th>Pclass</th>\n",
       "      <th>Gendr</th>\n",
       "      <th>Age</th>\n",
       "      <th>SibSp</th>\n",
       "      <th>Parch</th>\n",
       "      <th>Ticket</th>\n",
       "      <th>Embarked</th>\n",
       "      <th>Survived</th>\n",
       "      <th>ticket_date</th>\n",
       "    </tr>\n",
       "  </thead>\n",
       "  <tbody>\n",
       "    <tr>\n",
       "      <th>15</th>\n",
       "      <td>2</td>\n",
       "      <td>female</td>\n",
       "      <td>55.0</td>\n",
       "      <td>0</td>\n",
       "      <td>0</td>\n",
       "      <td>248706</td>\n",
       "      <td>NaN</td>\n",
       "      <td>1</td>\n",
       "      <td>1912-03-05</td>\n",
       "    </tr>\n",
       "    <tr>\n",
       "      <th>322</th>\n",
       "      <td>3</td>\n",
       "      <td>male</td>\n",
       "      <td>28.0</td>\n",
       "      <td>8</td>\n",
       "      <td>2</td>\n",
       "      <td>CA. 2343</td>\n",
       "      <td>NaN</td>\n",
       "      <td>0</td>\n",
       "      <td>1912-03-26</td>\n",
       "    </tr>\n",
       "  </tbody>\n",
       "</table>\n",
       "</div>"
      ],
      "text/plain": [
       "     Pclass   Gendr   Age  SibSp  Parch    Ticket Embarked  Survived  \\\n",
       "15        2  female  55.0      0      0    248706      NaN         1   \n",
       "322       3    male  28.0      8      2  CA. 2343      NaN         0   \n",
       "\n",
       "    ticket_date  \n",
       "15   1912-03-05  \n",
       "322  1912-03-26  "
      ]
     },
     "execution_count": 1269,
     "metadata": {},
     "output_type": "execute_result"
    }
   ],
   "source": [
    "data.loc[embarked_na_index]"
   ]
  },
  {
   "cell_type": "code",
   "execution_count": 1270,
   "id": "iPkmKuxbvIsr",
   "metadata": {
    "ExecuteTime": {
     "end_time": "2023-12-13T06:23:45.654879Z",
     "start_time": "2023-12-13T06:23:45.625670Z"
    },
    "executionInfo": {
     "elapsed": 22,
     "status": "aborted",
     "timestamp": 1702351344723,
     "user": {
      "displayName": "방승욱",
      "userId": "03816609317595006072"
     },
     "user_tz": -540
    },
    "id": "iPkmKuxbvIsr"
   },
   "outputs": [
    {
     "data": {
      "text/html": [
       "<div>\n",
       "<style scoped>\n",
       "    .dataframe tbody tr th:only-of-type {\n",
       "        vertical-align: middle;\n",
       "    }\n",
       "\n",
       "    .dataframe tbody tr th {\n",
       "        vertical-align: top;\n",
       "    }\n",
       "\n",
       "    .dataframe thead th {\n",
       "        text-align: right;\n",
       "    }\n",
       "</style>\n",
       "<table border=\"1\" class=\"dataframe\">\n",
       "  <thead>\n",
       "    <tr style=\"text-align: right;\">\n",
       "      <th></th>\n",
       "      <th>Pclass</th>\n",
       "      <th>Gendr</th>\n",
       "      <th>Age</th>\n",
       "      <th>SibSp</th>\n",
       "      <th>Parch</th>\n",
       "      <th>Ticket</th>\n",
       "      <th>Embarked</th>\n",
       "      <th>Survived</th>\n",
       "      <th>ticket_date</th>\n",
       "    </tr>\n",
       "  </thead>\n",
       "  <tbody>\n",
       "    <tr>\n",
       "      <th>0</th>\n",
       "      <td>3</td>\n",
       "      <td>male</td>\n",
       "      <td>22.0</td>\n",
       "      <td>1</td>\n",
       "      <td>0</td>\n",
       "      <td>A/5 21171</td>\n",
       "      <td>S</td>\n",
       "      <td>0</td>\n",
       "      <td>1912-01-12</td>\n",
       "    </tr>\n",
       "    <tr>\n",
       "      <th>1</th>\n",
       "      <td>1</td>\n",
       "      <td>female</td>\n",
       "      <td>38.0</td>\n",
       "      <td>1</td>\n",
       "      <td>0</td>\n",
       "      <td>PC 17599</td>\n",
       "      <td>C</td>\n",
       "      <td>1</td>\n",
       "      <td>1912-03-29</td>\n",
       "    </tr>\n",
       "    <tr>\n",
       "      <th>2</th>\n",
       "      <td>3</td>\n",
       "      <td>female</td>\n",
       "      <td>26.0</td>\n",
       "      <td>0</td>\n",
       "      <td>0</td>\n",
       "      <td>STON/O2. 3101282</td>\n",
       "      <td>S</td>\n",
       "      <td>1</td>\n",
       "      <td>1912-02-23</td>\n",
       "    </tr>\n",
       "    <tr>\n",
       "      <th>3</th>\n",
       "      <td>1</td>\n",
       "      <td>female</td>\n",
       "      <td>NaN</td>\n",
       "      <td>1</td>\n",
       "      <td>0</td>\n",
       "      <td>113803</td>\n",
       "      <td>S</td>\n",
       "      <td>1</td>\n",
       "      <td>1912-03-28</td>\n",
       "    </tr>\n",
       "    <tr>\n",
       "      <th>4</th>\n",
       "      <td>3</td>\n",
       "      <td>male</td>\n",
       "      <td>35.0</td>\n",
       "      <td>0</td>\n",
       "      <td>0</td>\n",
       "      <td>373450</td>\n",
       "      <td>S</td>\n",
       "      <td>0</td>\n",
       "      <td>1912-04-03</td>\n",
       "    </tr>\n",
       "    <tr>\n",
       "      <th>...</th>\n",
       "      <td>...</td>\n",
       "      <td>...</td>\n",
       "      <td>...</td>\n",
       "      <td>...</td>\n",
       "      <td>...</td>\n",
       "      <td>...</td>\n",
       "      <td>...</td>\n",
       "      <td>...</td>\n",
       "      <td>...</td>\n",
       "    </tr>\n",
       "    <tr>\n",
       "      <th>880</th>\n",
       "      <td>2</td>\n",
       "      <td>male</td>\n",
       "      <td>27.0</td>\n",
       "      <td>0</td>\n",
       "      <td>0</td>\n",
       "      <td>211536</td>\n",
       "      <td>S</td>\n",
       "      <td>0</td>\n",
       "      <td>1912-01-29</td>\n",
       "    </tr>\n",
       "    <tr>\n",
       "      <th>881</th>\n",
       "      <td>1</td>\n",
       "      <td>female</td>\n",
       "      <td>19.0</td>\n",
       "      <td>0</td>\n",
       "      <td>0</td>\n",
       "      <td>112053</td>\n",
       "      <td>S</td>\n",
       "      <td>1</td>\n",
       "      <td>1912-03-30</td>\n",
       "    </tr>\n",
       "    <tr>\n",
       "      <th>882</th>\n",
       "      <td>3</td>\n",
       "      <td>female</td>\n",
       "      <td>28.0</td>\n",
       "      <td>1</td>\n",
       "      <td>2</td>\n",
       "      <td>W./C. 6607</td>\n",
       "      <td>S</td>\n",
       "      <td>0</td>\n",
       "      <td>1912-04-07</td>\n",
       "    </tr>\n",
       "    <tr>\n",
       "      <th>883</th>\n",
       "      <td>1</td>\n",
       "      <td>male</td>\n",
       "      <td>26.0</td>\n",
       "      <td>0</td>\n",
       "      <td>0</td>\n",
       "      <td>111369</td>\n",
       "      <td>C</td>\n",
       "      <td>1</td>\n",
       "      <td>1912-03-01</td>\n",
       "    </tr>\n",
       "    <tr>\n",
       "      <th>884</th>\n",
       "      <td>3</td>\n",
       "      <td>male</td>\n",
       "      <td>32.0</td>\n",
       "      <td>0</td>\n",
       "      <td>0</td>\n",
       "      <td>370376</td>\n",
       "      <td>Q</td>\n",
       "      <td>0</td>\n",
       "      <td>1912-03-05</td>\n",
       "    </tr>\n",
       "  </tbody>\n",
       "</table>\n",
       "<p>882 rows × 9 columns</p>\n",
       "</div>"
      ],
      "text/plain": [
       "     Pclass   Gendr   Age  SibSp  Parch            Ticket Embarked  Survived  \\\n",
       "0         3    male  22.0      1      0         A/5 21171        S         0   \n",
       "1         1  female  38.0      1      0          PC 17599        C         1   \n",
       "2         3  female  26.0      0      0  STON/O2. 3101282        S         1   \n",
       "3         1  female   NaN      1      0            113803        S         1   \n",
       "4         3    male  35.0      0      0            373450        S         0   \n",
       "..      ...     ...   ...    ...    ...               ...      ...       ...   \n",
       "880       2    male  27.0      0      0            211536        S         0   \n",
       "881       1  female  19.0      0      0            112053        S         1   \n",
       "882       3  female  28.0      1      2        W./C. 6607        S         0   \n",
       "883       1    male  26.0      0      0            111369        C         1   \n",
       "884       3    male  32.0      0      0            370376        Q         0   \n",
       "\n",
       "    ticket_date  \n",
       "0    1912-01-12  \n",
       "1    1912-03-29  \n",
       "2    1912-02-23  \n",
       "3    1912-03-28  \n",
       "4    1912-04-03  \n",
       "..          ...  \n",
       "880  1912-01-29  \n",
       "881  1912-03-30  \n",
       "882  1912-04-07  \n",
       "883  1912-03-01  \n",
       "884  1912-03-05  \n",
       "\n",
       "[882 rows x 9 columns]"
      ]
     },
     "execution_count": 1270,
     "metadata": {},
     "output_type": "execute_result"
    }
   ],
   "source": [
    "data"
   ]
  },
  {
   "cell_type": "code",
   "execution_count": 1271,
   "id": "svfGx6V5vI3A",
   "metadata": {
    "ExecuteTime": {
     "end_time": "2023-12-13T06:23:45.667841Z",
     "start_time": "2023-12-13T06:23:45.658713Z"
    },
    "executionInfo": {
     "elapsed": 22,
     "status": "aborted",
     "timestamp": 1702351344723,
     "user": {
      "displayName": "방승욱",
      "userId": "03816609317595006072"
     },
     "user_tz": -540
    },
    "id": "svfGx6V5vI3A"
   },
   "outputs": [
    {
     "data": {
      "text/plain": [
       "882"
      ]
     },
     "execution_count": 1271,
     "metadata": {},
     "output_type": "execute_result"
    }
   ],
   "source": [
    "len(data)"
   ]
  },
  {
   "cell_type": "code",
   "execution_count": 1272,
   "id": "XRWxleqGvenQ",
   "metadata": {
    "ExecuteTime": {
     "end_time": "2023-12-13T06:23:45.700860Z",
     "start_time": "2023-12-13T06:23:45.670253Z"
    },
    "executionInfo": {
     "elapsed": 22,
     "status": "aborted",
     "timestamp": 1702351344723,
     "user": {
      "displayName": "방승욱",
      "userId": "03816609317595006072"
     },
     "user_tz": -540
    },
    "id": "XRWxleqGvenQ"
   },
   "outputs": [
    {
     "data": {
      "text/html": [
       "<div>\n",
       "<style scoped>\n",
       "    .dataframe tbody tr th:only-of-type {\n",
       "        vertical-align: middle;\n",
       "    }\n",
       "\n",
       "    .dataframe tbody tr th {\n",
       "        vertical-align: top;\n",
       "    }\n",
       "\n",
       "    .dataframe thead th {\n",
       "        text-align: right;\n",
       "    }\n",
       "</style>\n",
       "<table border=\"1\" class=\"dataframe\">\n",
       "  <thead>\n",
       "    <tr style=\"text-align: right;\">\n",
       "      <th></th>\n",
       "      <th>Pclass</th>\n",
       "      <th>Gendr</th>\n",
       "      <th>Age</th>\n",
       "      <th>SibSp</th>\n",
       "      <th>Parch</th>\n",
       "      <th>Ticket</th>\n",
       "      <th>Embarked</th>\n",
       "      <th>Survived</th>\n",
       "      <th>ticket_date</th>\n",
       "    </tr>\n",
       "  </thead>\n",
       "  <tbody>\n",
       "    <tr>\n",
       "      <th>0</th>\n",
       "      <td>3</td>\n",
       "      <td>male</td>\n",
       "      <td>22.0</td>\n",
       "      <td>1</td>\n",
       "      <td>0</td>\n",
       "      <td>A/5 21171</td>\n",
       "      <td>S</td>\n",
       "      <td>0</td>\n",
       "      <td>1912-01-12</td>\n",
       "    </tr>\n",
       "    <tr>\n",
       "      <th>1</th>\n",
       "      <td>1</td>\n",
       "      <td>female</td>\n",
       "      <td>38.0</td>\n",
       "      <td>1</td>\n",
       "      <td>0</td>\n",
       "      <td>PC 17599</td>\n",
       "      <td>C</td>\n",
       "      <td>1</td>\n",
       "      <td>1912-03-29</td>\n",
       "    </tr>\n",
       "    <tr>\n",
       "      <th>2</th>\n",
       "      <td>3</td>\n",
       "      <td>female</td>\n",
       "      <td>26.0</td>\n",
       "      <td>0</td>\n",
       "      <td>0</td>\n",
       "      <td>STON/O2. 3101282</td>\n",
       "      <td>S</td>\n",
       "      <td>1</td>\n",
       "      <td>1912-02-23</td>\n",
       "    </tr>\n",
       "    <tr>\n",
       "      <th>4</th>\n",
       "      <td>3</td>\n",
       "      <td>male</td>\n",
       "      <td>35.0</td>\n",
       "      <td>0</td>\n",
       "      <td>0</td>\n",
       "      <td>373450</td>\n",
       "      <td>S</td>\n",
       "      <td>0</td>\n",
       "      <td>1912-04-03</td>\n",
       "    </tr>\n",
       "    <tr>\n",
       "      <th>5</th>\n",
       "      <td>3</td>\n",
       "      <td>male</td>\n",
       "      <td>28.0</td>\n",
       "      <td>0</td>\n",
       "      <td>0</td>\n",
       "      <td>330877</td>\n",
       "      <td>Q</td>\n",
       "      <td>0</td>\n",
       "      <td>1912-03-30</td>\n",
       "    </tr>\n",
       "    <tr>\n",
       "      <th>...</th>\n",
       "      <td>...</td>\n",
       "      <td>...</td>\n",
       "      <td>...</td>\n",
       "      <td>...</td>\n",
       "      <td>...</td>\n",
       "      <td>...</td>\n",
       "      <td>...</td>\n",
       "      <td>...</td>\n",
       "      <td>...</td>\n",
       "    </tr>\n",
       "    <tr>\n",
       "      <th>880</th>\n",
       "      <td>2</td>\n",
       "      <td>male</td>\n",
       "      <td>27.0</td>\n",
       "      <td>0</td>\n",
       "      <td>0</td>\n",
       "      <td>211536</td>\n",
       "      <td>S</td>\n",
       "      <td>0</td>\n",
       "      <td>1912-01-29</td>\n",
       "    </tr>\n",
       "    <tr>\n",
       "      <th>881</th>\n",
       "      <td>1</td>\n",
       "      <td>female</td>\n",
       "      <td>19.0</td>\n",
       "      <td>0</td>\n",
       "      <td>0</td>\n",
       "      <td>112053</td>\n",
       "      <td>S</td>\n",
       "      <td>1</td>\n",
       "      <td>1912-03-30</td>\n",
       "    </tr>\n",
       "    <tr>\n",
       "      <th>882</th>\n",
       "      <td>3</td>\n",
       "      <td>female</td>\n",
       "      <td>28.0</td>\n",
       "      <td>1</td>\n",
       "      <td>2</td>\n",
       "      <td>W./C. 6607</td>\n",
       "      <td>S</td>\n",
       "      <td>0</td>\n",
       "      <td>1912-04-07</td>\n",
       "    </tr>\n",
       "    <tr>\n",
       "      <th>883</th>\n",
       "      <td>1</td>\n",
       "      <td>male</td>\n",
       "      <td>26.0</td>\n",
       "      <td>0</td>\n",
       "      <td>0</td>\n",
       "      <td>111369</td>\n",
       "      <td>C</td>\n",
       "      <td>1</td>\n",
       "      <td>1912-03-01</td>\n",
       "    </tr>\n",
       "    <tr>\n",
       "      <th>884</th>\n",
       "      <td>3</td>\n",
       "      <td>male</td>\n",
       "      <td>32.0</td>\n",
       "      <td>0</td>\n",
       "      <td>0</td>\n",
       "      <td>370376</td>\n",
       "      <td>Q</td>\n",
       "      <td>0</td>\n",
       "      <td>1912-03-05</td>\n",
       "    </tr>\n",
       "  </tbody>\n",
       "</table>\n",
       "<p>874 rows × 9 columns</p>\n",
       "</div>"
      ],
      "text/plain": [
       "     Pclass   Gendr   Age  SibSp  Parch            Ticket Embarked  Survived  \\\n",
       "0         3    male  22.0      1      0         A/5 21171        S         0   \n",
       "1         1  female  38.0      1      0          PC 17599        C         1   \n",
       "2         3  female  26.0      0      0  STON/O2. 3101282        S         1   \n",
       "4         3    male  35.0      0      0            373450        S         0   \n",
       "5         3    male  28.0      0      0            330877        Q         0   \n",
       "..      ...     ...   ...    ...    ...               ...      ...       ...   \n",
       "880       2    male  27.0      0      0            211536        S         0   \n",
       "881       1  female  19.0      0      0            112053        S         1   \n",
       "882       3  female  28.0      1      2        W./C. 6607        S         0   \n",
       "883       1    male  26.0      0      0            111369        C         1   \n",
       "884       3    male  32.0      0      0            370376        Q         0   \n",
       "\n",
       "    ticket_date  \n",
       "0    1912-01-12  \n",
       "1    1912-03-29  \n",
       "2    1912-02-23  \n",
       "4    1912-04-03  \n",
       "5    1912-03-30  \n",
       "..          ...  \n",
       "880  1912-01-29  \n",
       "881  1912-03-30  \n",
       "882  1912-04-07  \n",
       "883  1912-03-01  \n",
       "884  1912-03-05  \n",
       "\n",
       "[874 rows x 9 columns]"
      ]
     },
     "execution_count": 1272,
     "metadata": {},
     "output_type": "execute_result"
    }
   ],
   "source": [
    "data.dropna()"
   ]
  },
  {
   "cell_type": "code",
   "execution_count": 1273,
   "id": "SBQMV5UIvgxx",
   "metadata": {
    "ExecuteTime": {
     "end_time": "2023-12-13T06:23:45.737887Z",
     "start_time": "2023-12-13T06:23:45.705290Z"
    },
    "executionInfo": {
     "elapsed": 22,
     "status": "aborted",
     "timestamp": 1702351344723,
     "user": {
      "displayName": "방승욱",
      "userId": "03816609317595006072"
     },
     "user_tz": -540
    },
    "id": "SBQMV5UIvgxx"
   },
   "outputs": [
    {
     "data": {
      "text/html": [
       "<div>\n",
       "<style scoped>\n",
       "    .dataframe tbody tr th:only-of-type {\n",
       "        vertical-align: middle;\n",
       "    }\n",
       "\n",
       "    .dataframe tbody tr th {\n",
       "        vertical-align: top;\n",
       "    }\n",
       "\n",
       "    .dataframe thead th {\n",
       "        text-align: right;\n",
       "    }\n",
       "</style>\n",
       "<table border=\"1\" class=\"dataframe\">\n",
       "  <thead>\n",
       "    <tr style=\"text-align: right;\">\n",
       "      <th></th>\n",
       "      <th>Pclass</th>\n",
       "      <th>Gendr</th>\n",
       "      <th>Age</th>\n",
       "      <th>SibSp</th>\n",
       "      <th>Parch</th>\n",
       "      <th>Ticket</th>\n",
       "      <th>Embarked</th>\n",
       "      <th>Survived</th>\n",
       "      <th>ticket_date</th>\n",
       "    </tr>\n",
       "  </thead>\n",
       "  <tbody>\n",
       "    <tr>\n",
       "      <th>0</th>\n",
       "      <td>3</td>\n",
       "      <td>male</td>\n",
       "      <td>22.0</td>\n",
       "      <td>1</td>\n",
       "      <td>0</td>\n",
       "      <td>A/5 21171</td>\n",
       "      <td>S</td>\n",
       "      <td>0</td>\n",
       "      <td>1912-01-12</td>\n",
       "    </tr>\n",
       "    <tr>\n",
       "      <th>1</th>\n",
       "      <td>1</td>\n",
       "      <td>female</td>\n",
       "      <td>38.0</td>\n",
       "      <td>1</td>\n",
       "      <td>0</td>\n",
       "      <td>PC 17599</td>\n",
       "      <td>C</td>\n",
       "      <td>1</td>\n",
       "      <td>1912-03-29</td>\n",
       "    </tr>\n",
       "    <tr>\n",
       "      <th>2</th>\n",
       "      <td>3</td>\n",
       "      <td>female</td>\n",
       "      <td>26.0</td>\n",
       "      <td>0</td>\n",
       "      <td>0</td>\n",
       "      <td>STON/O2. 3101282</td>\n",
       "      <td>S</td>\n",
       "      <td>1</td>\n",
       "      <td>1912-02-23</td>\n",
       "    </tr>\n",
       "    <tr>\n",
       "      <th>3</th>\n",
       "      <td>1</td>\n",
       "      <td>female</td>\n",
       "      <td>NaN</td>\n",
       "      <td>1</td>\n",
       "      <td>0</td>\n",
       "      <td>113803</td>\n",
       "      <td>S</td>\n",
       "      <td>1</td>\n",
       "      <td>1912-03-28</td>\n",
       "    </tr>\n",
       "    <tr>\n",
       "      <th>4</th>\n",
       "      <td>3</td>\n",
       "      <td>male</td>\n",
       "      <td>35.0</td>\n",
       "      <td>0</td>\n",
       "      <td>0</td>\n",
       "      <td>373450</td>\n",
       "      <td>S</td>\n",
       "      <td>0</td>\n",
       "      <td>1912-04-03</td>\n",
       "    </tr>\n",
       "    <tr>\n",
       "      <th>...</th>\n",
       "      <td>...</td>\n",
       "      <td>...</td>\n",
       "      <td>...</td>\n",
       "      <td>...</td>\n",
       "      <td>...</td>\n",
       "      <td>...</td>\n",
       "      <td>...</td>\n",
       "      <td>...</td>\n",
       "      <td>...</td>\n",
       "    </tr>\n",
       "    <tr>\n",
       "      <th>880</th>\n",
       "      <td>2</td>\n",
       "      <td>male</td>\n",
       "      <td>27.0</td>\n",
       "      <td>0</td>\n",
       "      <td>0</td>\n",
       "      <td>211536</td>\n",
       "      <td>S</td>\n",
       "      <td>0</td>\n",
       "      <td>1912-01-29</td>\n",
       "    </tr>\n",
       "    <tr>\n",
       "      <th>881</th>\n",
       "      <td>1</td>\n",
       "      <td>female</td>\n",
       "      <td>19.0</td>\n",
       "      <td>0</td>\n",
       "      <td>0</td>\n",
       "      <td>112053</td>\n",
       "      <td>S</td>\n",
       "      <td>1</td>\n",
       "      <td>1912-03-30</td>\n",
       "    </tr>\n",
       "    <tr>\n",
       "      <th>882</th>\n",
       "      <td>3</td>\n",
       "      <td>female</td>\n",
       "      <td>28.0</td>\n",
       "      <td>1</td>\n",
       "      <td>2</td>\n",
       "      <td>W./C. 6607</td>\n",
       "      <td>S</td>\n",
       "      <td>0</td>\n",
       "      <td>1912-04-07</td>\n",
       "    </tr>\n",
       "    <tr>\n",
       "      <th>883</th>\n",
       "      <td>1</td>\n",
       "      <td>male</td>\n",
       "      <td>26.0</td>\n",
       "      <td>0</td>\n",
       "      <td>0</td>\n",
       "      <td>111369</td>\n",
       "      <td>C</td>\n",
       "      <td>1</td>\n",
       "      <td>1912-03-01</td>\n",
       "    </tr>\n",
       "    <tr>\n",
       "      <th>884</th>\n",
       "      <td>3</td>\n",
       "      <td>male</td>\n",
       "      <td>32.0</td>\n",
       "      <td>0</td>\n",
       "      <td>0</td>\n",
       "      <td>370376</td>\n",
       "      <td>Q</td>\n",
       "      <td>0</td>\n",
       "      <td>1912-03-05</td>\n",
       "    </tr>\n",
       "  </tbody>\n",
       "</table>\n",
       "<p>880 rows × 9 columns</p>\n",
       "</div>"
      ],
      "text/plain": [
       "     Pclass   Gendr   Age  SibSp  Parch            Ticket Embarked  Survived  \\\n",
       "0         3    male  22.0      1      0         A/5 21171        S         0   \n",
       "1         1  female  38.0      1      0          PC 17599        C         1   \n",
       "2         3  female  26.0      0      0  STON/O2. 3101282        S         1   \n",
       "3         1  female   NaN      1      0            113803        S         1   \n",
       "4         3    male  35.0      0      0            373450        S         0   \n",
       "..      ...     ...   ...    ...    ...               ...      ...       ...   \n",
       "880       2    male  27.0      0      0            211536        S         0   \n",
       "881       1  female  19.0      0      0            112053        S         1   \n",
       "882       3  female  28.0      1      2        W./C. 6607        S         0   \n",
       "883       1    male  26.0      0      0            111369        C         1   \n",
       "884       3    male  32.0      0      0            370376        Q         0   \n",
       "\n",
       "    ticket_date  \n",
       "0    1912-01-12  \n",
       "1    1912-03-29  \n",
       "2    1912-02-23  \n",
       "3    1912-03-28  \n",
       "4    1912-04-03  \n",
       "..          ...  \n",
       "880  1912-01-29  \n",
       "881  1912-03-30  \n",
       "882  1912-04-07  \n",
       "883  1912-03-01  \n",
       "884  1912-03-05  \n",
       "\n",
       "[880 rows x 9 columns]"
      ]
     },
     "execution_count": 1273,
     "metadata": {},
     "output_type": "execute_result"
    }
   ],
   "source": [
    "data.dropna(subset = ['Embarked'])"
   ]
  },
  {
   "cell_type": "code",
   "execution_count": 1274,
   "id": "MRKM9IMJvgu0",
   "metadata": {
    "ExecuteTime": {
     "end_time": "2023-12-13T06:23:45.749846Z",
     "start_time": "2023-12-13T06:23:45.742632Z"
    },
    "executionInfo": {
     "elapsed": 22,
     "status": "aborted",
     "timestamp": 1702351344723,
     "user": {
      "displayName": "방승욱",
      "userId": "03816609317595006072"
     },
     "user_tz": -540
    },
    "id": "MRKM9IMJvgu0"
   },
   "outputs": [
    {
     "data": {
      "text/plain": [
       "29.718036529680365"
      ]
     },
     "execution_count": 1274,
     "metadata": {},
     "output_type": "execute_result"
    }
   ],
   "source": [
    "data['Age'].mean()"
   ]
  },
  {
   "cell_type": "code",
   "execution_count": 1275,
   "id": "TeX9v1v2vgr6",
   "metadata": {
    "ExecuteTime": {
     "end_time": "2023-12-13T06:23:45.758959Z",
     "start_time": "2023-12-13T06:23:45.752874Z"
    },
    "executionInfo": {
     "elapsed": 21,
     "status": "aborted",
     "timestamp": 1702351344723,
     "user": {
      "displayName": "방승욱",
      "userId": "03816609317595006072"
     },
     "user_tz": -540
    },
    "id": "TeX9v1v2vgr6"
   },
   "outputs": [
    {
     "data": {
      "text/plain": [
       "28.0"
      ]
     },
     "execution_count": 1275,
     "metadata": {},
     "output_type": "execute_result"
    }
   ],
   "source": [
    "data['Age'].median()"
   ]
  },
  {
   "cell_type": "code",
   "execution_count": 1276,
   "id": "BI9W_YS6vgpU",
   "metadata": {
    "ExecuteTime": {
     "end_time": "2023-12-13T06:23:45.766857Z",
     "start_time": "2023-12-13T06:23:45.761747Z"
    },
    "executionInfo": {
     "elapsed": 21,
     "status": "aborted",
     "timestamp": 1702351344723,
     "user": {
      "displayName": "방승욱",
      "userId": "03816609317595006072"
     },
     "user_tz": -540
    },
    "id": "BI9W_YS6vgpU"
   },
   "outputs": [],
   "source": [
    "data['Age'] = data['Age'].fillna(data['Age'].median())"
   ]
  },
  {
   "cell_type": "code",
   "execution_count": 1277,
   "id": "TJATCZ1Xvgmn",
   "metadata": {
    "ExecuteTime": {
     "end_time": "2023-12-13T06:23:45.787888Z",
     "start_time": "2023-12-13T06:23:45.770367Z"
    },
    "executionInfo": {
     "elapsed": 21,
     "status": "aborted",
     "timestamp": 1702351344723,
     "user": {
      "displayName": "방승욱",
      "userId": "03816609317595006072"
     },
     "user_tz": -540
    },
    "id": "TJATCZ1Xvgmn"
   },
   "outputs": [
    {
     "data": {
      "text/html": [
       "<div>\n",
       "<style scoped>\n",
       "    .dataframe tbody tr th:only-of-type {\n",
       "        vertical-align: middle;\n",
       "    }\n",
       "\n",
       "    .dataframe tbody tr th {\n",
       "        vertical-align: top;\n",
       "    }\n",
       "\n",
       "    .dataframe thead th {\n",
       "        text-align: right;\n",
       "    }\n",
       "</style>\n",
       "<table border=\"1\" class=\"dataframe\">\n",
       "  <thead>\n",
       "    <tr style=\"text-align: right;\">\n",
       "      <th></th>\n",
       "      <th>Pclass</th>\n",
       "      <th>Gendr</th>\n",
       "      <th>Age</th>\n",
       "      <th>SibSp</th>\n",
       "      <th>Parch</th>\n",
       "      <th>Ticket</th>\n",
       "      <th>Embarked</th>\n",
       "      <th>Survived</th>\n",
       "      <th>ticket_date</th>\n",
       "    </tr>\n",
       "  </thead>\n",
       "  <tbody>\n",
       "    <tr>\n",
       "      <th>3</th>\n",
       "      <td>1</td>\n",
       "      <td>female</td>\n",
       "      <td>28.0</td>\n",
       "      <td>1</td>\n",
       "      <td>0</td>\n",
       "      <td>113803</td>\n",
       "      <td>S</td>\n",
       "      <td>1</td>\n",
       "      <td>1912-03-28</td>\n",
       "    </tr>\n",
       "    <tr>\n",
       "      <th>106</th>\n",
       "      <td>3</td>\n",
       "      <td>male</td>\n",
       "      <td>28.0</td>\n",
       "      <td>0</td>\n",
       "      <td>0</td>\n",
       "      <td>312991</td>\n",
       "      <td>S</td>\n",
       "      <td>1</td>\n",
       "      <td>1912-01-27</td>\n",
       "    </tr>\n",
       "    <tr>\n",
       "      <th>156</th>\n",
       "      <td>3</td>\n",
       "      <td>male</td>\n",
       "      <td>28.0</td>\n",
       "      <td>0</td>\n",
       "      <td>0</td>\n",
       "      <td>SOTON/OQ 392090</td>\n",
       "      <td>S</td>\n",
       "      <td>0</td>\n",
       "      <td>1912-04-01</td>\n",
       "    </tr>\n",
       "    <tr>\n",
       "      <th>185</th>\n",
       "      <td>3</td>\n",
       "      <td>female</td>\n",
       "      <td>28.0</td>\n",
       "      <td>1</td>\n",
       "      <td>0</td>\n",
       "      <td>370365</td>\n",
       "      <td>Q</td>\n",
       "      <td>1</td>\n",
       "      <td>1912-03-25</td>\n",
       "    </tr>\n",
       "    <tr>\n",
       "      <th>213</th>\n",
       "      <td>3</td>\n",
       "      <td>male</td>\n",
       "      <td>28.0</td>\n",
       "      <td>1</td>\n",
       "      <td>0</td>\n",
       "      <td>367229</td>\n",
       "      <td>Q</td>\n",
       "      <td>0</td>\n",
       "      <td>1912-02-12</td>\n",
       "    </tr>\n",
       "    <tr>\n",
       "      <th>241</th>\n",
       "      <td>2</td>\n",
       "      <td>male</td>\n",
       "      <td>28.0</td>\n",
       "      <td>0</td>\n",
       "      <td>0</td>\n",
       "      <td>W./C. 14263</td>\n",
       "      <td>S</td>\n",
       "      <td>0</td>\n",
       "      <td>1912-01-31</td>\n",
       "    </tr>\n",
       "  </tbody>\n",
       "</table>\n",
       "</div>"
      ],
      "text/plain": [
       "     Pclass   Gendr   Age  SibSp  Parch           Ticket Embarked  Survived  \\\n",
       "3         1  female  28.0      1      0           113803        S         1   \n",
       "106       3    male  28.0      0      0           312991        S         1   \n",
       "156       3    male  28.0      0      0  SOTON/OQ 392090        S         0   \n",
       "185       3  female  28.0      1      0           370365        Q         1   \n",
       "213       3    male  28.0      1      0           367229        Q         0   \n",
       "241       2    male  28.0      0      0      W./C. 14263        S         0   \n",
       "\n",
       "    ticket_date  \n",
       "3    1912-03-28  \n",
       "106  1912-01-27  \n",
       "156  1912-04-01  \n",
       "185  1912-03-25  \n",
       "213  1912-02-12  \n",
       "241  1912-01-31  "
      ]
     },
     "execution_count": 1277,
     "metadata": {},
     "output_type": "execute_result"
    }
   ],
   "source": [
    "data.loc[age_na_index]"
   ]
  },
  {
   "cell_type": "code",
   "execution_count": 1278,
   "id": "FEVBBEf2vgjX",
   "metadata": {
    "ExecuteTime": {
     "end_time": "2023-12-13T06:23:45.799996Z",
     "start_time": "2023-12-13T06:23:45.791024Z"
    },
    "executionInfo": {
     "elapsed": 21,
     "status": "aborted",
     "timestamp": 1702351344723,
     "user": {
      "displayName": "방승욱",
      "userId": "03816609317595006072"
     },
     "user_tz": -540
    },
    "id": "FEVBBEf2vgjX"
   },
   "outputs": [
    {
     "data": {
      "text/plain": [
       "S    638\n",
       "C    165\n",
       "Q     77\n",
       "Name: Embarked, dtype: int64"
      ]
     },
     "execution_count": 1278,
     "metadata": {},
     "output_type": "execute_result"
    }
   ],
   "source": [
    "data['Embarked'].value_counts()"
   ]
  },
  {
   "cell_type": "code",
   "execution_count": 1279,
   "id": "d3z5L05fvggc",
   "metadata": {
    "ExecuteTime": {
     "end_time": "2023-12-13T06:23:45.811878Z",
     "start_time": "2023-12-13T06:23:45.803399Z"
    },
    "executionInfo": {
     "elapsed": 21,
     "status": "aborted",
     "timestamp": 1702351344723,
     "user": {
      "displayName": "방승욱",
      "userId": "03816609317595006072"
     },
     "user_tz": -540
    },
    "id": "d3z5L05fvggc"
   },
   "outputs": [
    {
     "data": {
      "text/plain": [
       "0.7231638418079096"
      ]
     },
     "execution_count": 1279,
     "metadata": {},
     "output_type": "execute_result"
    }
   ],
   "source": [
    "640/885"
   ]
  },
  {
   "cell_type": "code",
   "execution_count": 1280,
   "id": "V6t40moMvgax",
   "metadata": {
    "ExecuteTime": {
     "end_time": "2023-12-13T06:23:45.819831Z",
     "start_time": "2023-12-13T06:23:45.814614Z"
    },
    "executionInfo": {
     "elapsed": 21,
     "status": "aborted",
     "timestamp": 1702351344723,
     "user": {
      "displayName": "방승욱",
      "userId": "03816609317595006072"
     },
     "user_tz": -540
    },
    "id": "V6t40moMvgax"
   },
   "outputs": [],
   "source": [
    "data['Embarked'] = data['Embarked'].fillna('S')"
   ]
  },
  {
   "cell_type": "code",
   "execution_count": 1281,
   "id": "ROQ0iodVvgX5",
   "metadata": {
    "ExecuteTime": {
     "end_time": "2023-12-13T06:23:45.846431Z",
     "start_time": "2023-12-13T06:23:45.822593Z"
    },
    "executionInfo": {
     "elapsed": 21,
     "status": "aborted",
     "timestamp": 1702351344723,
     "user": {
      "displayName": "방승욱",
      "userId": "03816609317595006072"
     },
     "user_tz": -540
    },
    "id": "ROQ0iodVvgX5"
   },
   "outputs": [
    {
     "data": {
      "text/html": [
       "<div>\n",
       "<style scoped>\n",
       "    .dataframe tbody tr th:only-of-type {\n",
       "        vertical-align: middle;\n",
       "    }\n",
       "\n",
       "    .dataframe tbody tr th {\n",
       "        vertical-align: top;\n",
       "    }\n",
       "\n",
       "    .dataframe thead th {\n",
       "        text-align: right;\n",
       "    }\n",
       "</style>\n",
       "<table border=\"1\" class=\"dataframe\">\n",
       "  <thead>\n",
       "    <tr style=\"text-align: right;\">\n",
       "      <th></th>\n",
       "      <th>Pclass</th>\n",
       "      <th>Gendr</th>\n",
       "      <th>SibSp</th>\n",
       "      <th>Parch</th>\n",
       "      <th>Ticket</th>\n",
       "      <th>Embarked</th>\n",
       "      <th>Survived</th>\n",
       "      <th>ticket_date</th>\n",
       "    </tr>\n",
       "  </thead>\n",
       "  <tbody>\n",
       "    <tr>\n",
       "      <th>0</th>\n",
       "      <td>3</td>\n",
       "      <td>male</td>\n",
       "      <td>1</td>\n",
       "      <td>0</td>\n",
       "      <td>A/5 21171</td>\n",
       "      <td>S</td>\n",
       "      <td>0</td>\n",
       "      <td>1912-01-12</td>\n",
       "    </tr>\n",
       "    <tr>\n",
       "      <th>1</th>\n",
       "      <td>1</td>\n",
       "      <td>female</td>\n",
       "      <td>1</td>\n",
       "      <td>0</td>\n",
       "      <td>PC 17599</td>\n",
       "      <td>C</td>\n",
       "      <td>1</td>\n",
       "      <td>1912-03-29</td>\n",
       "    </tr>\n",
       "    <tr>\n",
       "      <th>2</th>\n",
       "      <td>3</td>\n",
       "      <td>female</td>\n",
       "      <td>0</td>\n",
       "      <td>0</td>\n",
       "      <td>STON/O2. 3101282</td>\n",
       "      <td>S</td>\n",
       "      <td>1</td>\n",
       "      <td>1912-02-23</td>\n",
       "    </tr>\n",
       "    <tr>\n",
       "      <th>3</th>\n",
       "      <td>1</td>\n",
       "      <td>female</td>\n",
       "      <td>1</td>\n",
       "      <td>0</td>\n",
       "      <td>113803</td>\n",
       "      <td>S</td>\n",
       "      <td>1</td>\n",
       "      <td>1912-03-28</td>\n",
       "    </tr>\n",
       "    <tr>\n",
       "      <th>4</th>\n",
       "      <td>3</td>\n",
       "      <td>male</td>\n",
       "      <td>0</td>\n",
       "      <td>0</td>\n",
       "      <td>373450</td>\n",
       "      <td>S</td>\n",
       "      <td>0</td>\n",
       "      <td>1912-04-03</td>\n",
       "    </tr>\n",
       "    <tr>\n",
       "      <th>...</th>\n",
       "      <td>...</td>\n",
       "      <td>...</td>\n",
       "      <td>...</td>\n",
       "      <td>...</td>\n",
       "      <td>...</td>\n",
       "      <td>...</td>\n",
       "      <td>...</td>\n",
       "      <td>...</td>\n",
       "    </tr>\n",
       "    <tr>\n",
       "      <th>880</th>\n",
       "      <td>2</td>\n",
       "      <td>male</td>\n",
       "      <td>0</td>\n",
       "      <td>0</td>\n",
       "      <td>211536</td>\n",
       "      <td>S</td>\n",
       "      <td>0</td>\n",
       "      <td>1912-01-29</td>\n",
       "    </tr>\n",
       "    <tr>\n",
       "      <th>881</th>\n",
       "      <td>1</td>\n",
       "      <td>female</td>\n",
       "      <td>0</td>\n",
       "      <td>0</td>\n",
       "      <td>112053</td>\n",
       "      <td>S</td>\n",
       "      <td>1</td>\n",
       "      <td>1912-03-30</td>\n",
       "    </tr>\n",
       "    <tr>\n",
       "      <th>882</th>\n",
       "      <td>3</td>\n",
       "      <td>female</td>\n",
       "      <td>1</td>\n",
       "      <td>2</td>\n",
       "      <td>W./C. 6607</td>\n",
       "      <td>S</td>\n",
       "      <td>0</td>\n",
       "      <td>1912-04-07</td>\n",
       "    </tr>\n",
       "    <tr>\n",
       "      <th>883</th>\n",
       "      <td>1</td>\n",
       "      <td>male</td>\n",
       "      <td>0</td>\n",
       "      <td>0</td>\n",
       "      <td>111369</td>\n",
       "      <td>C</td>\n",
       "      <td>1</td>\n",
       "      <td>1912-03-01</td>\n",
       "    </tr>\n",
       "    <tr>\n",
       "      <th>884</th>\n",
       "      <td>3</td>\n",
       "      <td>male</td>\n",
       "      <td>0</td>\n",
       "      <td>0</td>\n",
       "      <td>370376</td>\n",
       "      <td>Q</td>\n",
       "      <td>0</td>\n",
       "      <td>1912-03-05</td>\n",
       "    </tr>\n",
       "  </tbody>\n",
       "</table>\n",
       "<p>882 rows × 8 columns</p>\n",
       "</div>"
      ],
      "text/plain": [
       "     Pclass   Gendr  SibSp  Parch            Ticket Embarked  Survived  \\\n",
       "0         3    male      1      0         A/5 21171        S         0   \n",
       "1         1  female      1      0          PC 17599        C         1   \n",
       "2         3  female      0      0  STON/O2. 3101282        S         1   \n",
       "3         1  female      1      0            113803        S         1   \n",
       "4         3    male      0      0            373450        S         0   \n",
       "..      ...     ...    ...    ...               ...      ...       ...   \n",
       "880       2    male      0      0            211536        S         0   \n",
       "881       1  female      0      0            112053        S         1   \n",
       "882       3  female      1      2        W./C. 6607        S         0   \n",
       "883       1    male      0      0            111369        C         1   \n",
       "884       3    male      0      0            370376        Q         0   \n",
       "\n",
       "    ticket_date  \n",
       "0    1912-01-12  \n",
       "1    1912-03-29  \n",
       "2    1912-02-23  \n",
       "3    1912-03-28  \n",
       "4    1912-04-03  \n",
       "..          ...  \n",
       "880  1912-01-29  \n",
       "881  1912-03-30  \n",
       "882  1912-04-07  \n",
       "883  1912-03-01  \n",
       "884  1912-03-05  \n",
       "\n",
       "[882 rows x 8 columns]"
      ]
     },
     "execution_count": 1281,
     "metadata": {},
     "output_type": "execute_result"
    }
   ],
   "source": [
    "data.drop('Age', axis=1)"
   ]
  },
  {
   "cell_type": "markdown",
   "id": "D1v90_t2vzVK",
   "metadata": {
    "id": "D1v90_t2vzVK"
   },
   "source": [
    "# 이상치 탐지 및 처리 (Outliers)"
   ]
  },
  {
   "cell_type": "code",
   "execution_count": 1282,
   "id": "z2Hai0VVv-ny",
   "metadata": {
    "ExecuteTime": {
     "end_time": "2023-12-13T06:23:45.879863Z",
     "start_time": "2023-12-13T06:23:45.849141Z"
    },
    "executionInfo": {
     "elapsed": 21,
     "status": "aborted",
     "timestamp": 1702351344723,
     "user": {
      "displayName": "방승욱",
      "userId": "03816609317595006072"
     },
     "user_tz": -540
    },
    "id": "z2Hai0VVv-ny"
   },
   "outputs": [
    {
     "data": {
      "text/html": [
       "<div>\n",
       "<style scoped>\n",
       "    .dataframe tbody tr th:only-of-type {\n",
       "        vertical-align: middle;\n",
       "    }\n",
       "\n",
       "    .dataframe tbody tr th {\n",
       "        vertical-align: top;\n",
       "    }\n",
       "\n",
       "    .dataframe thead th {\n",
       "        text-align: right;\n",
       "    }\n",
       "</style>\n",
       "<table border=\"1\" class=\"dataframe\">\n",
       "  <thead>\n",
       "    <tr style=\"text-align: right;\">\n",
       "      <th></th>\n",
       "      <th>Pclass</th>\n",
       "      <th>Age</th>\n",
       "      <th>SibSp</th>\n",
       "      <th>Parch</th>\n",
       "      <th>Survived</th>\n",
       "    </tr>\n",
       "  </thead>\n",
       "  <tbody>\n",
       "    <tr>\n",
       "      <th>count</th>\n",
       "      <td>882.000000</td>\n",
       "      <td>882.000000</td>\n",
       "      <td>882.000000</td>\n",
       "      <td>882.000000</td>\n",
       "      <td>882.000000</td>\n",
       "    </tr>\n",
       "    <tr>\n",
       "      <th>mean</th>\n",
       "      <td>2.311791</td>\n",
       "      <td>29.706349</td>\n",
       "      <td>0.520408</td>\n",
       "      <td>0.375283</td>\n",
       "      <td>0.377551</td>\n",
       "    </tr>\n",
       "    <tr>\n",
       "      <th>std</th>\n",
       "      <td>0.835681</td>\n",
       "      <td>13.496645</td>\n",
       "      <td>1.105210</td>\n",
       "      <td>0.804909</td>\n",
       "      <td>0.485049</td>\n",
       "    </tr>\n",
       "    <tr>\n",
       "      <th>min</th>\n",
       "      <td>1.000000</td>\n",
       "      <td>1.000000</td>\n",
       "      <td>0.000000</td>\n",
       "      <td>0.000000</td>\n",
       "      <td>0.000000</td>\n",
       "    </tr>\n",
       "    <tr>\n",
       "      <th>25%</th>\n",
       "      <td>2.000000</td>\n",
       "      <td>22.000000</td>\n",
       "      <td>0.000000</td>\n",
       "      <td>0.000000</td>\n",
       "      <td>0.000000</td>\n",
       "    </tr>\n",
       "    <tr>\n",
       "      <th>50%</th>\n",
       "      <td>3.000000</td>\n",
       "      <td>28.000000</td>\n",
       "      <td>0.000000</td>\n",
       "      <td>0.000000</td>\n",
       "      <td>0.000000</td>\n",
       "    </tr>\n",
       "    <tr>\n",
       "      <th>75%</th>\n",
       "      <td>3.000000</td>\n",
       "      <td>35.000000</td>\n",
       "      <td>1.000000</td>\n",
       "      <td>0.000000</td>\n",
       "      <td>1.000000</td>\n",
       "    </tr>\n",
       "    <tr>\n",
       "      <th>max</th>\n",
       "      <td>3.000000</td>\n",
       "      <td>145.000000</td>\n",
       "      <td>8.000000</td>\n",
       "      <td>6.000000</td>\n",
       "      <td>1.000000</td>\n",
       "    </tr>\n",
       "  </tbody>\n",
       "</table>\n",
       "</div>"
      ],
      "text/plain": [
       "           Pclass         Age       SibSp       Parch    Survived\n",
       "count  882.000000  882.000000  882.000000  882.000000  882.000000\n",
       "mean     2.311791   29.706349    0.520408    0.375283    0.377551\n",
       "std      0.835681   13.496645    1.105210    0.804909    0.485049\n",
       "min      1.000000    1.000000    0.000000    0.000000    0.000000\n",
       "25%      2.000000   22.000000    0.000000    0.000000    0.000000\n",
       "50%      3.000000   28.000000    0.000000    0.000000    0.000000\n",
       "75%      3.000000   35.000000    1.000000    0.000000    1.000000\n",
       "max      3.000000  145.000000    8.000000    6.000000    1.000000"
      ]
     },
     "execution_count": 1282,
     "metadata": {},
     "output_type": "execute_result"
    }
   ],
   "source": [
    "data.describe()"
   ]
  },
  {
   "cell_type": "code",
   "execution_count": 1283,
   "id": "RU8dFMfPwBcl",
   "metadata": {
    "ExecuteTime": {
     "end_time": "2023-12-13T06:23:45.896798Z",
     "start_time": "2023-12-13T06:23:45.884515Z"
    },
    "executionInfo": {
     "elapsed": 22,
     "status": "aborted",
     "timestamp": 1702351344724,
     "user": {
      "displayName": "방승욱",
      "userId": "03816609317595006072"
     },
     "user_tz": -540
    },
    "id": "RU8dFMfPwBcl"
   },
   "outputs": [
    {
     "data": {
      "text/plain": [
       "379      1.0\n",
       "785      1.0\n",
       "171      1.0\n",
       "823      1.0\n",
       "182      1.0\n",
       "       ...  \n",
       "490     71.0\n",
       "845     74.0\n",
       "627     80.0\n",
       "279     97.0\n",
       "321    145.0\n",
       "Name: Age, Length: 882, dtype: float64"
      ]
     },
     "execution_count": 1283,
     "metadata": {},
     "output_type": "execute_result"
    }
   ],
   "source": [
    "data['Age'].sort_values()"
   ]
  },
  {
   "cell_type": "code",
   "execution_count": 1284,
   "id": "C4zhf6uRwBpp",
   "metadata": {
    "ExecuteTime": {
     "end_time": "2023-12-13T06:23:45.914852Z",
     "start_time": "2023-12-13T06:23:45.900485Z"
    },
    "executionInfo": {
     "elapsed": 21,
     "status": "aborted",
     "timestamp": 1702351344724,
     "user": {
      "displayName": "방승욱",
      "userId": "03816609317595006072"
     },
     "user_tz": -540
    },
    "id": "C4zhf6uRwBpp"
   },
   "outputs": [
    {
     "data": {
      "text/plain": [
       "277    4\n",
       "170    4\n",
       "844    4\n",
       "384    5\n",
       "71     5\n",
       "477    5\n",
       "60     5\n",
       "680    5\n",
       "158    8\n",
       "322    8\n",
       "840    8\n",
       "857    8\n",
       "200    8\n",
       "789    8\n",
       "179    8\n",
       "Name: SibSp, dtype: int64"
      ]
     },
     "execution_count": 1284,
     "metadata": {},
     "output_type": "execute_result"
    }
   ],
   "source": [
    "data['SibSp'].sort_values().tail(15)"
   ]
  },
  {
   "cell_type": "code",
   "execution_count": 1285,
   "id": "VJb6y0fuwBss",
   "metadata": {
    "ExecuteTime": {
     "end_time": "2023-12-13T06:23:45.924823Z",
     "start_time": "2023-12-13T06:23:45.919229Z"
    },
    "executionInfo": {
     "elapsed": 21,
     "status": "aborted",
     "timestamp": 1702351344724,
     "user": {
      "displayName": "방승욱",
      "userId": "03816609317595006072"
     },
     "user_tz": -540
    },
    "id": "VJb6y0fuwBss"
   },
   "outputs": [],
   "source": [
    "import matplotlib.pyplot as plt\n",
    "import seaborn as sns"
   ]
  },
  {
   "cell_type": "code",
   "execution_count": 1286,
   "id": "OlthaCNAwBvZ",
   "metadata": {
    "ExecuteTime": {
     "end_time": "2023-12-13T06:23:46.268854Z",
     "start_time": "2023-12-13T06:23:45.929497Z"
    },
    "executionInfo": {
     "elapsed": 21,
     "status": "aborted",
     "timestamp": 1702351344724,
     "user": {
      "displayName": "방승욱",
      "userId": "03816609317595006072"
     },
     "user_tz": -540
    },
    "id": "OlthaCNAwBvZ"
   },
   "outputs": [
    {
     "data": {
      "text/plain": [
       "<seaborn.axisgrid.FacetGrid at 0x7f4dfe23ffa0>"
      ]
     },
     "execution_count": 1286,
     "metadata": {},
     "output_type": "execute_result"
    },
    {
     "data": {
      "image/png": "[encoded data removed]",
      "text/plain": [
       "<Figure size 360x360 with 1 Axes>"
      ]
     },
     "metadata": {
      "needs_background": "light"
     },
     "output_type": "display_data"
    }
   ],
   "source": [
    "sns.displot(data['SibSp'])"
   ]
  },
  {
   "cell_type": "code",
   "execution_count": 1287,
   "id": "QuxIwSJGwBye",
   "metadata": {
    "ExecuteTime": {
     "end_time": "2023-12-13T06:23:46.651714Z",
     "start_time": "2023-12-13T06:23:46.272164Z"
    },
    "executionInfo": {
     "elapsed": 21,
     "status": "aborted",
     "timestamp": 1702351344724,
     "user": {
      "displayName": "방승욱",
      "userId": "03816609317595006072"
     },
     "user_tz": -540
    },
    "id": "QuxIwSJGwBye"
   },
   "outputs": [
    {
     "data": {
      "text/plain": [
       "<seaborn.axisgrid.FacetGrid at 0x7f4dfe201970>"
      ]
     },
     "execution_count": 1287,
     "metadata": {},
     "output_type": "execute_result"
    },
    {
     "data": {
      "image/png": "[encoded data removed]",
      "text/plain": [
       "<Figure size 360x360 with 1 Axes>"
      ]
     },
     "metadata": {
      "needs_background": "light"
     },
     "output_type": "display_data"
    }
   ],
   "source": [
    "sns.displot(data['Age'])"
   ]
  },
  {
   "cell_type": "code",
   "execution_count": 1288,
   "id": "Dj2IU4UywB1Q",
   "metadata": {
    "ExecuteTime": {
     "end_time": "2023-12-13T06:23:46.843717Z",
     "start_time": "2023-12-13T06:23:46.656227Z"
    },
    "executionInfo": {
     "elapsed": 21,
     "status": "aborted",
     "timestamp": 1702351344724,
     "user": {
      "displayName": "방승욱",
      "userId": "03816609317595006072"
     },
     "user_tz": -540
    },
    "id": "Dj2IU4UywB1Q"
   },
   "outputs": [
    {
     "data": {
      "text/plain": [
       "<AxesSubplot:ylabel='Age'>"
      ]
     },
     "execution_count": 1288,
     "metadata": {},
     "output_type": "execute_result"
    },
    {
     "data": {
      "image/png": "[encoded data removed]",
      "text/plain": [
       "<Figure size 432x288 with 1 Axes>"
      ]
     },
     "metadata": {
      "needs_background": "light"
     },
     "output_type": "display_data"
    }
   ],
   "source": [
    "sns.scatterplot(x = data.index, y = data['Age'])"
   ]
  },
  {
   "cell_type": "code",
   "execution_count": 1289,
   "id": "x3TSyQPPwB3-",
   "metadata": {
    "ExecuteTime": {
     "end_time": "2023-12-13T06:23:47.041624Z",
     "start_time": "2023-12-13T06:23:46.848454Z"
    },
    "executionInfo": {
     "elapsed": 21,
     "status": "aborted",
     "timestamp": 1702351344724,
     "user": {
      "displayName": "방승욱",
      "userId": "03816609317595006072"
     },
     "user_tz": -540
    },
    "id": "x3TSyQPPwB3-"
   },
   "outputs": [
    {
     "data": {
      "text/plain": [
       "<AxesSubplot:ylabel='SibSp'>"
      ]
     },
     "execution_count": 1289,
     "metadata": {},
     "output_type": "execute_result"
    },
    {
     "data": {
      "image/png": "[encoded data removed]",
      "text/plain": [
       "<Figure size 432x288 with 1 Axes>"
      ]
     },
     "metadata": {
      "needs_background": "light"
     },
     "output_type": "display_data"
    }
   ],
   "source": [
    "sns.scatterplot(x = data.index, y = data['SibSp'])"
   ]
  },
  {
   "cell_type": "code",
   "execution_count": 1290,
   "id": "q1n3xqh6wB7G",
   "metadata": {
    "ExecuteTime": {
     "end_time": "2023-12-13T06:23:47.175629Z",
     "start_time": "2023-12-13T06:23:47.050783Z"
    },
    "executionInfo": {
     "elapsed": 21,
     "status": "aborted",
     "timestamp": 1702351344724,
     "user": {
      "displayName": "방승욱",
      "userId": "03816609317595006072"
     },
     "user_tz": -540
    },
    "id": "q1n3xqh6wB7G"
   },
   "outputs": [
    {
     "name": "stderr",
     "output_type": "stream",
     "text": [
      "/opt/conda/lib/python3.8/site-packages/seaborn/_decorators.py:36: FutureWarning: Pass the following variable as a keyword arg: x. From version 0.12, the only valid positional argument will be `data`, and passing other arguments without an explicit keyword will result in an error or misinterpretation.\n",
      "  warnings.warn(\n"
     ]
    },
    {
     "data": {
      "text/plain": [
       "<AxesSubplot:xlabel='Age'>"
      ]
     },
     "execution_count": 1290,
     "metadata": {},
     "output_type": "execute_result"
    },
    {
     "data": {
      "image/png": "[encoded data removed]",
      "text/plain": [
       "<Figure size 432x288 with 1 Axes>"
      ]
     },
     "metadata": {
      "needs_background": "light"
     },
     "output_type": "display_data"
    }
   ],
   "source": [
    "sns.boxplot(data['Age'])"
   ]
  },
  {
   "cell_type": "code",
   "execution_count": 1291,
   "id": "1dH0jrFfwB-C",
   "metadata": {
    "ExecuteTime": {
     "end_time": "2023-12-13T06:23:47.181610Z",
     "start_time": "2023-12-13T06:23:47.177998Z"
    },
    "executionInfo": {
     "elapsed": 21,
     "status": "aborted",
     "timestamp": 1702351344724,
     "user": {
      "displayName": "방승욱",
      "userId": "03816609317595006072"
     },
     "user_tz": -540
    },
    "id": "1dH0jrFfwB-C"
   },
   "outputs": [],
   "source": [
    "#IQR = 75% - 25%\n",
    "#IQR * 1.5"
   ]
  },
  {
   "cell_type": "code",
   "execution_count": 1292,
   "id": "YdN-9gVSwCAz",
   "metadata": {
    "ExecuteTime": {
     "end_time": "2023-12-13T06:23:47.212628Z",
     "start_time": "2023-12-13T06:23:47.184287Z"
    },
    "executionInfo": {
     "elapsed": 19,
     "status": "aborted",
     "timestamp": 1702351344724,
     "user": {
      "displayName": "방승욱",
      "userId": "03816609317595006072"
     },
     "user_tz": -540
    },
    "id": "YdN-9gVSwCAz"
   },
   "outputs": [
    {
     "data": {
      "text/html": [
       "<div>\n",
       "<style scoped>\n",
       "    .dataframe tbody tr th:only-of-type {\n",
       "        vertical-align: middle;\n",
       "    }\n",
       "\n",
       "    .dataframe tbody tr th {\n",
       "        vertical-align: top;\n",
       "    }\n",
       "\n",
       "    .dataframe thead th {\n",
       "        text-align: right;\n",
       "    }\n",
       "</style>\n",
       "<table border=\"1\" class=\"dataframe\">\n",
       "  <thead>\n",
       "    <tr style=\"text-align: right;\">\n",
       "      <th></th>\n",
       "      <th>Pclass</th>\n",
       "      <th>Age</th>\n",
       "      <th>SibSp</th>\n",
       "      <th>Parch</th>\n",
       "      <th>Survived</th>\n",
       "    </tr>\n",
       "  </thead>\n",
       "  <tbody>\n",
       "    <tr>\n",
       "      <th>count</th>\n",
       "      <td>882.000000</td>\n",
       "      <td>882.000000</td>\n",
       "      <td>882.000000</td>\n",
       "      <td>882.000000</td>\n",
       "      <td>882.000000</td>\n",
       "    </tr>\n",
       "    <tr>\n",
       "      <th>mean</th>\n",
       "      <td>2.311791</td>\n",
       "      <td>29.706349</td>\n",
       "      <td>0.520408</td>\n",
       "      <td>0.375283</td>\n",
       "      <td>0.377551</td>\n",
       "    </tr>\n",
       "    <tr>\n",
       "      <th>std</th>\n",
       "      <td>0.835681</td>\n",
       "      <td>13.496645</td>\n",
       "      <td>1.105210</td>\n",
       "      <td>0.804909</td>\n",
       "      <td>0.485049</td>\n",
       "    </tr>\n",
       "    <tr>\n",
       "      <th>min</th>\n",
       "      <td>1.000000</td>\n",
       "      <td>1.000000</td>\n",
       "      <td>0.000000</td>\n",
       "      <td>0.000000</td>\n",
       "      <td>0.000000</td>\n",
       "    </tr>\n",
       "    <tr>\n",
       "      <th>25%</th>\n",
       "      <td>2.000000</td>\n",
       "      <td>22.000000</td>\n",
       "      <td>0.000000</td>\n",
       "      <td>0.000000</td>\n",
       "      <td>0.000000</td>\n",
       "    </tr>\n",
       "    <tr>\n",
       "      <th>50%</th>\n",
       "      <td>3.000000</td>\n",
       "      <td>28.000000</td>\n",
       "      <td>0.000000</td>\n",
       "      <td>0.000000</td>\n",
       "      <td>0.000000</td>\n",
       "    </tr>\n",
       "    <tr>\n",
       "      <th>75%</th>\n",
       "      <td>3.000000</td>\n",
       "      <td>35.000000</td>\n",
       "      <td>1.000000</td>\n",
       "      <td>0.000000</td>\n",
       "      <td>1.000000</td>\n",
       "    </tr>\n",
       "    <tr>\n",
       "      <th>max</th>\n",
       "      <td>3.000000</td>\n",
       "      <td>145.000000</td>\n",
       "      <td>8.000000</td>\n",
       "      <td>6.000000</td>\n",
       "      <td>1.000000</td>\n",
       "    </tr>\n",
       "  </tbody>\n",
       "</table>\n",
       "</div>"
      ],
      "text/plain": [
       "           Pclass         Age       SibSp       Parch    Survived\n",
       "count  882.000000  882.000000  882.000000  882.000000  882.000000\n",
       "mean     2.311791   29.706349    0.520408    0.375283    0.377551\n",
       "std      0.835681   13.496645    1.105210    0.804909    0.485049\n",
       "min      1.000000    1.000000    0.000000    0.000000    0.000000\n",
       "25%      2.000000   22.000000    0.000000    0.000000    0.000000\n",
       "50%      3.000000   28.000000    0.000000    0.000000    0.000000\n",
       "75%      3.000000   35.000000    1.000000    0.000000    1.000000\n",
       "max      3.000000  145.000000    8.000000    6.000000    1.000000"
      ]
     },
     "execution_count": 1292,
     "metadata": {},
     "output_type": "execute_result"
    }
   ],
   "source": [
    "data.describe()"
   ]
  },
  {
   "cell_type": "code",
   "execution_count": 1293,
   "id": "X4gVf_84wCDt",
   "metadata": {
    "ExecuteTime": {
     "end_time": "2023-12-13T06:23:47.221649Z",
     "start_time": "2023-12-13T06:23:47.215303Z"
    },
    "executionInfo": {
     "elapsed": 19,
     "status": "aborted",
     "timestamp": 1702351344724,
     "user": {
      "displayName": "방승욱",
      "userId": "03816609317595006072"
     },
     "user_tz": -540
    },
    "id": "X4gVf_84wCDt"
   },
   "outputs": [],
   "source": [
    "data = data[data['Age'] <= 100]"
   ]
  },
  {
   "cell_type": "code",
   "execution_count": 1294,
   "id": "ZJnVF9aGwCGu",
   "metadata": {
    "ExecuteTime": {
     "end_time": "2023-12-13T06:23:47.242606Z",
     "start_time": "2023-12-13T06:23:47.230984Z"
    },
    "executionInfo": {
     "elapsed": 19,
     "status": "aborted",
     "timestamp": 1702351344724,
     "user": {
      "displayName": "방승욱",
      "userId": "03816609317595006072"
     },
     "user_tz": -540
    },
    "id": "ZJnVF9aGwCGu"
   },
   "outputs": [
    {
     "data": {
      "text/plain": [
       "171     1.0\n",
       "384     1.0\n",
       "182     1.0\n",
       "379     1.0\n",
       "823     1.0\n",
       "       ... \n",
       "95     71.0\n",
       "490    71.0\n",
       "845    74.0\n",
       "627    80.0\n",
       "279    97.0\n",
       "Name: Age, Length: 881, dtype: float64"
      ]
     },
     "execution_count": 1294,
     "metadata": {},
     "output_type": "execute_result"
    }
   ],
   "source": [
    "data['Age'].sort_values()"
   ]
  },
  {
   "cell_type": "code",
   "execution_count": 1295,
   "id": "McyvpFtQwCJ-",
   "metadata": {
    "ExecuteTime": {
     "end_time": "2023-12-13T06:23:47.255607Z",
     "start_time": "2023-12-13T06:23:47.247120Z"
    },
    "executionInfo": {
     "elapsed": 19,
     "status": "aborted",
     "timestamp": 1702351344724,
     "user": {
      "displayName": "방승욱",
      "userId": "03816609317595006072"
     },
     "user_tz": -540
    },
    "id": "McyvpFtQwCJ-"
   },
   "outputs": [
    {
     "data": {
      "text/plain": [
       "171     1.0\n",
       "384     1.0\n",
       "182     1.0\n",
       "379     1.0\n",
       "823     1.0\n",
       "       ... \n",
       "95     71.0\n",
       "490    71.0\n",
       "845    74.0\n",
       "627    80.0\n",
       "279    97.0\n",
       "Name: Age, Length: 881, dtype: float64"
      ]
     },
     "execution_count": 1295,
     "metadata": {},
     "output_type": "execute_result"
    }
   ],
   "source": [
    "data['Age'].sort_values()"
   ]
  },
  {
   "cell_type": "code",
   "execution_count": 1296,
   "id": "fmF_F6vsxM7X",
   "metadata": {
    "ExecuteTime": {
     "end_time": "2023-12-13T06:23:47.264615Z",
     "start_time": "2023-12-13T06:23:47.258392Z"
    },
    "executionInfo": {
     "elapsed": 19,
     "status": "aborted",
     "timestamp": 1702351344724,
     "user": {
      "displayName": "방승욱",
      "userId": "03816609317595006072"
     },
     "user_tz": -540
    },
    "id": "fmF_F6vsxM7X"
   },
   "outputs": [],
   "source": [
    "def age_func(x):\n",
    "  if x > 80:\n",
    "    return 80\n",
    "  else:\n",
    "    return x"
   ]
  },
  {
   "cell_type": "code",
   "execution_count": 1297,
   "id": "8chsTYH6xM-2",
   "metadata": {
    "ExecuteTime": {
     "end_time": "2023-12-13T06:23:47.278580Z",
     "start_time": "2023-12-13T06:23:47.269531Z"
    },
    "executionInfo": {
     "elapsed": 19,
     "status": "aborted",
     "timestamp": 1702351344724,
     "user": {
      "displayName": "방승욱",
      "userId": "03816609317595006072"
     },
     "user_tz": -540
    },
    "id": "8chsTYH6xM-2"
   },
   "outputs": [
    {
     "name": "stderr",
     "output_type": "stream",
     "text": [
      "<ipython-input-1297-7efa6fce65d9>:1: SettingWithCopyWarning: \n",
      "A value is trying to be set on a copy of a slice from a DataFrame.\n",
      "Try using .loc[row_indexer,col_indexer] = value instead\n",
      "\n",
      "See the caveats in the documentation: https://pandas.pydata.org/pandas-docs/stable/user_guide/indexing.html#returning-a-view-versus-a-copy\n",
      "  data['Age']= data['Age'].apply(age_func)\n"
     ]
    }
   ],
   "source": [
    "data['Age']= data['Age'].apply(age_func)"
   ]
  },
  {
   "cell_type": "code",
   "execution_count": 1298,
   "id": "Ff-zGSWAxNB4",
   "metadata": {
    "ExecuteTime": {
     "end_time": "2023-12-13T06:23:47.293576Z",
     "start_time": "2023-12-13T06:23:47.280776Z"
    },
    "executionInfo": {
     "elapsed": 19,
     "status": "aborted",
     "timestamp": 1702351344724,
     "user": {
      "displayName": "방승욱",
      "userId": "03816609317595006072"
     },
     "user_tz": -540
    },
    "id": "Ff-zGSWAxNB4"
   },
   "outputs": [
    {
     "data": {
      "text/plain": [
       "171     1.0\n",
       "384     1.0\n",
       "182     1.0\n",
       "379     1.0\n",
       "823     1.0\n",
       "       ... \n",
       "95     71.0\n",
       "490    71.0\n",
       "845    74.0\n",
       "627    80.0\n",
       "279    80.0\n",
       "Name: Age, Length: 881, dtype: float64"
      ]
     },
     "execution_count": 1298,
     "metadata": {},
     "output_type": "execute_result"
    }
   ],
   "source": [
    "data['Age'].sort_values()"
   ]
  },
  {
   "cell_type": "code",
   "execution_count": 1299,
   "id": "CAZbfGjRxNE0",
   "metadata": {
    "ExecuteTime": {
     "end_time": "2023-12-13T06:23:47.304594Z",
     "start_time": "2023-12-13T06:23:47.297483Z"
    },
    "executionInfo": {
     "elapsed": 19,
     "status": "aborted",
     "timestamp": 1702351344724,
     "user": {
      "displayName": "방승욱",
      "userId": "03816609317595006072"
     },
     "user_tz": -540
    },
    "id": "CAZbfGjRxNE0"
   },
   "outputs": [],
   "source": [
    "def new_age_func(x):\n",
    "  if x > 70:\n",
    "    return 70\n",
    "  else:\n",
    "    return x"
   ]
  },
  {
   "cell_type": "code",
   "execution_count": 1300,
   "id": "LSfFSisRxNHg",
   "metadata": {
    "ExecuteTime": {
     "end_time": "2023-12-13T06:23:47.319611Z",
     "start_time": "2023-12-13T06:23:47.308731Z"
    },
    "executionInfo": {
     "elapsed": 19,
     "status": "aborted",
     "timestamp": 1702351344724,
     "user": {
      "displayName": "방승욱",
      "userId": "03816609317595006072"
     },
     "user_tz": -540
    },
    "id": "LSfFSisRxNHg"
   },
   "outputs": [
    {
     "data": {
      "text/plain": [
       "0      22.0\n",
       "1      38.0\n",
       "2      26.0\n",
       "3      28.0\n",
       "4      35.0\n",
       "       ... \n",
       "880    27.0\n",
       "881    19.0\n",
       "882    28.0\n",
       "883    26.0\n",
       "884    32.0\n",
       "Name: Age, Length: 881, dtype: float64"
      ]
     },
     "execution_count": 1300,
     "metadata": {},
     "output_type": "execute_result"
    }
   ],
   "source": [
    "data['Age'].apply(new_age_func)"
   ]
  },
  {
   "cell_type": "code",
   "execution_count": 1301,
   "id": "OKS1fyu3xNKQ",
   "metadata": {
    "ExecuteTime": {
     "end_time": "2023-12-13T06:23:47.333585Z",
     "start_time": "2023-12-13T06:23:47.321253Z"
    },
    "executionInfo": {
     "elapsed": 19,
     "status": "aborted",
     "timestamp": 1702351344724,
     "user": {
      "displayName": "방승욱",
      "userId": "03816609317595006072"
     },
     "user_tz": -540
    },
    "id": "OKS1fyu3xNKQ"
   },
   "outputs": [
    {
     "data": {
      "text/plain": [
       "0      22.0\n",
       "1      38.0\n",
       "2      26.0\n",
       "3      28.0\n",
       "4      35.0\n",
       "       ... \n",
       "880    27.0\n",
       "881    19.0\n",
       "882    28.0\n",
       "883    26.0\n",
       "884    32.0\n",
       "Name: Age, Length: 881, dtype: float64"
      ]
     },
     "execution_count": 1301,
     "metadata": {},
     "output_type": "execute_result"
    }
   ],
   "source": [
    "data['Age'].apply(lambda x: 70 if x>70 else x)"
   ]
  },
  {
   "cell_type": "markdown",
   "id": "4TQAMdoNxdu_",
   "metadata": {
    "id": "4TQAMdoNxdu_"
   },
   "source": [
    "\n",
    "# 중복 데이터 처리 및 데이터 형태 변환처리(Removing duplicate data, apply, map, replace, rename)"
   ]
  },
  {
   "cell_type": "code",
   "execution_count": 1302,
   "id": "oU6eQJQNyti4",
   "metadata": {
    "ExecuteTime": {
     "end_time": "2023-12-13T06:23:47.341677Z",
     "start_time": "2023-12-13T06:23:47.335985Z"
    },
    "executionInfo": {
     "elapsed": 3810,
     "status": "aborted",
     "timestamp": 1702351344729,
     "user": {
      "displayName": "방승욱",
      "userId": "03816609317595006072"
     },
     "user_tz": -540
    },
    "id": "oU6eQJQNyti4"
   },
   "outputs": [],
   "source": [
    "data = data.rename({'Gendr': 'Gender'}, axis = 1)"
   ]
  },
  {
   "cell_type": "code",
   "execution_count": 1303,
   "id": "QO4AI60fzC2v",
   "metadata": {
    "ExecuteTime": {
     "end_time": "2023-12-13T06:23:47.371624Z",
     "start_time": "2023-12-13T06:23:47.345129Z"
    },
    "executionInfo": {
     "elapsed": 3810,
     "status": "aborted",
     "timestamp": 1702351344729,
     "user": {
      "displayName": "방승욱",
      "userId": "03816609317595006072"
     },
     "user_tz": -540
    },
    "id": "QO4AI60fzC2v"
   },
   "outputs": [
    {
     "data": {
      "text/html": [
       "<div>\n",
       "<style scoped>\n",
       "    .dataframe tbody tr th:only-of-type {\n",
       "        vertical-align: middle;\n",
       "    }\n",
       "\n",
       "    .dataframe tbody tr th {\n",
       "        vertical-align: top;\n",
       "    }\n",
       "\n",
       "    .dataframe thead th {\n",
       "        text-align: right;\n",
       "    }\n",
       "</style>\n",
       "<table border=\"1\" class=\"dataframe\">\n",
       "  <thead>\n",
       "    <tr style=\"text-align: right;\">\n",
       "      <th></th>\n",
       "      <th>Pclass</th>\n",
       "      <th>Gender</th>\n",
       "      <th>Age</th>\n",
       "      <th>SibSp</th>\n",
       "      <th>Parch</th>\n",
       "      <th>Ticket</th>\n",
       "      <th>Embarked</th>\n",
       "      <th>Survived</th>\n",
       "      <th>ticket_date</th>\n",
       "    </tr>\n",
       "  </thead>\n",
       "  <tbody>\n",
       "    <tr>\n",
       "      <th>a</th>\n",
       "      <td>3</td>\n",
       "      <td>male</td>\n",
       "      <td>22.0</td>\n",
       "      <td>1</td>\n",
       "      <td>0</td>\n",
       "      <td>A/5 21171</td>\n",
       "      <td>S</td>\n",
       "      <td>0</td>\n",
       "      <td>1912-01-12</td>\n",
       "    </tr>\n",
       "    <tr>\n",
       "      <th>b</th>\n",
       "      <td>1</td>\n",
       "      <td>female</td>\n",
       "      <td>38.0</td>\n",
       "      <td>1</td>\n",
       "      <td>0</td>\n",
       "      <td>PC 17599</td>\n",
       "      <td>C</td>\n",
       "      <td>1</td>\n",
       "      <td>1912-03-29</td>\n",
       "    </tr>\n",
       "    <tr>\n",
       "      <th>c</th>\n",
       "      <td>3</td>\n",
       "      <td>female</td>\n",
       "      <td>26.0</td>\n",
       "      <td>0</td>\n",
       "      <td>0</td>\n",
       "      <td>STON/O2. 3101282</td>\n",
       "      <td>S</td>\n",
       "      <td>1</td>\n",
       "      <td>1912-02-23</td>\n",
       "    </tr>\n",
       "    <tr>\n",
       "      <th>3</th>\n",
       "      <td>1</td>\n",
       "      <td>female</td>\n",
       "      <td>28.0</td>\n",
       "      <td>1</td>\n",
       "      <td>0</td>\n",
       "      <td>113803</td>\n",
       "      <td>S</td>\n",
       "      <td>1</td>\n",
       "      <td>1912-03-28</td>\n",
       "    </tr>\n",
       "    <tr>\n",
       "      <th>4</th>\n",
       "      <td>3</td>\n",
       "      <td>male</td>\n",
       "      <td>35.0</td>\n",
       "      <td>0</td>\n",
       "      <td>0</td>\n",
       "      <td>373450</td>\n",
       "      <td>S</td>\n",
       "      <td>0</td>\n",
       "      <td>1912-04-03</td>\n",
       "    </tr>\n",
       "    <tr>\n",
       "      <th>...</th>\n",
       "      <td>...</td>\n",
       "      <td>...</td>\n",
       "      <td>...</td>\n",
       "      <td>...</td>\n",
       "      <td>...</td>\n",
       "      <td>...</td>\n",
       "      <td>...</td>\n",
       "      <td>...</td>\n",
       "      <td>...</td>\n",
       "    </tr>\n",
       "    <tr>\n",
       "      <th>880</th>\n",
       "      <td>2</td>\n",
       "      <td>male</td>\n",
       "      <td>27.0</td>\n",
       "      <td>0</td>\n",
       "      <td>0</td>\n",
       "      <td>211536</td>\n",
       "      <td>S</td>\n",
       "      <td>0</td>\n",
       "      <td>1912-01-29</td>\n",
       "    </tr>\n",
       "    <tr>\n",
       "      <th>881</th>\n",
       "      <td>1</td>\n",
       "      <td>female</td>\n",
       "      <td>19.0</td>\n",
       "      <td>0</td>\n",
       "      <td>0</td>\n",
       "      <td>112053</td>\n",
       "      <td>S</td>\n",
       "      <td>1</td>\n",
       "      <td>1912-03-30</td>\n",
       "    </tr>\n",
       "    <tr>\n",
       "      <th>882</th>\n",
       "      <td>3</td>\n",
       "      <td>female</td>\n",
       "      <td>28.0</td>\n",
       "      <td>1</td>\n",
       "      <td>2</td>\n",
       "      <td>W./C. 6607</td>\n",
       "      <td>S</td>\n",
       "      <td>0</td>\n",
       "      <td>1912-04-07</td>\n",
       "    </tr>\n",
       "    <tr>\n",
       "      <th>883</th>\n",
       "      <td>1</td>\n",
       "      <td>male</td>\n",
       "      <td>26.0</td>\n",
       "      <td>0</td>\n",
       "      <td>0</td>\n",
       "      <td>111369</td>\n",
       "      <td>C</td>\n",
       "      <td>1</td>\n",
       "      <td>1912-03-01</td>\n",
       "    </tr>\n",
       "    <tr>\n",
       "      <th>884</th>\n",
       "      <td>3</td>\n",
       "      <td>male</td>\n",
       "      <td>32.0</td>\n",
       "      <td>0</td>\n",
       "      <td>0</td>\n",
       "      <td>370376</td>\n",
       "      <td>Q</td>\n",
       "      <td>0</td>\n",
       "      <td>1912-03-05</td>\n",
       "    </tr>\n",
       "  </tbody>\n",
       "</table>\n",
       "<p>881 rows × 9 columns</p>\n",
       "</div>"
      ],
      "text/plain": [
       "     Pclass  Gender   Age  SibSp  Parch            Ticket Embarked  Survived  \\\n",
       "a         3    male  22.0      1      0         A/5 21171        S         0   \n",
       "b         1  female  38.0      1      0          PC 17599        C         1   \n",
       "c         3  female  26.0      0      0  STON/O2. 3101282        S         1   \n",
       "3         1  female  28.0      1      0            113803        S         1   \n",
       "4         3    male  35.0      0      0            373450        S         0   \n",
       "..      ...     ...   ...    ...    ...               ...      ...       ...   \n",
       "880       2    male  27.0      0      0            211536        S         0   \n",
       "881       1  female  19.0      0      0            112053        S         1   \n",
       "882       3  female  28.0      1      2        W./C. 6607        S         0   \n",
       "883       1    male  26.0      0      0            111369        C         1   \n",
       "884       3    male  32.0      0      0            370376        Q         0   \n",
       "\n",
       "    ticket_date  \n",
       "a    1912-01-12  \n",
       "b    1912-03-29  \n",
       "c    1912-02-23  \n",
       "3    1912-03-28  \n",
       "4    1912-04-03  \n",
       "..          ...  \n",
       "880  1912-01-29  \n",
       "881  1912-03-30  \n",
       "882  1912-04-07  \n",
       "883  1912-03-01  \n",
       "884  1912-03-05  \n",
       "\n",
       "[881 rows x 9 columns]"
      ]
     },
     "execution_count": 1303,
     "metadata": {},
     "output_type": "execute_result"
    }
   ],
   "source": [
    "data.rename({0: 'a', 1: 'b', 2: 'c'})"
   ]
  },
  {
   "cell_type": "code",
   "execution_count": 1304,
   "id": "ZzijEDgMzC5-",
   "metadata": {
    "ExecuteTime": {
     "end_time": "2023-12-13T06:23:47.383612Z",
     "start_time": "2023-12-13T06:23:47.374122Z"
    },
    "executionInfo": {
     "elapsed": 3810,
     "status": "aborted",
     "timestamp": 1702351344729,
     "user": {
      "displayName": "방승욱",
      "userId": "03816609317595006072"
     },
     "user_tz": -540
    },
    "id": "ZzijEDgMzC5-"
   },
   "outputs": [
    {
     "data": {
      "text/plain": [
       "0      Southampton\n",
       "1        Cherbourg\n",
       "2      Southampton\n",
       "3      Southampton\n",
       "4      Southampton\n",
       "          ...     \n",
       "880    Southampton\n",
       "881    Southampton\n",
       "882    Southampton\n",
       "883      Cherbourg\n",
       "884     Queenstown\n",
       "Name: Embarked, Length: 881, dtype: object"
      ]
     },
     "execution_count": 1304,
     "metadata": {},
     "output_type": "execute_result"
    }
   ],
   "source": [
    "data['Embarked'].replace({'S': 'Southampton', 'C': 'Cherbourg', 'Q': 'Queenstown'})"
   ]
  },
  {
   "cell_type": "code",
   "execution_count": 1305,
   "id": "sCxE54a6zC88",
   "metadata": {
    "ExecuteTime": {
     "end_time": "2023-12-13T06:23:47.412674Z",
     "start_time": "2023-12-13T06:23:47.386556Z"
    },
    "executionInfo": {
     "elapsed": 3809,
     "status": "aborted",
     "timestamp": 1702351344729,
     "user": {
      "displayName": "방승욱",
      "userId": "03816609317595006072"
     },
     "user_tz": -540
    },
    "id": "sCxE54a6zC88"
   },
   "outputs": [
    {
     "data": {
      "text/html": [
       "<div>\n",
       "<style scoped>\n",
       "    .dataframe tbody tr th:only-of-type {\n",
       "        vertical-align: middle;\n",
       "    }\n",
       "\n",
       "    .dataframe tbody tr th {\n",
       "        vertical-align: top;\n",
       "    }\n",
       "\n",
       "    .dataframe thead th {\n",
       "        text-align: right;\n",
       "    }\n",
       "</style>\n",
       "<table border=\"1\" class=\"dataframe\">\n",
       "  <thead>\n",
       "    <tr style=\"text-align: right;\">\n",
       "      <th></th>\n",
       "      <th>Pclass</th>\n",
       "      <th>Gender</th>\n",
       "      <th>Age</th>\n",
       "      <th>SibSp</th>\n",
       "      <th>Parch</th>\n",
       "      <th>Ticket</th>\n",
       "      <th>Embarked</th>\n",
       "      <th>Survived</th>\n",
       "      <th>ticket_date</th>\n",
       "    </tr>\n",
       "  </thead>\n",
       "  <tbody>\n",
       "    <tr>\n",
       "      <th>0</th>\n",
       "      <td>3</td>\n",
       "      <td>male</td>\n",
       "      <td>22.0</td>\n",
       "      <td>1</td>\n",
       "      <td>0</td>\n",
       "      <td>A/5 21171</td>\n",
       "      <td>Southampton</td>\n",
       "      <td>0</td>\n",
       "      <td>1912-01-12</td>\n",
       "    </tr>\n",
       "    <tr>\n",
       "      <th>1</th>\n",
       "      <td>1</td>\n",
       "      <td>female</td>\n",
       "      <td>38.0</td>\n",
       "      <td>1</td>\n",
       "      <td>0</td>\n",
       "      <td>PC 17599</td>\n",
       "      <td>Cherbourg</td>\n",
       "      <td>1</td>\n",
       "      <td>1912-03-29</td>\n",
       "    </tr>\n",
       "    <tr>\n",
       "      <th>2</th>\n",
       "      <td>3</td>\n",
       "      <td>female</td>\n",
       "      <td>26.0</td>\n",
       "      <td>0</td>\n",
       "      <td>0</td>\n",
       "      <td>STON/O2. 3101282</td>\n",
       "      <td>Southampton</td>\n",
       "      <td>1</td>\n",
       "      <td>1912-02-23</td>\n",
       "    </tr>\n",
       "    <tr>\n",
       "      <th>3</th>\n",
       "      <td>1</td>\n",
       "      <td>female</td>\n",
       "      <td>28.0</td>\n",
       "      <td>1</td>\n",
       "      <td>0</td>\n",
       "      <td>113803</td>\n",
       "      <td>Southampton</td>\n",
       "      <td>1</td>\n",
       "      <td>1912-03-28</td>\n",
       "    </tr>\n",
       "    <tr>\n",
       "      <th>4</th>\n",
       "      <td>3</td>\n",
       "      <td>male</td>\n",
       "      <td>35.0</td>\n",
       "      <td>0</td>\n",
       "      <td>0</td>\n",
       "      <td>373450</td>\n",
       "      <td>Southampton</td>\n",
       "      <td>0</td>\n",
       "      <td>1912-04-03</td>\n",
       "    </tr>\n",
       "    <tr>\n",
       "      <th>...</th>\n",
       "      <td>...</td>\n",
       "      <td>...</td>\n",
       "      <td>...</td>\n",
       "      <td>...</td>\n",
       "      <td>...</td>\n",
       "      <td>...</td>\n",
       "      <td>...</td>\n",
       "      <td>...</td>\n",
       "      <td>...</td>\n",
       "    </tr>\n",
       "    <tr>\n",
       "      <th>880</th>\n",
       "      <td>2</td>\n",
       "      <td>male</td>\n",
       "      <td>27.0</td>\n",
       "      <td>0</td>\n",
       "      <td>0</td>\n",
       "      <td>211536</td>\n",
       "      <td>Southampton</td>\n",
       "      <td>0</td>\n",
       "      <td>1912-01-29</td>\n",
       "    </tr>\n",
       "    <tr>\n",
       "      <th>881</th>\n",
       "      <td>1</td>\n",
       "      <td>female</td>\n",
       "      <td>19.0</td>\n",
       "      <td>0</td>\n",
       "      <td>0</td>\n",
       "      <td>112053</td>\n",
       "      <td>Southampton</td>\n",
       "      <td>1</td>\n",
       "      <td>1912-03-30</td>\n",
       "    </tr>\n",
       "    <tr>\n",
       "      <th>882</th>\n",
       "      <td>3</td>\n",
       "      <td>female</td>\n",
       "      <td>28.0</td>\n",
       "      <td>1</td>\n",
       "      <td>2</td>\n",
       "      <td>W./C. 6607</td>\n",
       "      <td>Southampton</td>\n",
       "      <td>0</td>\n",
       "      <td>1912-04-07</td>\n",
       "    </tr>\n",
       "    <tr>\n",
       "      <th>883</th>\n",
       "      <td>1</td>\n",
       "      <td>male</td>\n",
       "      <td>26.0</td>\n",
       "      <td>0</td>\n",
       "      <td>0</td>\n",
       "      <td>111369</td>\n",
       "      <td>Cherbourg</td>\n",
       "      <td>1</td>\n",
       "      <td>1912-03-01</td>\n",
       "    </tr>\n",
       "    <tr>\n",
       "      <th>884</th>\n",
       "      <td>3</td>\n",
       "      <td>male</td>\n",
       "      <td>32.0</td>\n",
       "      <td>0</td>\n",
       "      <td>0</td>\n",
       "      <td>370376</td>\n",
       "      <td>Queenstown</td>\n",
       "      <td>0</td>\n",
       "      <td>1912-03-05</td>\n",
       "    </tr>\n",
       "  </tbody>\n",
       "</table>\n",
       "<p>881 rows × 9 columns</p>\n",
       "</div>"
      ],
      "text/plain": [
       "     Pclass  Gender   Age  SibSp  Parch            Ticket     Embarked  \\\n",
       "0         3    male  22.0      1      0         A/5 21171  Southampton   \n",
       "1         1  female  38.0      1      0          PC 17599    Cherbourg   \n",
       "2         3  female  26.0      0      0  STON/O2. 3101282  Southampton   \n",
       "3         1  female  28.0      1      0            113803  Southampton   \n",
       "4         3    male  35.0      0      0            373450  Southampton   \n",
       "..      ...     ...   ...    ...    ...               ...          ...   \n",
       "880       2    male  27.0      0      0            211536  Southampton   \n",
       "881       1  female  19.0      0      0            112053  Southampton   \n",
       "882       3  female  28.0      1      2        W./C. 6607  Southampton   \n",
       "883       1    male  26.0      0      0            111369    Cherbourg   \n",
       "884       3    male  32.0      0      0            370376   Queenstown   \n",
       "\n",
       "     Survived ticket_date  \n",
       "0           0  1912-01-12  \n",
       "1           1  1912-03-29  \n",
       "2           1  1912-02-23  \n",
       "3           1  1912-03-28  \n",
       "4           0  1912-04-03  \n",
       "..        ...         ...  \n",
       "880         0  1912-01-29  \n",
       "881         1  1912-03-30  \n",
       "882         0  1912-04-07  \n",
       "883         1  1912-03-01  \n",
       "884         0  1912-03-05  \n",
       "\n",
       "[881 rows x 9 columns]"
      ]
     },
     "execution_count": 1305,
     "metadata": {},
     "output_type": "execute_result"
    }
   ],
   "source": [
    "data.replace({'S': 'Southampton', 'C': 'Cherbourg', 'Q': 'Queenstown'})"
   ]
  },
  {
   "cell_type": "code",
   "execution_count": 1306,
   "id": "JjEvmgtgzC_0",
   "metadata": {
    "ExecuteTime": {
     "end_time": "2023-12-13T06:23:47.441599Z",
     "start_time": "2023-12-13T06:23:47.414905Z"
    },
    "executionInfo": {
     "elapsed": 3809,
     "status": "aborted",
     "timestamp": 1702351344729,
     "user": {
      "displayName": "방승욱",
      "userId": "03816609317595006072"
     },
     "user_tz": -540
    },
    "id": "JjEvmgtgzC_0"
   },
   "outputs": [
    {
     "data": {
      "text/html": [
       "<div>\n",
       "<style scoped>\n",
       "    .dataframe tbody tr th:only-of-type {\n",
       "        vertical-align: middle;\n",
       "    }\n",
       "\n",
       "    .dataframe tbody tr th {\n",
       "        vertical-align: top;\n",
       "    }\n",
       "\n",
       "    .dataframe thead th {\n",
       "        text-align: right;\n",
       "    }\n",
       "</style>\n",
       "<table border=\"1\" class=\"dataframe\">\n",
       "  <thead>\n",
       "    <tr style=\"text-align: right;\">\n",
       "      <th></th>\n",
       "      <th>Pclass</th>\n",
       "      <th>Gender</th>\n",
       "      <th>Age</th>\n",
       "      <th>SibSp</th>\n",
       "      <th>Parch</th>\n",
       "      <th>Ticket</th>\n",
       "      <th>Embarked</th>\n",
       "      <th>Survived</th>\n",
       "      <th>ticket_date</th>\n",
       "    </tr>\n",
       "  </thead>\n",
       "  <tbody>\n",
       "    <tr>\n",
       "      <th>0</th>\n",
       "      <td>3</td>\n",
       "      <td>male</td>\n",
       "      <td>22.0</td>\n",
       "      <td>1</td>\n",
       "      <td>999</td>\n",
       "      <td>A/5 21171</td>\n",
       "      <td>S</td>\n",
       "      <td>999</td>\n",
       "      <td>1912-01-12</td>\n",
       "    </tr>\n",
       "    <tr>\n",
       "      <th>1</th>\n",
       "      <td>1</td>\n",
       "      <td>female</td>\n",
       "      <td>38.0</td>\n",
       "      <td>1</td>\n",
       "      <td>999</td>\n",
       "      <td>PC 17599</td>\n",
       "      <td>C</td>\n",
       "      <td>1</td>\n",
       "      <td>1912-03-29</td>\n",
       "    </tr>\n",
       "    <tr>\n",
       "      <th>2</th>\n",
       "      <td>3</td>\n",
       "      <td>female</td>\n",
       "      <td>26.0</td>\n",
       "      <td>999</td>\n",
       "      <td>999</td>\n",
       "      <td>STON/O2. 3101282</td>\n",
       "      <td>S</td>\n",
       "      <td>1</td>\n",
       "      <td>1912-02-23</td>\n",
       "    </tr>\n",
       "    <tr>\n",
       "      <th>3</th>\n",
       "      <td>1</td>\n",
       "      <td>female</td>\n",
       "      <td>28.0</td>\n",
       "      <td>1</td>\n",
       "      <td>999</td>\n",
       "      <td>113803</td>\n",
       "      <td>S</td>\n",
       "      <td>1</td>\n",
       "      <td>1912-03-28</td>\n",
       "    </tr>\n",
       "    <tr>\n",
       "      <th>4</th>\n",
       "      <td>3</td>\n",
       "      <td>male</td>\n",
       "      <td>35.0</td>\n",
       "      <td>999</td>\n",
       "      <td>999</td>\n",
       "      <td>373450</td>\n",
       "      <td>S</td>\n",
       "      <td>999</td>\n",
       "      <td>1912-04-03</td>\n",
       "    </tr>\n",
       "    <tr>\n",
       "      <th>...</th>\n",
       "      <td>...</td>\n",
       "      <td>...</td>\n",
       "      <td>...</td>\n",
       "      <td>...</td>\n",
       "      <td>...</td>\n",
       "      <td>...</td>\n",
       "      <td>...</td>\n",
       "      <td>...</td>\n",
       "      <td>...</td>\n",
       "    </tr>\n",
       "    <tr>\n",
       "      <th>880</th>\n",
       "      <td>2</td>\n",
       "      <td>male</td>\n",
       "      <td>27.0</td>\n",
       "      <td>999</td>\n",
       "      <td>999</td>\n",
       "      <td>211536</td>\n",
       "      <td>S</td>\n",
       "      <td>999</td>\n",
       "      <td>1912-01-29</td>\n",
       "    </tr>\n",
       "    <tr>\n",
       "      <th>881</th>\n",
       "      <td>1</td>\n",
       "      <td>female</td>\n",
       "      <td>19.0</td>\n",
       "      <td>999</td>\n",
       "      <td>999</td>\n",
       "      <td>112053</td>\n",
       "      <td>S</td>\n",
       "      <td>1</td>\n",
       "      <td>1912-03-30</td>\n",
       "    </tr>\n",
       "    <tr>\n",
       "      <th>882</th>\n",
       "      <td>3</td>\n",
       "      <td>female</td>\n",
       "      <td>28.0</td>\n",
       "      <td>1</td>\n",
       "      <td>2</td>\n",
       "      <td>W./C. 6607</td>\n",
       "      <td>S</td>\n",
       "      <td>999</td>\n",
       "      <td>1912-04-07</td>\n",
       "    </tr>\n",
       "    <tr>\n",
       "      <th>883</th>\n",
       "      <td>1</td>\n",
       "      <td>male</td>\n",
       "      <td>26.0</td>\n",
       "      <td>999</td>\n",
       "      <td>999</td>\n",
       "      <td>111369</td>\n",
       "      <td>C</td>\n",
       "      <td>1</td>\n",
       "      <td>1912-03-01</td>\n",
       "    </tr>\n",
       "    <tr>\n",
       "      <th>884</th>\n",
       "      <td>3</td>\n",
       "      <td>male</td>\n",
       "      <td>32.0</td>\n",
       "      <td>999</td>\n",
       "      <td>999</td>\n",
       "      <td>370376</td>\n",
       "      <td>Q</td>\n",
       "      <td>999</td>\n",
       "      <td>1912-03-05</td>\n",
       "    </tr>\n",
       "  </tbody>\n",
       "</table>\n",
       "<p>881 rows × 9 columns</p>\n",
       "</div>"
      ],
      "text/plain": [
       "     Pclass  Gender   Age  SibSp  Parch            Ticket Embarked  Survived  \\\n",
       "0         3    male  22.0      1    999         A/5 21171        S       999   \n",
       "1         1  female  38.0      1    999          PC 17599        C         1   \n",
       "2         3  female  26.0    999    999  STON/O2. 3101282        S         1   \n",
       "3         1  female  28.0      1    999            113803        S         1   \n",
       "4         3    male  35.0    999    999            373450        S       999   \n",
       "..      ...     ...   ...    ...    ...               ...      ...       ...   \n",
       "880       2    male  27.0    999    999            211536        S       999   \n",
       "881       1  female  19.0    999    999            112053        S         1   \n",
       "882       3  female  28.0      1      2        W./C. 6607        S       999   \n",
       "883       1    male  26.0    999    999            111369        C         1   \n",
       "884       3    male  32.0    999    999            370376        Q       999   \n",
       "\n",
       "    ticket_date  \n",
       "0    1912-01-12  \n",
       "1    1912-03-29  \n",
       "2    1912-02-23  \n",
       "3    1912-03-28  \n",
       "4    1912-04-03  \n",
       "..          ...  \n",
       "880  1912-01-29  \n",
       "881  1912-03-30  \n",
       "882  1912-04-07  \n",
       "883  1912-03-01  \n",
       "884  1912-03-05  \n",
       "\n",
       "[881 rows x 9 columns]"
      ]
     },
     "execution_count": 1306,
     "metadata": {},
     "output_type": "execute_result"
    }
   ],
   "source": [
    "data.replace({0: 999})"
   ]
  },
  {
   "cell_type": "code",
   "execution_count": 1307,
   "id": "QC1BH8NYzDCS",
   "metadata": {
    "ExecuteTime": {
     "end_time": "2023-12-13T06:23:47.452597Z",
     "start_time": "2023-12-13T06:23:47.443949Z"
    },
    "executionInfo": {
     "elapsed": 3809,
     "status": "aborted",
     "timestamp": 1702351344729,
     "user": {
      "displayName": "방승욱",
      "userId": "03816609317595006072"
     },
     "user_tz": -540
    },
    "id": "QC1BH8NYzDCS"
   },
   "outputs": [
    {
     "data": {
      "text/plain": [
       "0      4\n",
       "1      6\n",
       "2      6\n",
       "3      6\n",
       "4      4\n",
       "      ..\n",
       "880    4\n",
       "881    6\n",
       "882    6\n",
       "883    4\n",
       "884    4\n",
       "Name: Gender, Length: 881, dtype: int64"
      ]
     },
     "execution_count": 1307,
     "metadata": {},
     "output_type": "execute_result"
    }
   ],
   "source": [
    "data['Gender'].map(len)"
   ]
  },
  {
   "cell_type": "code",
   "execution_count": 1308,
   "id": "NMxsxtq7zDFY",
   "metadata": {
    "ExecuteTime": {
     "end_time": "2023-12-13T06:23:47.464570Z",
     "start_time": "2023-12-13T06:23:47.455070Z"
    },
    "executionInfo": {
     "elapsed": 3809,
     "status": "aborted",
     "timestamp": 1702351344729,
     "user": {
      "displayName": "방승욱",
      "userId": "03816609317595006072"
     },
     "user_tz": -540
    },
    "id": "NMxsxtq7zDFY"
   },
   "outputs": [
    {
     "data": {
      "text/plain": [
       "Pclass         881\n",
       "Gender         881\n",
       "Age            881\n",
       "SibSp          881\n",
       "Parch          881\n",
       "Ticket         881\n",
       "Embarked       881\n",
       "Survived       881\n",
       "ticket_date    881\n",
       "dtype: int64"
      ]
     },
     "execution_count": 1308,
     "metadata": {},
     "output_type": "execute_result"
    }
   ],
   "source": [
    "data.apply(len)"
   ]
  },
  {
   "cell_type": "markdown",
   "id": "5gwp2cLTzNKx",
   "metadata": {
    "id": "5gwp2cLTzNKx"
   },
   "source": [
    "# 텍스트 처리 (Text handling)"
   ]
  },
  {
   "cell_type": "code",
   "execution_count": 1309,
   "id": "Bw1i4wqMzDID",
   "metadata": {
    "ExecuteTime": {
     "end_time": "2023-12-13T06:23:47.486561Z",
     "start_time": "2023-12-13T06:23:47.466892Z"
    },
    "executionInfo": {
     "elapsed": 3809,
     "status": "aborted",
     "timestamp": 1702351344730,
     "user": {
      "displayName": "방승욱",
      "userId": "03816609317595006072"
     },
     "user_tz": -540
    },
    "id": "Bw1i4wqMzDID"
   },
   "outputs": [
    {
     "data": {
      "text/html": [
       "<div>\n",
       "<style scoped>\n",
       "    .dataframe tbody tr th:only-of-type {\n",
       "        vertical-align: middle;\n",
       "    }\n",
       "\n",
       "    .dataframe tbody tr th {\n",
       "        vertical-align: top;\n",
       "    }\n",
       "\n",
       "    .dataframe thead th {\n",
       "        text-align: right;\n",
       "    }\n",
       "</style>\n",
       "<table border=\"1\" class=\"dataframe\">\n",
       "  <thead>\n",
       "    <tr style=\"text-align: right;\">\n",
       "      <th></th>\n",
       "      <th>Pclass</th>\n",
       "      <th>Gender</th>\n",
       "      <th>Age</th>\n",
       "      <th>SibSp</th>\n",
       "      <th>Parch</th>\n",
       "      <th>Ticket</th>\n",
       "      <th>Embarked</th>\n",
       "      <th>Survived</th>\n",
       "      <th>ticket_date</th>\n",
       "    </tr>\n",
       "  </thead>\n",
       "  <tbody>\n",
       "    <tr>\n",
       "      <th>0</th>\n",
       "      <td>3</td>\n",
       "      <td>male</td>\n",
       "      <td>22.0</td>\n",
       "      <td>1</td>\n",
       "      <td>0</td>\n",
       "      <td>A/5 21171</td>\n",
       "      <td>S</td>\n",
       "      <td>0</td>\n",
       "      <td>1912-01-12</td>\n",
       "    </tr>\n",
       "    <tr>\n",
       "      <th>1</th>\n",
       "      <td>1</td>\n",
       "      <td>female</td>\n",
       "      <td>38.0</td>\n",
       "      <td>1</td>\n",
       "      <td>0</td>\n",
       "      <td>PC 17599</td>\n",
       "      <td>C</td>\n",
       "      <td>1</td>\n",
       "      <td>1912-03-29</td>\n",
       "    </tr>\n",
       "    <tr>\n",
       "      <th>2</th>\n",
       "      <td>3</td>\n",
       "      <td>female</td>\n",
       "      <td>26.0</td>\n",
       "      <td>0</td>\n",
       "      <td>0</td>\n",
       "      <td>STON/O2. 3101282</td>\n",
       "      <td>S</td>\n",
       "      <td>1</td>\n",
       "      <td>1912-02-23</td>\n",
       "    </tr>\n",
       "    <tr>\n",
       "      <th>3</th>\n",
       "      <td>1</td>\n",
       "      <td>female</td>\n",
       "      <td>28.0</td>\n",
       "      <td>1</td>\n",
       "      <td>0</td>\n",
       "      <td>113803</td>\n",
       "      <td>S</td>\n",
       "      <td>1</td>\n",
       "      <td>1912-03-28</td>\n",
       "    </tr>\n",
       "    <tr>\n",
       "      <th>4</th>\n",
       "      <td>3</td>\n",
       "      <td>male</td>\n",
       "      <td>35.0</td>\n",
       "      <td>0</td>\n",
       "      <td>0</td>\n",
       "      <td>373450</td>\n",
       "      <td>S</td>\n",
       "      <td>0</td>\n",
       "      <td>1912-04-03</td>\n",
       "    </tr>\n",
       "  </tbody>\n",
       "</table>\n",
       "</div>"
      ],
      "text/plain": [
       "   Pclass  Gender   Age  SibSp  Parch            Ticket Embarked  Survived  \\\n",
       "0       3    male  22.0      1      0         A/5 21171        S         0   \n",
       "1       1  female  38.0      1      0          PC 17599        C         1   \n",
       "2       3  female  26.0      0      0  STON/O2. 3101282        S         1   \n",
       "3       1  female  28.0      1      0            113803        S         1   \n",
       "4       3    male  35.0      0      0            373450        S         0   \n",
       "\n",
       "  ticket_date  \n",
       "0  1912-01-12  \n",
       "1  1912-03-29  \n",
       "2  1912-02-23  \n",
       "3  1912-03-28  \n",
       "4  1912-04-03  "
      ]
     },
     "execution_count": 1309,
     "metadata": {},
     "output_type": "execute_result"
    }
   ],
   "source": [
    "data.head()"
   ]
  },
  {
   "cell_type": "code",
   "execution_count": 1310,
   "id": "EMgmmblnzDLB",
   "metadata": {
    "ExecuteTime": {
     "end_time": "2023-12-13T06:23:47.509594Z",
     "start_time": "2023-12-13T06:23:47.490620Z"
    },
    "executionInfo": {
     "elapsed": 3809,
     "status": "aborted",
     "timestamp": 1702351344730,
     "user": {
      "displayName": "방승욱",
      "userId": "03816609317595006072"
     },
     "user_tz": -540
    },
    "id": "EMgmmblnzDLB"
   },
   "outputs": [
    {
     "name": "stdout",
     "output_type": "stream",
     "text": [
      "<class 'pandas.core.frame.DataFrame'>\n",
      "Int64Index: 881 entries, 0 to 884\n",
      "Data columns (total 9 columns):\n",
      " #   Column       Non-Null Count  Dtype  \n",
      "---  ------       --------------  -----  \n",
      " 0   Pclass       881 non-null    int64  \n",
      " 1   Gender       881 non-null    object \n",
      " 2   Age          881 non-null    float64\n",
      " 3   SibSp        881 non-null    int64  \n",
      " 4   Parch        881 non-null    int64  \n",
      " 5   Ticket       881 non-null    object \n",
      " 6   Embarked     881 non-null    object \n",
      " 7   Survived     881 non-null    int64  \n",
      " 8   ticket_date  881 non-null    object \n",
      "dtypes: float64(1), int64(4), object(4)\n",
      "memory usage: 101.1+ KB\n"
     ]
    }
   ],
   "source": [
    "data.info()"
   ]
  },
  {
   "cell_type": "code",
   "execution_count": 1311,
   "id": "3P2B-p-AzDOZ",
   "metadata": {
    "ExecuteTime": {
     "end_time": "2023-12-13T06:23:47.521572Z",
     "start_time": "2023-12-13T06:23:47.513805Z"
    },
    "executionInfo": {
     "elapsed": 3809,
     "status": "aborted",
     "timestamp": 1702351344730,
     "user": {
      "displayName": "방승욱",
      "userId": "03816609317595006072"
     },
     "user_tz": -540
    },
    "id": "3P2B-p-AzDOZ"
   },
   "outputs": [],
   "source": [
    "sample_txt = 'A/5 21171'"
   ]
  },
  {
   "cell_type": "code",
   "execution_count": 1312,
   "id": "oTEggUA_zDRZ",
   "metadata": {
    "ExecuteTime": {
     "end_time": "2023-12-13T06:23:47.529554Z",
     "start_time": "2023-12-13T06:23:47.524381Z"
    },
    "executionInfo": {
     "elapsed": 3809,
     "status": "aborted",
     "timestamp": 1702351344730,
     "user": {
      "displayName": "방승욱",
      "userId": "03816609317595006072"
     },
     "user_tz": -540
    },
    "id": "oTEggUA_zDRZ"
   },
   "outputs": [
    {
     "data": {
      "text/plain": [
       "'A/5 21171'"
      ]
     },
     "execution_count": 1312,
     "metadata": {},
     "output_type": "execute_result"
    }
   ],
   "source": [
    "sample_txt"
   ]
  },
  {
   "cell_type": "code",
   "execution_count": 1313,
   "id": "EmhI8DC9zDT7",
   "metadata": {
    "ExecuteTime": {
     "end_time": "2023-12-13T06:23:47.537586Z",
     "start_time": "2023-12-13T06:23:47.532262Z"
    },
    "executionInfo": {
     "elapsed": 3809,
     "status": "aborted",
     "timestamp": 1702351344730,
     "user": {
      "displayName": "방승욱",
      "userId": "03816609317595006072"
     },
     "user_tz": -540
    },
    "id": "EmhI8DC9zDT7"
   },
   "outputs": [
    {
     "data": {
      "text/plain": [
       "'A/5'"
      ]
     },
     "execution_count": 1313,
     "metadata": {},
     "output_type": "execute_result"
    }
   ],
   "source": [
    "sample_txt[0:3]"
   ]
  },
  {
   "cell_type": "code",
   "execution_count": 1314,
   "id": "H3jz3hRCzDW3",
   "metadata": {
    "ExecuteTime": {
     "end_time": "2023-12-13T06:23:47.548603Z",
     "start_time": "2023-12-13T06:23:47.540826Z"
    },
    "executionInfo": {
     "elapsed": 3809,
     "status": "aborted",
     "timestamp": 1702351344730,
     "user": {
      "displayName": "방승욱",
      "userId": "03816609317595006072"
     },
     "user_tz": -540
    },
    "id": "H3jz3hRCzDW3"
   },
   "outputs": [
    {
     "data": {
      "text/plain": [
       "'A/5'"
      ]
     },
     "execution_count": 1314,
     "metadata": {},
     "output_type": "execute_result"
    }
   ],
   "source": [
    "sample_txt[:3]"
   ]
  },
  {
   "cell_type": "code",
   "execution_count": 1315,
   "id": "cPH7a0l0zWd9",
   "metadata": {
    "ExecuteTime": {
     "end_time": "2023-12-13T06:23:47.556669Z",
     "start_time": "2023-12-13T06:23:47.551109Z"
    },
    "executionInfo": {
     "elapsed": 3808,
     "status": "aborted",
     "timestamp": 1702351344730,
     "user": {
      "displayName": "방승욱",
      "userId": "03816609317595006072"
     },
     "user_tz": -540
    },
    "id": "cPH7a0l0zWd9"
   },
   "outputs": [
    {
     "data": {
      "text/plain": [
       "'21171'"
      ]
     },
     "execution_count": 1315,
     "metadata": {},
     "output_type": "execute_result"
    }
   ],
   "source": [
    "sample_txt[4:11]"
   ]
  },
  {
   "cell_type": "code",
   "execution_count": 1316,
   "id": "BdRL0__ezWg7",
   "metadata": {
    "ExecuteTime": {
     "end_time": "2023-12-13T06:23:47.565650Z",
     "start_time": "2023-12-13T06:23:47.560352Z"
    },
    "executionInfo": {
     "elapsed": 3808,
     "status": "aborted",
     "timestamp": 1702351344730,
     "user": {
      "displayName": "방승욱",
      "userId": "03816609317595006072"
     },
     "user_tz": -540
    },
    "id": "BdRL0__ezWg7"
   },
   "outputs": [
    {
     "data": {
      "text/plain": [
       "'21171'"
      ]
     },
     "execution_count": 1316,
     "metadata": {},
     "output_type": "execute_result"
    }
   ],
   "source": [
    "sample_txt[4:]"
   ]
  },
  {
   "cell_type": "code",
   "execution_count": 1317,
   "id": "0M2whLkHzWjn",
   "metadata": {
    "ExecuteTime": {
     "end_time": "2023-12-13T06:23:47.574567Z",
     "start_time": "2023-12-13T06:23:47.568876Z"
    },
    "executionInfo": {
     "elapsed": 3808,
     "status": "aborted",
     "timestamp": 1702351344730,
     "user": {
      "displayName": "방승욱",
      "userId": "03816609317595006072"
     },
     "user_tz": -540
    },
    "id": "0M2whLkHzWjn"
   },
   "outputs": [
    {
     "data": {
      "text/plain": [
       "'21171'"
      ]
     },
     "execution_count": 1317,
     "metadata": {},
     "output_type": "execute_result"
    }
   ],
   "source": [
    "sample_txt[-5:]"
   ]
  },
  {
   "cell_type": "code",
   "execution_count": 1318,
   "id": "xXu-mSdnzWmg",
   "metadata": {
    "ExecuteTime": {
     "end_time": "2023-12-13T06:23:47.582549Z",
     "start_time": "2023-12-13T06:23:47.577223Z"
    },
    "executionInfo": {
     "elapsed": 3808,
     "status": "aborted",
     "timestamp": 1702351344730,
     "user": {
      "displayName": "방승욱",
      "userId": "03816609317595006072"
     },
     "user_tz": -540
    },
    "id": "xXu-mSdnzWmg"
   },
   "outputs": [
    {
     "data": {
      "text/plain": [
       "'a/5 21171'"
      ]
     },
     "execution_count": 1318,
     "metadata": {},
     "output_type": "execute_result"
    }
   ],
   "source": [
    "sample_txt.lower()"
   ]
  },
  {
   "cell_type": "code",
   "execution_count": 1319,
   "id": "Zvw44TKfzWpP",
   "metadata": {
    "ExecuteTime": {
     "end_time": "2023-12-13T06:23:47.590549Z",
     "start_time": "2023-12-13T06:23:47.585210Z"
    },
    "executionInfo": {
     "elapsed": 3809,
     "status": "aborted",
     "timestamp": 1702351344731,
     "user": {
      "displayName": "방승욱",
      "userId": "03816609317595006072"
     },
     "user_tz": -540
    },
    "id": "Zvw44TKfzWpP"
   },
   "outputs": [
    {
     "data": {
      "text/plain": [
       "'A/5 21171'"
      ]
     },
     "execution_count": 1319,
     "metadata": {},
     "output_type": "execute_result"
    }
   ],
   "source": [
    "sample_txt.upper()"
   ]
  },
  {
   "cell_type": "code",
   "execution_count": 1320,
   "id": "ZA3X_DjAzWsI",
   "metadata": {
    "ExecuteTime": {
     "end_time": "2023-12-13T06:23:47.599582Z",
     "start_time": "2023-12-13T06:23:47.593552Z"
    },
    "executionInfo": {
     "elapsed": 3808,
     "status": "aborted",
     "timestamp": 1702351344731,
     "user": {
      "displayName": "방승욱",
      "userId": "03816609317595006072"
     },
     "user_tz": -540
    },
    "id": "ZA3X_DjAzWsI"
   },
   "outputs": [
    {
     "data": {
      "text/plain": [
       "'A/5 21171'"
      ]
     },
     "execution_count": 1320,
     "metadata": {},
     "output_type": "execute_result"
    }
   ],
   "source": [
    "sample_txt.lower().upper()"
   ]
  },
  {
   "cell_type": "code",
   "execution_count": 1321,
   "id": "gbAkXTMAzWut",
   "metadata": {
    "ExecuteTime": {
     "end_time": "2023-12-13T06:23:47.608548Z",
     "start_time": "2023-12-13T06:23:47.602700Z"
    },
    "executionInfo": {
     "elapsed": 3808,
     "status": "aborted",
     "timestamp": 1702351344731,
     "user": {
      "displayName": "방승욱",
      "userId": "03816609317595006072"
     },
     "user_tz": -540
    },
    "id": "gbAkXTMAzWut"
   },
   "outputs": [
    {
     "data": {
      "text/plain": [
       "['A/5', '21171']"
      ]
     },
     "execution_count": 1321,
     "metadata": {},
     "output_type": "execute_result"
    }
   ],
   "source": [
    "sample_txt.split()"
   ]
  },
  {
   "cell_type": "code",
   "execution_count": 1322,
   "id": "amVBazP9zey8",
   "metadata": {
    "ExecuteTime": {
     "end_time": "2023-12-13T06:23:47.616542Z",
     "start_time": "2023-12-13T06:23:47.611128Z"
    },
    "executionInfo": {
     "elapsed": 3808,
     "status": "aborted",
     "timestamp": 1702351344731,
     "user": {
      "displayName": "방승욱",
      "userId": "03816609317595006072"
     },
     "user_tz": -540
    },
    "id": "amVBazP9zey8"
   },
   "outputs": [
    {
     "data": {
      "text/plain": [
       "['A', '5 21171']"
      ]
     },
     "execution_count": 1322,
     "metadata": {},
     "output_type": "execute_result"
    }
   ],
   "source": [
    "sample_txt.split('/')"
   ]
  },
  {
   "cell_type": "code",
   "execution_count": 1323,
   "id": "jho3NzHVze13",
   "metadata": {
    "ExecuteTime": {
     "end_time": "2023-12-13T06:23:47.626609Z",
     "start_time": "2023-12-13T06:23:47.621254Z"
    },
    "executionInfo": {
     "elapsed": 3808,
     "status": "aborted",
     "timestamp": 1702351344731,
     "user": {
      "displayName": "방승욱",
      "userId": "03816609317595006072"
     },
     "user_tz": -540
    },
    "id": "jho3NzHVze13"
   },
   "outputs": [
    {
     "data": {
      "text/plain": [
       "'21171'"
      ]
     },
     "execution_count": 1323,
     "metadata": {},
     "output_type": "execute_result"
    }
   ],
   "source": [
    "sample_txt.split()[-1]"
   ]
  },
  {
   "cell_type": "code",
   "execution_count": 1324,
   "id": "LJ6LJ6Jdze4z",
   "metadata": {
    "ExecuteTime": {
     "end_time": "2023-12-13T06:23:47.638560Z",
     "start_time": "2023-12-13T06:23:47.634287Z"
    },
    "executionInfo": {
     "elapsed": 3808,
     "status": "aborted",
     "timestamp": 1702351344731,
     "user": {
      "displayName": "방승욱",
      "userId": "03816609317595006072"
     },
     "user_tz": -540
    },
    "id": "LJ6LJ6Jdze4z"
   },
   "outputs": [],
   "source": [
    "new_txt = ' A/5 21171'"
   ]
  },
  {
   "cell_type": "code",
   "execution_count": 1325,
   "id": "ibSR_cmnze7X",
   "metadata": {
    "ExecuteTime": {
     "end_time": "2023-12-13T06:23:47.647537Z",
     "start_time": "2023-12-13T06:23:47.641950Z"
    },
    "executionInfo": {
     "elapsed": 3807,
     "status": "aborted",
     "timestamp": 1702351344731,
     "user": {
      "displayName": "방승욱",
      "userId": "03816609317595006072"
     },
     "user_tz": -540
    },
    "id": "ibSR_cmnze7X"
   },
   "outputs": [
    {
     "data": {
      "text/plain": [
       "' A/5 21171'"
      ]
     },
     "execution_count": 1325,
     "metadata": {},
     "output_type": "execute_result"
    }
   ],
   "source": [
    "new_txt"
   ]
  },
  {
   "cell_type": "code",
   "execution_count": 1326,
   "id": "110R2bw-ze-O",
   "metadata": {
    "ExecuteTime": {
     "end_time": "2023-12-13T06:23:47.656568Z",
     "start_time": "2023-12-13T06:23:47.650485Z"
    },
    "executionInfo": {
     "elapsed": 3808,
     "status": "aborted",
     "timestamp": 1702351344732,
     "user": {
      "displayName": "방승욱",
      "userId": "03816609317595006072"
     },
     "user_tz": -540
    },
    "id": "110R2bw-ze-O"
   },
   "outputs": [
    {
     "data": {
      "text/plain": [
       "'A/5 21171'"
      ]
     },
     "execution_count": 1326,
     "metadata": {},
     "output_type": "execute_result"
    }
   ],
   "source": [
    "new_txt.strip()"
   ]
  },
  {
   "cell_type": "code",
   "execution_count": 1327,
   "id": "kseyqxOazfBI",
   "metadata": {
    "ExecuteTime": {
     "end_time": "2023-12-13T06:23:47.666561Z",
     "start_time": "2023-12-13T06:23:47.659598Z"
    },
    "executionInfo": {
     "elapsed": 3808,
     "status": "aborted",
     "timestamp": 1702351344732,
     "user": {
      "displayName": "방승욱",
      "userId": "03816609317595006072"
     },
     "user_tz": -540
    },
    "id": "kseyqxOazfBI"
   },
   "outputs": [
    {
     "data": {
      "text/plain": [
       "0           A/5 21171\n",
       "1            PC 17599\n",
       "2    STON/O2. 3101282\n",
       "Name: Ticket, dtype: object"
      ]
     },
     "execution_count": 1327,
     "metadata": {},
     "output_type": "execute_result"
    }
   ],
   "source": [
    "data['Ticket'][:3]"
   ]
  },
  {
   "cell_type": "code",
   "execution_count": 1328,
   "id": "0l1hyKKkzfEF",
   "metadata": {
    "ExecuteTime": {
     "end_time": "2023-12-13T06:23:47.687519Z",
     "start_time": "2023-12-13T06:23:47.670670Z"
    },
    "executionInfo": {
     "elapsed": 3808,
     "status": "aborted",
     "timestamp": 1702351344732,
     "user": {
      "displayName": "방승욱",
      "userId": "03816609317595006072"
     },
     "user_tz": -540
    },
    "id": "0l1hyKKkzfEF"
   },
   "outputs": [
    {
     "data": {
      "text/html": [
       "<div>\n",
       "<style scoped>\n",
       "    .dataframe tbody tr th:only-of-type {\n",
       "        vertical-align: middle;\n",
       "    }\n",
       "\n",
       "    .dataframe tbody tr th {\n",
       "        vertical-align: top;\n",
       "    }\n",
       "\n",
       "    .dataframe thead th {\n",
       "        text-align: right;\n",
       "    }\n",
       "</style>\n",
       "<table border=\"1\" class=\"dataframe\">\n",
       "  <thead>\n",
       "    <tr style=\"text-align: right;\">\n",
       "      <th></th>\n",
       "      <th>Pclass</th>\n",
       "      <th>Gender</th>\n",
       "      <th>Age</th>\n",
       "      <th>SibSp</th>\n",
       "      <th>Parch</th>\n",
       "      <th>Ticket</th>\n",
       "      <th>Embarked</th>\n",
       "      <th>Survived</th>\n",
       "      <th>ticket_date</th>\n",
       "    </tr>\n",
       "  </thead>\n",
       "  <tbody>\n",
       "    <tr>\n",
       "      <th>0</th>\n",
       "      <td>3</td>\n",
       "      <td>male</td>\n",
       "      <td>22.0</td>\n",
       "      <td>1</td>\n",
       "      <td>0</td>\n",
       "      <td>A/5 21171</td>\n",
       "      <td>S</td>\n",
       "      <td>0</td>\n",
       "      <td>1912-01-12</td>\n",
       "    </tr>\n",
       "    <tr>\n",
       "      <th>1</th>\n",
       "      <td>1</td>\n",
       "      <td>female</td>\n",
       "      <td>38.0</td>\n",
       "      <td>1</td>\n",
       "      <td>0</td>\n",
       "      <td>PC 17599</td>\n",
       "      <td>C</td>\n",
       "      <td>1</td>\n",
       "      <td>1912-03-29</td>\n",
       "    </tr>\n",
       "    <tr>\n",
       "      <th>2</th>\n",
       "      <td>3</td>\n",
       "      <td>female</td>\n",
       "      <td>26.0</td>\n",
       "      <td>0</td>\n",
       "      <td>0</td>\n",
       "      <td>STON/O2. 3101282</td>\n",
       "      <td>S</td>\n",
       "      <td>1</td>\n",
       "      <td>1912-02-23</td>\n",
       "    </tr>\n",
       "    <tr>\n",
       "      <th>3</th>\n",
       "      <td>1</td>\n",
       "      <td>female</td>\n",
       "      <td>28.0</td>\n",
       "      <td>1</td>\n",
       "      <td>0</td>\n",
       "      <td>113803</td>\n",
       "      <td>S</td>\n",
       "      <td>1</td>\n",
       "      <td>1912-03-28</td>\n",
       "    </tr>\n",
       "    <tr>\n",
       "      <th>4</th>\n",
       "      <td>3</td>\n",
       "      <td>male</td>\n",
       "      <td>35.0</td>\n",
       "      <td>0</td>\n",
       "      <td>0</td>\n",
       "      <td>373450</td>\n",
       "      <td>S</td>\n",
       "      <td>0</td>\n",
       "      <td>1912-04-03</td>\n",
       "    </tr>\n",
       "  </tbody>\n",
       "</table>\n",
       "</div>"
      ],
      "text/plain": [
       "   Pclass  Gender   Age  SibSp  Parch            Ticket Embarked  Survived  \\\n",
       "0       3    male  22.0      1      0         A/5 21171        S         0   \n",
       "1       1  female  38.0      1      0          PC 17599        C         1   \n",
       "2       3  female  26.0      0      0  STON/O2. 3101282        S         1   \n",
       "3       1  female  28.0      1      0            113803        S         1   \n",
       "4       3    male  35.0      0      0            373450        S         0   \n",
       "\n",
       "  ticket_date  \n",
       "0  1912-01-12  \n",
       "1  1912-03-29  \n",
       "2  1912-02-23  \n",
       "3  1912-03-28  \n",
       "4  1912-04-03  "
      ]
     },
     "execution_count": 1328,
     "metadata": {},
     "output_type": "execute_result"
    }
   ],
   "source": [
    "data.head()"
   ]
  },
  {
   "cell_type": "code",
   "execution_count": 1329,
   "id": "wy6_2zSazfG_",
   "metadata": {
    "ExecuteTime": {
     "end_time": "2023-12-13T06:23:47.702530Z",
     "start_time": "2023-12-13T06:23:47.691307Z"
    },
    "executionInfo": {
     "elapsed": 3808,
     "status": "aborted",
     "timestamp": 1702351344732,
     "user": {
      "displayName": "방승욱",
      "userId": "03816609317595006072"
     },
     "user_tz": -540
    },
    "id": "wy6_2zSazfG_"
   },
   "outputs": [
    {
     "data": {
      "text/plain": [
       "0      21171\n",
       "1      17599\n",
       "2      01282\n",
       "3      13803\n",
       "4      73450\n",
       "       ...  \n",
       "880    11536\n",
       "881    12053\n",
       "882     6607\n",
       "883    11369\n",
       "884    70376\n",
       "Name: Ticket, Length: 881, dtype: object"
      ]
     },
     "execution_count": 1329,
     "metadata": {},
     "output_type": "execute_result"
    }
   ],
   "source": [
    "data['Ticket'].str[-5:]"
   ]
  },
  {
   "cell_type": "code",
   "execution_count": 1330,
   "id": "zzoRsPRKzfJv",
   "metadata": {
    "ExecuteTime": {
     "end_time": "2023-12-13T06:23:47.724527Z",
     "start_time": "2023-12-13T06:23:47.706344Z"
    },
    "executionInfo": {
     "elapsed": 3807,
     "status": "aborted",
     "timestamp": 1702351344732,
     "user": {
      "displayName": "방승욱",
      "userId": "03816609317595006072"
     },
     "user_tz": -540
    },
    "id": "zzoRsPRKzfJv"
   },
   "outputs": [
    {
     "data": {
      "text/html": [
       "<div>\n",
       "<style scoped>\n",
       "    .dataframe tbody tr th:only-of-type {\n",
       "        vertical-align: middle;\n",
       "    }\n",
       "\n",
       "    .dataframe tbody tr th {\n",
       "        vertical-align: top;\n",
       "    }\n",
       "\n",
       "    .dataframe thead th {\n",
       "        text-align: right;\n",
       "    }\n",
       "</style>\n",
       "<table border=\"1\" class=\"dataframe\">\n",
       "  <thead>\n",
       "    <tr style=\"text-align: right;\">\n",
       "      <th></th>\n",
       "      <th>0</th>\n",
       "      <th>1</th>\n",
       "      <th>2</th>\n",
       "    </tr>\n",
       "  </thead>\n",
       "  <tbody>\n",
       "    <tr>\n",
       "      <th>0</th>\n",
       "      <td>A/5</td>\n",
       "      <td>21171</td>\n",
       "      <td>None</td>\n",
       "    </tr>\n",
       "    <tr>\n",
       "      <th>1</th>\n",
       "      <td>PC</td>\n",
       "      <td>17599</td>\n",
       "      <td>None</td>\n",
       "    </tr>\n",
       "    <tr>\n",
       "      <th>2</th>\n",
       "      <td>STON/O2.</td>\n",
       "      <td>3101282</td>\n",
       "      <td>None</td>\n",
       "    </tr>\n",
       "    <tr>\n",
       "      <th>3</th>\n",
       "      <td>113803</td>\n",
       "      <td>None</td>\n",
       "      <td>None</td>\n",
       "    </tr>\n",
       "    <tr>\n",
       "      <th>4</th>\n",
       "      <td>373450</td>\n",
       "      <td>None</td>\n",
       "      <td>None</td>\n",
       "    </tr>\n",
       "    <tr>\n",
       "      <th>...</th>\n",
       "      <td>...</td>\n",
       "      <td>...</td>\n",
       "      <td>...</td>\n",
       "    </tr>\n",
       "    <tr>\n",
       "      <th>880</th>\n",
       "      <td>211536</td>\n",
       "      <td>None</td>\n",
       "      <td>None</td>\n",
       "    </tr>\n",
       "    <tr>\n",
       "      <th>881</th>\n",
       "      <td>112053</td>\n",
       "      <td>None</td>\n",
       "      <td>None</td>\n",
       "    </tr>\n",
       "    <tr>\n",
       "      <th>882</th>\n",
       "      <td>W./C.</td>\n",
       "      <td>6607</td>\n",
       "      <td>None</td>\n",
       "    </tr>\n",
       "    <tr>\n",
       "      <th>883</th>\n",
       "      <td>111369</td>\n",
       "      <td>None</td>\n",
       "      <td>None</td>\n",
       "    </tr>\n",
       "    <tr>\n",
       "      <th>884</th>\n",
       "      <td>370376</td>\n",
       "      <td>None</td>\n",
       "      <td>None</td>\n",
       "    </tr>\n",
       "  </tbody>\n",
       "</table>\n",
       "<p>881 rows × 3 columns</p>\n",
       "</div>"
      ],
      "text/plain": [
       "            0        1     2\n",
       "0         A/5    21171  None\n",
       "1          PC    17599  None\n",
       "2    STON/O2.  3101282  None\n",
       "3      113803     None  None\n",
       "4      373450     None  None\n",
       "..        ...      ...   ...\n",
       "880    211536     None  None\n",
       "881    112053     None  None\n",
       "882     W./C.     6607  None\n",
       "883    111369     None  None\n",
       "884    370376     None  None\n",
       "\n",
       "[881 rows x 3 columns]"
      ]
     },
     "execution_count": 1330,
     "metadata": {},
     "output_type": "execute_result"
    }
   ],
   "source": [
    "data['Ticket'].str.split(expand = True)"
   ]
  },
  {
   "cell_type": "code",
   "execution_count": 1331,
   "id": "ws-51Nnvzqcw",
   "metadata": {
    "ExecuteTime": {
     "end_time": "2023-12-13T06:23:47.736579Z",
     "start_time": "2023-12-13T06:23:47.728501Z"
    },
    "executionInfo": {
     "elapsed": 3807,
     "status": "aborted",
     "timestamp": 1702351344732,
     "user": {
      "displayName": "방승욱",
      "userId": "03816609317595006072"
     },
     "user_tz": -540
    },
    "id": "ws-51Nnvzqcw"
   },
   "outputs": [],
   "source": [
    "data['new_ticket'] = data['Ticket'].str.split().apply(lambda x: x[-1])"
   ]
  },
  {
   "cell_type": "code",
   "execution_count": 1332,
   "id": "s-nZmmCczqga",
   "metadata": {
    "ExecuteTime": {
     "end_time": "2023-12-13T06:23:47.767555Z",
     "start_time": "2023-12-13T06:23:47.739914Z"
    },
    "executionInfo": {
     "elapsed": 3807,
     "status": "aborted",
     "timestamp": 1702351344732,
     "user": {
      "displayName": "방승욱",
      "userId": "03816609317595006072"
     },
     "user_tz": -540
    },
    "id": "s-nZmmCczqga"
   },
   "outputs": [
    {
     "data": {
      "text/html": [
       "<div>\n",
       "<style scoped>\n",
       "    .dataframe tbody tr th:only-of-type {\n",
       "        vertical-align: middle;\n",
       "    }\n",
       "\n",
       "    .dataframe tbody tr th {\n",
       "        vertical-align: top;\n",
       "    }\n",
       "\n",
       "    .dataframe thead th {\n",
       "        text-align: right;\n",
       "    }\n",
       "</style>\n",
       "<table border=\"1\" class=\"dataframe\">\n",
       "  <thead>\n",
       "    <tr style=\"text-align: right;\">\n",
       "      <th></th>\n",
       "      <th>Pclass</th>\n",
       "      <th>Gender</th>\n",
       "      <th>Age</th>\n",
       "      <th>SibSp</th>\n",
       "      <th>Parch</th>\n",
       "      <th>Ticket</th>\n",
       "      <th>Embarked</th>\n",
       "      <th>Survived</th>\n",
       "      <th>ticket_date</th>\n",
       "      <th>new_ticket</th>\n",
       "    </tr>\n",
       "  </thead>\n",
       "  <tbody>\n",
       "    <tr>\n",
       "      <th>0</th>\n",
       "      <td>3</td>\n",
       "      <td>male</td>\n",
       "      <td>22.0</td>\n",
       "      <td>1</td>\n",
       "      <td>0</td>\n",
       "      <td>A/5 21171</td>\n",
       "      <td>S</td>\n",
       "      <td>0</td>\n",
       "      <td>1912-01-12</td>\n",
       "      <td>21171</td>\n",
       "    </tr>\n",
       "    <tr>\n",
       "      <th>1</th>\n",
       "      <td>1</td>\n",
       "      <td>female</td>\n",
       "      <td>38.0</td>\n",
       "      <td>1</td>\n",
       "      <td>0</td>\n",
       "      <td>PC 17599</td>\n",
       "      <td>C</td>\n",
       "      <td>1</td>\n",
       "      <td>1912-03-29</td>\n",
       "      <td>17599</td>\n",
       "    </tr>\n",
       "    <tr>\n",
       "      <th>2</th>\n",
       "      <td>3</td>\n",
       "      <td>female</td>\n",
       "      <td>26.0</td>\n",
       "      <td>0</td>\n",
       "      <td>0</td>\n",
       "      <td>STON/O2. 3101282</td>\n",
       "      <td>S</td>\n",
       "      <td>1</td>\n",
       "      <td>1912-02-23</td>\n",
       "      <td>3101282</td>\n",
       "    </tr>\n",
       "    <tr>\n",
       "      <th>3</th>\n",
       "      <td>1</td>\n",
       "      <td>female</td>\n",
       "      <td>28.0</td>\n",
       "      <td>1</td>\n",
       "      <td>0</td>\n",
       "      <td>113803</td>\n",
       "      <td>S</td>\n",
       "      <td>1</td>\n",
       "      <td>1912-03-28</td>\n",
       "      <td>113803</td>\n",
       "    </tr>\n",
       "    <tr>\n",
       "      <th>4</th>\n",
       "      <td>3</td>\n",
       "      <td>male</td>\n",
       "      <td>35.0</td>\n",
       "      <td>0</td>\n",
       "      <td>0</td>\n",
       "      <td>373450</td>\n",
       "      <td>S</td>\n",
       "      <td>0</td>\n",
       "      <td>1912-04-03</td>\n",
       "      <td>373450</td>\n",
       "    </tr>\n",
       "    <tr>\n",
       "      <th>...</th>\n",
       "      <td>...</td>\n",
       "      <td>...</td>\n",
       "      <td>...</td>\n",
       "      <td>...</td>\n",
       "      <td>...</td>\n",
       "      <td>...</td>\n",
       "      <td>...</td>\n",
       "      <td>...</td>\n",
       "      <td>...</td>\n",
       "      <td>...</td>\n",
       "    </tr>\n",
       "    <tr>\n",
       "      <th>880</th>\n",
       "      <td>2</td>\n",
       "      <td>male</td>\n",
       "      <td>27.0</td>\n",
       "      <td>0</td>\n",
       "      <td>0</td>\n",
       "      <td>211536</td>\n",
       "      <td>S</td>\n",
       "      <td>0</td>\n",
       "      <td>1912-01-29</td>\n",
       "      <td>211536</td>\n",
       "    </tr>\n",
       "    <tr>\n",
       "      <th>881</th>\n",
       "      <td>1</td>\n",
       "      <td>female</td>\n",
       "      <td>19.0</td>\n",
       "      <td>0</td>\n",
       "      <td>0</td>\n",
       "      <td>112053</td>\n",
       "      <td>S</td>\n",
       "      <td>1</td>\n",
       "      <td>1912-03-30</td>\n",
       "      <td>112053</td>\n",
       "    </tr>\n",
       "    <tr>\n",
       "      <th>882</th>\n",
       "      <td>3</td>\n",
       "      <td>female</td>\n",
       "      <td>28.0</td>\n",
       "      <td>1</td>\n",
       "      <td>2</td>\n",
       "      <td>W./C. 6607</td>\n",
       "      <td>S</td>\n",
       "      <td>0</td>\n",
       "      <td>1912-04-07</td>\n",
       "      <td>6607</td>\n",
       "    </tr>\n",
       "    <tr>\n",
       "      <th>883</th>\n",
       "      <td>1</td>\n",
       "      <td>male</td>\n",
       "      <td>26.0</td>\n",
       "      <td>0</td>\n",
       "      <td>0</td>\n",
       "      <td>111369</td>\n",
       "      <td>C</td>\n",
       "      <td>1</td>\n",
       "      <td>1912-03-01</td>\n",
       "      <td>111369</td>\n",
       "    </tr>\n",
       "    <tr>\n",
       "      <th>884</th>\n",
       "      <td>3</td>\n",
       "      <td>male</td>\n",
       "      <td>32.0</td>\n",
       "      <td>0</td>\n",
       "      <td>0</td>\n",
       "      <td>370376</td>\n",
       "      <td>Q</td>\n",
       "      <td>0</td>\n",
       "      <td>1912-03-05</td>\n",
       "      <td>370376</td>\n",
       "    </tr>\n",
       "  </tbody>\n",
       "</table>\n",
       "<p>881 rows × 10 columns</p>\n",
       "</div>"
      ],
      "text/plain": [
       "     Pclass  Gender   Age  SibSp  Parch            Ticket Embarked  Survived  \\\n",
       "0         3    male  22.0      1      0         A/5 21171        S         0   \n",
       "1         1  female  38.0      1      0          PC 17599        C         1   \n",
       "2         3  female  26.0      0      0  STON/O2. 3101282        S         1   \n",
       "3         1  female  28.0      1      0            113803        S         1   \n",
       "4         3    male  35.0      0      0            373450        S         0   \n",
       "..      ...     ...   ...    ...    ...               ...      ...       ...   \n",
       "880       2    male  27.0      0      0            211536        S         0   \n",
       "881       1  female  19.0      0      0            112053        S         1   \n",
       "882       3  female  28.0      1      2        W./C. 6607        S         0   \n",
       "883       1    male  26.0      0      0            111369        C         1   \n",
       "884       3    male  32.0      0      0            370376        Q         0   \n",
       "\n",
       "    ticket_date new_ticket  \n",
       "0    1912-01-12      21171  \n",
       "1    1912-03-29      17599  \n",
       "2    1912-02-23    3101282  \n",
       "3    1912-03-28     113803  \n",
       "4    1912-04-03     373450  \n",
       "..          ...        ...  \n",
       "880  1912-01-29     211536  \n",
       "881  1912-03-30     112053  \n",
       "882  1912-04-07       6607  \n",
       "883  1912-03-01     111369  \n",
       "884  1912-03-05     370376  \n",
       "\n",
       "[881 rows x 10 columns]"
      ]
     },
     "execution_count": 1332,
     "metadata": {},
     "output_type": "execute_result"
    }
   ],
   "source": [
    "data"
   ]
  },
  {
   "cell_type": "code",
   "execution_count": 1333,
   "id": "nSlgS3MRzueb",
   "metadata": {
    "ExecuteTime": {
     "end_time": "2023-12-13T06:23:47.780588Z",
     "start_time": "2023-12-13T06:23:47.771886Z"
    },
    "executionInfo": {
     "elapsed": 3807,
     "status": "aborted",
     "timestamp": 1702351344732,
     "user": {
      "displayName": "방승욱",
      "userId": "03816609317595006072"
     },
     "user_tz": -540
    },
    "id": "nSlgS3MRzueb"
   },
   "outputs": [],
   "source": [
    "txt_a = '123'\n",
    "txt_b = 'abc'\n",
    "txt_c = '12a'"
   ]
  },
  {
   "cell_type": "code",
   "execution_count": 1334,
   "id": "hsJYmYZZzqj5",
   "metadata": {
    "ExecuteTime": {
     "end_time": "2023-12-13T06:23:47.793544Z",
     "start_time": "2023-12-13T06:23:47.784912Z"
    },
    "executionInfo": {
     "elapsed": 3807,
     "status": "aborted",
     "timestamp": 1702351344733,
     "user": {
      "displayName": "방승욱",
      "userId": "03816609317595006072"
     },
     "user_tz": -540
    },
    "id": "hsJYmYZZzqj5"
   },
   "outputs": [
    {
     "data": {
      "text/plain": [
       "True"
      ]
     },
     "execution_count": 1334,
     "metadata": {},
     "output_type": "execute_result"
    }
   ],
   "source": [
    "txt_a.isdigit()"
   ]
  },
  {
   "cell_type": "code",
   "execution_count": 1335,
   "id": "arC6a5RPzqmz",
   "metadata": {
    "ExecuteTime": {
     "end_time": "2023-12-13T06:23:47.801649Z",
     "start_time": "2023-12-13T06:23:47.795864Z"
    },
    "executionInfo": {
     "elapsed": 3807,
     "status": "aborted",
     "timestamp": 1702351344733,
     "user": {
      "displayName": "방승욱",
      "userId": "03816609317595006072"
     },
     "user_tz": -540
    },
    "id": "arC6a5RPzqmz"
   },
   "outputs": [
    {
     "data": {
      "text/plain": [
       "False"
      ]
     },
     "execution_count": 1335,
     "metadata": {},
     "output_type": "execute_result"
    }
   ],
   "source": [
    "txt_b.isdigit()"
   ]
  },
  {
   "cell_type": "code",
   "execution_count": 1336,
   "id": "N4fzNofKzqpr",
   "metadata": {
    "ExecuteTime": {
     "end_time": "2023-12-13T06:23:47.810612Z",
     "start_time": "2023-12-13T06:23:47.804643Z"
    },
    "executionInfo": {
     "elapsed": 3807,
     "status": "aborted",
     "timestamp": 1702351344733,
     "user": {
      "displayName": "방승욱",
      "userId": "03816609317595006072"
     },
     "user_tz": -540
    },
    "id": "N4fzNofKzqpr"
   },
   "outputs": [
    {
     "data": {
      "text/plain": [
       "False"
      ]
     },
     "execution_count": 1336,
     "metadata": {},
     "output_type": "execute_result"
    }
   ],
   "source": [
    "txt_c.isdigit()"
   ]
  },
  {
   "cell_type": "code",
   "execution_count": 1337,
   "id": "SMBp_yamzqsi",
   "metadata": {
    "ExecuteTime": {
     "end_time": "2023-12-13T06:23:47.831504Z",
     "start_time": "2023-12-13T06:23:47.813003Z"
    },
    "executionInfo": {
     "elapsed": 3807,
     "status": "aborted",
     "timestamp": 1702351344733,
     "user": {
      "displayName": "방승욱",
      "userId": "03816609317595006072"
     },
     "user_tz": -540
    },
    "id": "SMBp_yamzqsi"
   },
   "outputs": [
    {
     "data": {
      "text/html": [
       "<div>\n",
       "<style scoped>\n",
       "    .dataframe tbody tr th:only-of-type {\n",
       "        vertical-align: middle;\n",
       "    }\n",
       "\n",
       "    .dataframe tbody tr th {\n",
       "        vertical-align: top;\n",
       "    }\n",
       "\n",
       "    .dataframe thead th {\n",
       "        text-align: right;\n",
       "    }\n",
       "</style>\n",
       "<table border=\"1\" class=\"dataframe\">\n",
       "  <thead>\n",
       "    <tr style=\"text-align: right;\">\n",
       "      <th></th>\n",
       "      <th>Pclass</th>\n",
       "      <th>Gender</th>\n",
       "      <th>Age</th>\n",
       "      <th>SibSp</th>\n",
       "      <th>Parch</th>\n",
       "      <th>Ticket</th>\n",
       "      <th>Embarked</th>\n",
       "      <th>Survived</th>\n",
       "      <th>ticket_date</th>\n",
       "      <th>new_ticket</th>\n",
       "    </tr>\n",
       "  </thead>\n",
       "  <tbody>\n",
       "    <tr>\n",
       "      <th>178</th>\n",
       "      <td>3</td>\n",
       "      <td>male</td>\n",
       "      <td>36.0</td>\n",
       "      <td>0</td>\n",
       "      <td>0</td>\n",
       "      <td>LINE</td>\n",
       "      <td>S</td>\n",
       "      <td>0</td>\n",
       "      <td>1912-04-08</td>\n",
       "      <td>LINE</td>\n",
       "    </tr>\n",
       "    <tr>\n",
       "      <th>270</th>\n",
       "      <td>3</td>\n",
       "      <td>male</td>\n",
       "      <td>25.0</td>\n",
       "      <td>0</td>\n",
       "      <td>0</td>\n",
       "      <td>LINE</td>\n",
       "      <td>S</td>\n",
       "      <td>1</td>\n",
       "      <td>1912-04-08</td>\n",
       "      <td>LINE</td>\n",
       "    </tr>\n",
       "    <tr>\n",
       "      <th>301</th>\n",
       "      <td>3</td>\n",
       "      <td>male</td>\n",
       "      <td>19.0</td>\n",
       "      <td>0</td>\n",
       "      <td>0</td>\n",
       "      <td>LINE</td>\n",
       "      <td>S</td>\n",
       "      <td>0</td>\n",
       "      <td>1912-04-08</td>\n",
       "      <td>LINE</td>\n",
       "    </tr>\n",
       "    <tr>\n",
       "      <th>594</th>\n",
       "      <td>3</td>\n",
       "      <td>male</td>\n",
       "      <td>49.0</td>\n",
       "      <td>0</td>\n",
       "      <td>0</td>\n",
       "      <td>LINE</td>\n",
       "      <td>S</td>\n",
       "      <td>0</td>\n",
       "      <td>1912-04-08</td>\n",
       "      <td>LINE</td>\n",
       "    </tr>\n",
       "  </tbody>\n",
       "</table>\n",
       "</div>"
      ],
      "text/plain": [
       "     Pclass Gender   Age  SibSp  Parch Ticket Embarked  Survived ticket_date  \\\n",
       "178       3   male  36.0      0      0   LINE        S         0  1912-04-08   \n",
       "270       3   male  25.0      0      0   LINE        S         1  1912-04-08   \n",
       "301       3   male  19.0      0      0   LINE        S         0  1912-04-08   \n",
       "594       3   male  49.0      0      0   LINE        S         0  1912-04-08   \n",
       "\n",
       "    new_ticket  \n",
       "178       LINE  \n",
       "270       LINE  \n",
       "301       LINE  \n",
       "594       LINE  "
      ]
     },
     "execution_count": 1337,
     "metadata": {},
     "output_type": "execute_result"
    }
   ],
   "source": [
    "data[~data['new_ticket'].str.isdigit()]"
   ]
  },
  {
   "cell_type": "code",
   "execution_count": 1338,
   "id": "lTnQc9a8zqvr",
   "metadata": {
    "ExecuteTime": {
     "end_time": "2023-12-13T06:23:47.839496Z",
     "start_time": "2023-12-13T06:23:47.833602Z"
    },
    "executionInfo": {
     "elapsed": 3807,
     "status": "aborted",
     "timestamp": 1702351344733,
     "user": {
      "displayName": "방승욱",
      "userId": "03816609317595006072"
     },
     "user_tz": -540
    },
    "id": "lTnQc9a8zqvr"
   },
   "outputs": [],
   "source": [
    "data['new_ticket'] = data['new_ticket'].replace({'LINE': '999999'})"
   ]
  },
  {
   "cell_type": "code",
   "execution_count": 1339,
   "id": "H1D85ROCzqyb",
   "metadata": {
    "ExecuteTime": {
     "end_time": "2023-12-13T06:23:47.853533Z",
     "start_time": "2023-12-13T06:23:47.841821Z"
    },
    "executionInfo": {
     "elapsed": 3806,
     "status": "aborted",
     "timestamp": 1702351344733,
     "user": {
      "displayName": "방승욱",
      "userId": "03816609317595006072"
     },
     "user_tz": -540
    },
    "id": "H1D85ROCzqyb"
   },
   "outputs": [
    {
     "data": {
      "text/html": [
       "<div>\n",
       "<style scoped>\n",
       "    .dataframe tbody tr th:only-of-type {\n",
       "        vertical-align: middle;\n",
       "    }\n",
       "\n",
       "    .dataframe tbody tr th {\n",
       "        vertical-align: top;\n",
       "    }\n",
       "\n",
       "    .dataframe thead th {\n",
       "        text-align: right;\n",
       "    }\n",
       "</style>\n",
       "<table border=\"1\" class=\"dataframe\">\n",
       "  <thead>\n",
       "    <tr style=\"text-align: right;\">\n",
       "      <th></th>\n",
       "      <th>Pclass</th>\n",
       "      <th>Gender</th>\n",
       "      <th>Age</th>\n",
       "      <th>SibSp</th>\n",
       "      <th>Parch</th>\n",
       "      <th>Ticket</th>\n",
       "      <th>Embarked</th>\n",
       "      <th>Survived</th>\n",
       "      <th>ticket_date</th>\n",
       "      <th>new_ticket</th>\n",
       "    </tr>\n",
       "  </thead>\n",
       "  <tbody>\n",
       "  </tbody>\n",
       "</table>\n",
       "</div>"
      ],
      "text/plain": [
       "Empty DataFrame\n",
       "Columns: [Pclass, Gender, Age, SibSp, Parch, Ticket, Embarked, Survived, ticket_date, new_ticket]\n",
       "Index: []"
      ]
     },
     "execution_count": 1339,
     "metadata": {},
     "output_type": "execute_result"
    }
   ],
   "source": [
    "data[~data['new_ticket'].str.isdigit()]"
   ]
  },
  {
   "cell_type": "code",
   "execution_count": 1340,
   "id": "2RxtHt9vzq1Y",
   "metadata": {
    "ExecuteTime": {
     "end_time": "2023-12-13T06:23:47.864521Z",
     "start_time": "2023-12-13T06:23:47.856304Z"
    },
    "executionInfo": {
     "elapsed": 3806,
     "status": "aborted",
     "timestamp": 1702351344733,
     "user": {
      "displayName": "방승욱",
      "userId": "03816609317595006072"
     },
     "user_tz": -540
    },
    "id": "2RxtHt9vzq1Y"
   },
   "outputs": [
    {
     "data": {
      "text/plain": [
       "0        21171\n",
       "1        17599\n",
       "2      3101282\n",
       "3       113803\n",
       "4       373450\n",
       "        ...   \n",
       "880     211536\n",
       "881     112053\n",
       "882       6607\n",
       "883     111369\n",
       "884     370376\n",
       "Name: new_ticket, Length: 881, dtype: int64"
      ]
     },
     "execution_count": 1340,
     "metadata": {},
     "output_type": "execute_result"
    }
   ],
   "source": [
    "data['new_ticket'].astype('int')"
   ]
  },
  {
   "cell_type": "code",
   "execution_count": 1341,
   "id": "-kLqJJMuzzfr",
   "metadata": {
    "ExecuteTime": {
     "end_time": "2023-12-13T06:23:47.872477Z",
     "start_time": "2023-12-13T06:23:47.866722Z"
    },
    "executionInfo": {
     "elapsed": 3806,
     "status": "aborted",
     "timestamp": 1702351344733,
     "user": {
      "displayName": "방승욱",
      "userId": "03816609317595006072"
     },
     "user_tz": -540
    },
    "id": "-kLqJJMuzzfr"
   },
   "outputs": [],
   "source": [
    "data['new_ticket'] = pd.to_numeric(data['new_ticket'])"
   ]
  },
  {
   "cell_type": "code",
   "execution_count": 1342,
   "id": "MaOfawwizzi3",
   "metadata": {
    "ExecuteTime": {
     "end_time": "2023-12-13T06:23:47.890612Z",
     "start_time": "2023-12-13T06:23:47.875524Z"
    },
    "executionInfo": {
     "elapsed": 3806,
     "status": "aborted",
     "timestamp": 1702351344733,
     "user": {
      "displayName": "방승욱",
      "userId": "03816609317595006072"
     },
     "user_tz": -540
    },
    "id": "MaOfawwizzi3"
   },
   "outputs": [
    {
     "name": "stdout",
     "output_type": "stream",
     "text": [
      "<class 'pandas.core.frame.DataFrame'>\n",
      "Int64Index: 881 entries, 0 to 884\n",
      "Data columns (total 10 columns):\n",
      " #   Column       Non-Null Count  Dtype  \n",
      "---  ------       --------------  -----  \n",
      " 0   Pclass       881 non-null    int64  \n",
      " 1   Gender       881 non-null    object \n",
      " 2   Age          881 non-null    float64\n",
      " 3   SibSp        881 non-null    int64  \n",
      " 4   Parch        881 non-null    int64  \n",
      " 5   Ticket       881 non-null    object \n",
      " 6   Embarked     881 non-null    object \n",
      " 7   Survived     881 non-null    int64  \n",
      " 8   ticket_date  881 non-null    object \n",
      " 9   new_ticket   881 non-null    int64  \n",
      "dtypes: float64(1), int64(5), object(4)\n",
      "memory usage: 108.0+ KB\n"
     ]
    }
   ],
   "source": [
    "data.info()"
   ]
  },
  {
   "cell_type": "markdown",
   "id": "cHsvPN2Xz8Iq",
   "metadata": {
    "id": "cHsvPN2Xz8Iq"
   },
   "source": [
    "# 날짜 및 시간 데이터 처리 (Datetime)"
   ]
  },
  {
   "cell_type": "code",
   "execution_count": 1343,
   "id": "w8JAeOLxzzl1",
   "metadata": {
    "ExecuteTime": {
     "end_time": "2023-12-13T06:23:47.909238Z",
     "start_time": "2023-12-13T06:23:47.892625Z"
    },
    "executionInfo": {
     "elapsed": 3806,
     "status": "aborted",
     "timestamp": 1702351344733,
     "user": {
      "displayName": "방승욱",
      "userId": "03816609317595006072"
     },
     "user_tz": -540
    },
    "id": "w8JAeOLxzzl1"
   },
   "outputs": [
    {
     "data": {
      "text/html": [
       "<div>\n",
       "<style scoped>\n",
       "    .dataframe tbody tr th:only-of-type {\n",
       "        vertical-align: middle;\n",
       "    }\n",
       "\n",
       "    .dataframe tbody tr th {\n",
       "        vertical-align: top;\n",
       "    }\n",
       "\n",
       "    .dataframe thead th {\n",
       "        text-align: right;\n",
       "    }\n",
       "</style>\n",
       "<table border=\"1\" class=\"dataframe\">\n",
       "  <thead>\n",
       "    <tr style=\"text-align: right;\">\n",
       "      <th></th>\n",
       "      <th>Pclass</th>\n",
       "      <th>Gender</th>\n",
       "      <th>Age</th>\n",
       "      <th>SibSp</th>\n",
       "      <th>Parch</th>\n",
       "      <th>Ticket</th>\n",
       "      <th>Embarked</th>\n",
       "      <th>Survived</th>\n",
       "      <th>ticket_date</th>\n",
       "      <th>new_ticket</th>\n",
       "    </tr>\n",
       "  </thead>\n",
       "  <tbody>\n",
       "    <tr>\n",
       "      <th>0</th>\n",
       "      <td>3</td>\n",
       "      <td>male</td>\n",
       "      <td>22.0</td>\n",
       "      <td>1</td>\n",
       "      <td>0</td>\n",
       "      <td>A/5 21171</td>\n",
       "      <td>S</td>\n",
       "      <td>0</td>\n",
       "      <td>1912-01-12</td>\n",
       "      <td>21171</td>\n",
       "    </tr>\n",
       "    <tr>\n",
       "      <th>1</th>\n",
       "      <td>1</td>\n",
       "      <td>female</td>\n",
       "      <td>38.0</td>\n",
       "      <td>1</td>\n",
       "      <td>0</td>\n",
       "      <td>PC 17599</td>\n",
       "      <td>C</td>\n",
       "      <td>1</td>\n",
       "      <td>1912-03-29</td>\n",
       "      <td>17599</td>\n",
       "    </tr>\n",
       "    <tr>\n",
       "      <th>2</th>\n",
       "      <td>3</td>\n",
       "      <td>female</td>\n",
       "      <td>26.0</td>\n",
       "      <td>0</td>\n",
       "      <td>0</td>\n",
       "      <td>STON/O2. 3101282</td>\n",
       "      <td>S</td>\n",
       "      <td>1</td>\n",
       "      <td>1912-02-23</td>\n",
       "      <td>3101282</td>\n",
       "    </tr>\n",
       "    <tr>\n",
       "      <th>3</th>\n",
       "      <td>1</td>\n",
       "      <td>female</td>\n",
       "      <td>28.0</td>\n",
       "      <td>1</td>\n",
       "      <td>0</td>\n",
       "      <td>113803</td>\n",
       "      <td>S</td>\n",
       "      <td>1</td>\n",
       "      <td>1912-03-28</td>\n",
       "      <td>113803</td>\n",
       "    </tr>\n",
       "    <tr>\n",
       "      <th>4</th>\n",
       "      <td>3</td>\n",
       "      <td>male</td>\n",
       "      <td>35.0</td>\n",
       "      <td>0</td>\n",
       "      <td>0</td>\n",
       "      <td>373450</td>\n",
       "      <td>S</td>\n",
       "      <td>0</td>\n",
       "      <td>1912-04-03</td>\n",
       "      <td>373450</td>\n",
       "    </tr>\n",
       "  </tbody>\n",
       "</table>\n",
       "</div>"
      ],
      "text/plain": [
       "   Pclass  Gender   Age  SibSp  Parch            Ticket Embarked  Survived  \\\n",
       "0       3    male  22.0      1      0         A/5 21171        S         0   \n",
       "1       1  female  38.0      1      0          PC 17599        C         1   \n",
       "2       3  female  26.0      0      0  STON/O2. 3101282        S         1   \n",
       "3       1  female  28.0      1      0            113803        S         1   \n",
       "4       3    male  35.0      0      0            373450        S         0   \n",
       "\n",
       "  ticket_date  new_ticket  \n",
       "0  1912-01-12       21171  \n",
       "1  1912-03-29       17599  \n",
       "2  1912-02-23     3101282  \n",
       "3  1912-03-28      113803  \n",
       "4  1912-04-03      373450  "
      ]
     },
     "execution_count": 1343,
     "metadata": {},
     "output_type": "execute_result"
    }
   ],
   "source": [
    "data.head()"
   ]
  },
  {
   "cell_type": "code",
   "execution_count": 1344,
   "id": "MSTC-ik8zzow",
   "metadata": {
    "ExecuteTime": {
     "end_time": "2023-12-13T06:23:47.918645Z",
     "start_time": "2023-12-13T06:23:47.911675Z"
    },
    "executionInfo": {
     "elapsed": 3,
     "status": "aborted",
     "timestamp": 1702351345448,
     "user": {
      "displayName": "방승욱",
      "userId": "03816609317595006072"
     },
     "user_tz": -540
    },
    "id": "MSTC-ik8zzow"
   },
   "outputs": [],
   "source": [
    "from datetime import datetime"
   ]
  },
  {
   "cell_type": "code",
   "execution_count": 1345,
   "id": "7O7HorF0zzro",
   "metadata": {
    "ExecuteTime": {
     "end_time": "2023-12-13T06:23:47.934506Z",
     "start_time": "2023-12-13T06:23:47.929517Z"
    },
    "executionInfo": {
     "elapsed": 3,
     "status": "aborted",
     "timestamp": 1702351345449,
     "user": {
      "displayName": "방승욱",
      "userId": "03816609317595006072"
     },
     "user_tz": -540
    },
    "id": "7O7HorF0zzro"
   },
   "outputs": [],
   "source": [
    "sample_date = datetime.strptime('2023-01-01', '%Y-%m-%d')"
   ]
  },
  {
   "cell_type": "code",
   "execution_count": 1346,
   "id": "OipNltp3zzwl",
   "metadata": {
    "ExecuteTime": {
     "end_time": "2023-12-13T06:23:47.946493Z",
     "start_time": "2023-12-13T06:23:47.937823Z"
    },
    "executionInfo": {
     "elapsed": 3,
     "status": "aborted",
     "timestamp": 1702351345449,
     "user": {
      "displayName": "방승욱",
      "userId": "03816609317595006072"
     },
     "user_tz": -540
    },
    "id": "OipNltp3zzwl"
   },
   "outputs": [
    {
     "data": {
      "text/plain": [
       "'2023-01-01'"
      ]
     },
     "execution_count": 1346,
     "metadata": {},
     "output_type": "execute_result"
    }
   ],
   "source": [
    "datetime.strftime(sample_date, '%Y-%m-%d')"
   ]
  },
  {
   "cell_type": "code",
   "execution_count": 1347,
   "id": "kN5F6L2l0CFW",
   "metadata": {
    "ExecuteTime": {
     "end_time": "2023-12-13T06:23:47.960489Z",
     "start_time": "2023-12-13T06:23:47.949830Z"
    },
    "executionInfo": {
     "elapsed": 3,
     "status": "aborted",
     "timestamp": 1702351345449,
     "user": {
      "displayName": "방승욱",
      "userId": "03816609317595006072"
     },
     "user_tz": -540
    },
    "id": "kN5F6L2l0CFW"
   },
   "outputs": [
    {
     "data": {
      "text/plain": [
       "0"
      ]
     },
     "execution_count": 1347,
     "metadata": {},
     "output_type": "execute_result"
    }
   ],
   "source": [
    "sample_date.hour"
   ]
  },
  {
   "cell_type": "code",
   "execution_count": 1348,
   "id": "AmehGJDu0CIh",
   "metadata": {
    "ExecuteTime": {
     "end_time": "2023-12-13T06:23:47.967675Z",
     "start_time": "2023-12-13T06:23:47.962824Z"
    },
    "executionInfo": {
     "elapsed": 3,
     "status": "aborted",
     "timestamp": 1702351345449,
     "user": {
      "displayName": "방승욱",
      "userId": "03816609317595006072"
     },
     "user_tz": -540
    },
    "id": "AmehGJDu0CIh"
   },
   "outputs": [],
   "source": [
    "next_date = datetime.strptime('2023-05-05', '%Y-%m-%d')"
   ]
  },
  {
   "cell_type": "code",
   "execution_count": 1349,
   "id": "WCPx-Pll0CLf",
   "metadata": {
    "ExecuteTime": {
     "end_time": "2023-12-13T06:23:47.976495Z",
     "start_time": "2023-12-13T06:23:47.970766Z"
    },
    "executionInfo": {
     "elapsed": 3,
     "status": "aborted",
     "timestamp": 1702351345449,
     "user": {
      "displayName": "방승욱",
      "userId": "03816609317595006072"
     },
     "user_tz": -540
    },
    "id": "WCPx-Pll0CLf"
   },
   "outputs": [
    {
     "data": {
      "text/plain": [
       "datetime.timedelta(days=124)"
      ]
     },
     "execution_count": 1349,
     "metadata": {},
     "output_type": "execute_result"
    }
   ],
   "source": [
    "next_date - sample_date"
   ]
  },
  {
   "cell_type": "code",
   "execution_count": 1350,
   "id": "h6D5tw0I0COb",
   "metadata": {
    "ExecuteTime": {
     "end_time": "2023-12-13T06:23:48.000572Z",
     "start_time": "2023-12-13T06:23:47.979555Z"
    },
    "executionInfo": {
     "elapsed": 3,
     "status": "aborted",
     "timestamp": 1702351345449,
     "user": {
      "displayName": "방승욱",
      "userId": "03816609317595006072"
     },
     "user_tz": -540
    },
    "id": "h6D5tw0I0COb"
   },
   "outputs": [
    {
     "name": "stdout",
     "output_type": "stream",
     "text": [
      "<class 'pandas.core.frame.DataFrame'>\n",
      "Int64Index: 881 entries, 0 to 884\n",
      "Data columns (total 10 columns):\n",
      " #   Column       Non-Null Count  Dtype  \n",
      "---  ------       --------------  -----  \n",
      " 0   Pclass       881 non-null    int64  \n",
      " 1   Gender       881 non-null    object \n",
      " 2   Age          881 non-null    float64\n",
      " 3   SibSp        881 non-null    int64  \n",
      " 4   Parch        881 non-null    int64  \n",
      " 5   Ticket       881 non-null    object \n",
      " 6   Embarked     881 non-null    object \n",
      " 7   Survived     881 non-null    int64  \n",
      " 8   ticket_date  881 non-null    object \n",
      " 9   new_ticket   881 non-null    int64  \n",
      "dtypes: float64(1), int64(5), object(4)\n",
      "memory usage: 108.0+ KB\n"
     ]
    }
   ],
   "source": [
    "data.info()"
   ]
  },
  {
   "cell_type": "code",
   "execution_count": 1351,
   "id": "kQ80xgeF0CRY",
   "metadata": {
    "ExecuteTime": {
     "end_time": "2023-12-13T06:23:48.011516Z",
     "start_time": "2023-12-13T06:23:48.003080Z"
    },
    "executionInfo": {
     "elapsed": 3,
     "status": "aborted",
     "timestamp": 1702351345449,
     "user": {
      "displayName": "방승욱",
      "userId": "03816609317595006072"
     },
     "user_tz": -540
    },
    "id": "kQ80xgeF0CRY"
   },
   "outputs": [],
   "source": [
    "data['ticket_date'] = pd.to_datetime(data['ticket_date'])"
   ]
  },
  {
   "cell_type": "code",
   "execution_count": 1352,
   "id": "VqZGDWEW0CUS",
   "metadata": {
    "ExecuteTime": {
     "end_time": "2023-12-13T06:23:48.037523Z",
     "start_time": "2023-12-13T06:23:48.014624Z"
    },
    "executionInfo": {
     "elapsed": 3,
     "status": "aborted",
     "timestamp": 1702351345449,
     "user": {
      "displayName": "방승욱",
      "userId": "03816609317595006072"
     },
     "user_tz": -540
    },
    "id": "VqZGDWEW0CUS"
   },
   "outputs": [
    {
     "name": "stdout",
     "output_type": "stream",
     "text": [
      "<class 'pandas.core.frame.DataFrame'>\n",
      "Int64Index: 881 entries, 0 to 884\n",
      "Data columns (total 10 columns):\n",
      " #   Column       Non-Null Count  Dtype         \n",
      "---  ------       --------------  -----         \n",
      " 0   Pclass       881 non-null    int64         \n",
      " 1   Gender       881 non-null    object        \n",
      " 2   Age          881 non-null    float64       \n",
      " 3   SibSp        881 non-null    int64         \n",
      " 4   Parch        881 non-null    int64         \n",
      " 5   Ticket       881 non-null    object        \n",
      " 6   Embarked     881 non-null    object        \n",
      " 7   Survived     881 non-null    int64         \n",
      " 8   ticket_date  881 non-null    datetime64[ns]\n",
      " 9   new_ticket   881 non-null    int64         \n",
      "dtypes: datetime64[ns](1), float64(1), int64(5), object(3)\n",
      "memory usage: 108.0+ KB\n"
     ]
    }
   ],
   "source": [
    "data.info()"
   ]
  },
  {
   "cell_type": "code",
   "execution_count": 1353,
   "id": "tiht7fLO0CZg",
   "metadata": {
    "ExecuteTime": {
     "end_time": "2023-12-13T06:23:48.054534Z",
     "start_time": "2023-12-13T06:23:48.042192Z"
    },
    "executionInfo": {
     "elapsed": 3,
     "status": "aborted",
     "timestamp": 1702351345449,
     "user": {
      "displayName": "방승욱",
      "userId": "03816609317595006072"
     },
     "user_tz": -540
    },
    "id": "tiht7fLO0CZg"
   },
   "outputs": [
    {
     "data": {
      "text/plain": [
       "0      12\n",
       "1      29\n",
       "2      23\n",
       "3      28\n",
       "4       3\n",
       "       ..\n",
       "880    29\n",
       "881    30\n",
       "882     7\n",
       "883     1\n",
       "884     5\n",
       "Name: ticket_date, Length: 881, dtype: int64"
      ]
     },
     "execution_count": 1353,
     "metadata": {},
     "output_type": "execute_result"
    }
   ],
   "source": [
    "data['ticket_date'].dt.day"
   ]
  },
  {
   "cell_type": "code",
   "execution_count": 1354,
   "id": "ke8f92Yk0Cy8",
   "metadata": {
    "ExecuteTime": {
     "end_time": "2023-12-13T06:23:48.064482Z",
     "start_time": "2023-12-13T06:23:48.060104Z"
    },
    "executionInfo": {
     "elapsed": 3,
     "status": "aborted",
     "timestamp": 1702351345449,
     "user": {
      "displayName": "방승욱",
      "userId": "03816609317595006072"
     },
     "user_tz": -540
    },
    "id": "ke8f92Yk0Cy8"
   },
   "outputs": [],
   "source": [
    "acc = datetime.strptime('1912-04-15', '%Y-%m-%d')"
   ]
  },
  {
   "cell_type": "code",
   "execution_count": 1355,
   "id": "JyZsrRWd0O-b",
   "metadata": {
    "ExecuteTime": {
     "end_time": "2023-12-13T06:23:48.077494Z",
     "start_time": "2023-12-13T06:23:48.069872Z"
    },
    "executionInfo": {
     "elapsed": 3,
     "status": "aborted",
     "timestamp": 1702351345449,
     "user": {
      "displayName": "방승욱",
      "userId": "03816609317595006072"
     },
     "user_tz": -540
    },
    "id": "JyZsrRWd0O-b"
   },
   "outputs": [],
   "source": [
    "data['buy_before'] = acc - data['ticket_date']"
   ]
  },
  {
   "cell_type": "code",
   "execution_count": 1356,
   "id": "MmZXUNCL0PBv",
   "metadata": {
    "ExecuteTime": {
     "end_time": "2023-12-13T06:23:48.103525Z",
     "start_time": "2023-12-13T06:23:48.082019Z"
    },
    "executionInfo": {
     "elapsed": 3,
     "status": "aborted",
     "timestamp": 1702351345449,
     "user": {
      "displayName": "방승욱",
      "userId": "03816609317595006072"
     },
     "user_tz": -540
    },
    "id": "MmZXUNCL0PBv"
   },
   "outputs": [
    {
     "name": "stdout",
     "output_type": "stream",
     "text": [
      "<class 'pandas.core.frame.DataFrame'>\n",
      "Int64Index: 881 entries, 0 to 884\n",
      "Data columns (total 11 columns):\n",
      " #   Column       Non-Null Count  Dtype          \n",
      "---  ------       --------------  -----          \n",
      " 0   Pclass       881 non-null    int64          \n",
      " 1   Gender       881 non-null    object         \n",
      " 2   Age          881 non-null    float64        \n",
      " 3   SibSp        881 non-null    int64          \n",
      " 4   Parch        881 non-null    int64          \n",
      " 5   Ticket       881 non-null    object         \n",
      " 6   Embarked     881 non-null    object         \n",
      " 7   Survived     881 non-null    int64          \n",
      " 8   ticket_date  881 non-null    datetime64[ns] \n",
      " 9   new_ticket   881 non-null    int64          \n",
      " 10  buy_before   881 non-null    timedelta64[ns]\n",
      "dtypes: datetime64[ns](1), float64(1), int64(5), object(3), timedelta64[ns](1)\n",
      "memory usage: 114.9+ KB\n"
     ]
    }
   ],
   "source": [
    "data.info()"
   ]
  },
  {
   "cell_type": "code",
   "execution_count": 1357,
   "id": "CRKi5kSZ0PEu",
   "metadata": {
    "ExecuteTime": {
     "end_time": "2023-12-13T06:23:48.125497Z",
     "start_time": "2023-12-13T06:23:48.106508Z"
    },
    "executionInfo": {
     "elapsed": 3,
     "status": "aborted",
     "timestamp": 1702351345449,
     "user": {
      "displayName": "방승욱",
      "userId": "03816609317595006072"
     },
     "user_tz": -540
    },
    "id": "CRKi5kSZ0PEu"
   },
   "outputs": [
    {
     "data": {
      "text/html": [
       "<div>\n",
       "<style scoped>\n",
       "    .dataframe tbody tr th:only-of-type {\n",
       "        vertical-align: middle;\n",
       "    }\n",
       "\n",
       "    .dataframe tbody tr th {\n",
       "        vertical-align: top;\n",
       "    }\n",
       "\n",
       "    .dataframe thead th {\n",
       "        text-align: right;\n",
       "    }\n",
       "</style>\n",
       "<table border=\"1\" class=\"dataframe\">\n",
       "  <thead>\n",
       "    <tr style=\"text-align: right;\">\n",
       "      <th></th>\n",
       "      <th>Pclass</th>\n",
       "      <th>Gender</th>\n",
       "      <th>Age</th>\n",
       "      <th>SibSp</th>\n",
       "      <th>Parch</th>\n",
       "      <th>Ticket</th>\n",
       "      <th>Embarked</th>\n",
       "      <th>Survived</th>\n",
       "      <th>ticket_date</th>\n",
       "      <th>new_ticket</th>\n",
       "      <th>buy_before</th>\n",
       "    </tr>\n",
       "  </thead>\n",
       "  <tbody>\n",
       "    <tr>\n",
       "      <th>0</th>\n",
       "      <td>3</td>\n",
       "      <td>male</td>\n",
       "      <td>22.0</td>\n",
       "      <td>1</td>\n",
       "      <td>0</td>\n",
       "      <td>A/5 21171</td>\n",
       "      <td>S</td>\n",
       "      <td>0</td>\n",
       "      <td>1912-01-12</td>\n",
       "      <td>21171</td>\n",
       "      <td>94 days</td>\n",
       "    </tr>\n",
       "    <tr>\n",
       "      <th>1</th>\n",
       "      <td>1</td>\n",
       "      <td>female</td>\n",
       "      <td>38.0</td>\n",
       "      <td>1</td>\n",
       "      <td>0</td>\n",
       "      <td>PC 17599</td>\n",
       "      <td>C</td>\n",
       "      <td>1</td>\n",
       "      <td>1912-03-29</td>\n",
       "      <td>17599</td>\n",
       "      <td>17 days</td>\n",
       "    </tr>\n",
       "    <tr>\n",
       "      <th>2</th>\n",
       "      <td>3</td>\n",
       "      <td>female</td>\n",
       "      <td>26.0</td>\n",
       "      <td>0</td>\n",
       "      <td>0</td>\n",
       "      <td>STON/O2. 3101282</td>\n",
       "      <td>S</td>\n",
       "      <td>1</td>\n",
       "      <td>1912-02-23</td>\n",
       "      <td>3101282</td>\n",
       "      <td>52 days</td>\n",
       "    </tr>\n",
       "    <tr>\n",
       "      <th>3</th>\n",
       "      <td>1</td>\n",
       "      <td>female</td>\n",
       "      <td>28.0</td>\n",
       "      <td>1</td>\n",
       "      <td>0</td>\n",
       "      <td>113803</td>\n",
       "      <td>S</td>\n",
       "      <td>1</td>\n",
       "      <td>1912-03-28</td>\n",
       "      <td>113803</td>\n",
       "      <td>18 days</td>\n",
       "    </tr>\n",
       "    <tr>\n",
       "      <th>4</th>\n",
       "      <td>3</td>\n",
       "      <td>male</td>\n",
       "      <td>35.0</td>\n",
       "      <td>0</td>\n",
       "      <td>0</td>\n",
       "      <td>373450</td>\n",
       "      <td>S</td>\n",
       "      <td>0</td>\n",
       "      <td>1912-04-03</td>\n",
       "      <td>373450</td>\n",
       "      <td>12 days</td>\n",
       "    </tr>\n",
       "  </tbody>\n",
       "</table>\n",
       "</div>"
      ],
      "text/plain": [
       "   Pclass  Gender   Age  SibSp  Parch            Ticket Embarked  Survived  \\\n",
       "0       3    male  22.0      1      0         A/5 21171        S         0   \n",
       "1       1  female  38.0      1      0          PC 17599        C         1   \n",
       "2       3  female  26.0      0      0  STON/O2. 3101282        S         1   \n",
       "3       1  female  28.0      1      0            113803        S         1   \n",
       "4       3    male  35.0      0      0            373450        S         0   \n",
       "\n",
       "  ticket_date  new_ticket buy_before  \n",
       "0  1912-01-12       21171    94 days  \n",
       "1  1912-03-29       17599    17 days  \n",
       "2  1912-02-23     3101282    52 days  \n",
       "3  1912-03-28      113803    18 days  \n",
       "4  1912-04-03      373450    12 days  "
      ]
     },
     "execution_count": 1357,
     "metadata": {},
     "output_type": "execute_result"
    }
   ],
   "source": [
    "data.head()"
   ]
  },
  {
   "cell_type": "code",
   "execution_count": 1358,
   "id": "NsjY5yBf0PIH",
   "metadata": {
    "ExecuteTime": {
     "end_time": "2023-12-13T06:23:48.135474Z",
     "start_time": "2023-12-13T06:23:48.128708Z"
    },
    "executionInfo": {
     "elapsed": 3,
     "status": "aborted",
     "timestamp": 1702351345449,
     "user": {
      "displayName": "방승욱",
      "userId": "03816609317595006072"
     },
     "user_tz": -540
    },
    "id": "NsjY5yBf0PIH"
   },
   "outputs": [],
   "source": [
    "data['buy_before'] = data['buy_before'].dt.days"
   ]
  },
  {
   "cell_type": "code",
   "execution_count": 1359,
   "id": "f_Dm_Jb20PLK",
   "metadata": {
    "ExecuteTime": {
     "end_time": "2023-12-13T06:23:48.155470Z",
     "start_time": "2023-12-13T06:23:48.138159Z"
    },
    "executionInfo": {
     "elapsed": 3,
     "status": "aborted",
     "timestamp": 1702351345449,
     "user": {
      "displayName": "방승욱",
      "userId": "03816609317595006072"
     },
     "user_tz": -540
    },
    "id": "f_Dm_Jb20PLK"
   },
   "outputs": [
    {
     "name": "stdout",
     "output_type": "stream",
     "text": [
      "<class 'pandas.core.frame.DataFrame'>\n",
      "Int64Index: 881 entries, 0 to 884\n",
      "Data columns (total 11 columns):\n",
      " #   Column       Non-Null Count  Dtype         \n",
      "---  ------       --------------  -----         \n",
      " 0   Pclass       881 non-null    int64         \n",
      " 1   Gender       881 non-null    object        \n",
      " 2   Age          881 non-null    float64       \n",
      " 3   SibSp        881 non-null    int64         \n",
      " 4   Parch        881 non-null    int64         \n",
      " 5   Ticket       881 non-null    object        \n",
      " 6   Embarked     881 non-null    object        \n",
      " 7   Survived     881 non-null    int64         \n",
      " 8   ticket_date  881 non-null    datetime64[ns]\n",
      " 9   new_ticket   881 non-null    int64         \n",
      " 10  buy_before   881 non-null    int64         \n",
      "dtypes: datetime64[ns](1), float64(1), int64(6), object(3)\n",
      "memory usage: 114.9+ KB\n"
     ]
    }
   ],
   "source": [
    "data.info()"
   ]
  },
  {
   "cell_type": "code",
   "execution_count": 1360,
   "id": "pIgUkB2a0POI",
   "metadata": {
    "ExecuteTime": {
     "end_time": "2023-12-13T06:23:48.166480Z",
     "start_time": "2023-12-13T06:23:48.158105Z"
    },
    "executionInfo": {
     "elapsed": 4,
     "status": "aborted",
     "timestamp": 1702351345450,
     "user": {
      "displayName": "방승욱",
      "userId": "03816609317595006072"
     },
     "user_tz": -540
    },
    "id": "pIgUkB2a0POI"
   },
   "outputs": [
    {
     "data": {
      "text/plain": [
       "0      104\n",
       "1       27\n",
       "2       62\n",
       "3       28\n",
       "4       22\n",
       "      ... \n",
       "880     87\n",
       "881     26\n",
       "882     18\n",
       "883     55\n",
       "884     51\n",
       "Name: buy_before, Length: 881, dtype: int64"
      ]
     },
     "execution_count": 1360,
     "metadata": {},
     "output_type": "execute_result"
    }
   ],
   "source": [
    "data['buy_before'] + 10"
   ]
  }
 ],
 "metadata": {
  "colab": {
   "provenance": []
  },
  "kernelspec": {
   "display_name": "Python 3",
   "language": "python",
   "name": "python3"
  },
  "language_info": {
   "codemirror_mode": {
    "name": "ipython",
    "version": 3
   },
   "file_extension": ".py",
   "mimetype": "text/x-python",
   "name": "python",
   "nbconvert_exporter": "python",
   "pygments_lexer": "ipython3",
   "version": "3.8.10"
  },
  "toc": {
   "base_numbering": 1,
   "nav_menu": {},
   "number_sections": false,
   "sideBar": true,
   "skip_h1_title": false,
   "title_cell": "Table of Contents",
   "title_sidebar": "Contents",
   "toc_cell": false,
   "toc_position": {
    "height": "calc(100% - 180px)",
    "left": "10px",
    "top": "150px",
    "width": "321px"
   },
   "toc_section_display": true,
   "toc_window_display": true
  }
 },
 "nbformat": 4,
 "nbformat_minor": 5
}
