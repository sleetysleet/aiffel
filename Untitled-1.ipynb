{
 "cells": [
  {
   "cell_type": "code",
   "execution_count": null,
   "id": "56dc4fdb",
   "metadata": {},
   "outputs": [],
   "source": [
    "import pandas as pd\n",
    "import numpy as np\n",
    "import seaborn as sns"
   ]
  },
  {
   "cell_type": "code",
   "execution_count": null,
   "id": "abcfe946",
   "metadata": {},
   "outputs": [],
   "source": [
    "dating_df = pd.read_csv('/Users/choi/Desktop/programming/dating.csv')"
   ]
  },
  {
   "cell_type": "code",
   "execution_count": null,
   "id": "ec7e5221",
   "metadata": {},
   "outputs": [],
   "source": [
    "pd.set_option('display.max_columns', 50)"
   ]
  },
  {
   "cell_type": "code",
   "execution_count": null,
   "id": "0ed15685",
   "metadata": {},
   "outputs": [],
   "source": [
    "dating_df.head()"
   ]
  },
  {
   "cell_type": "code",
   "execution_count": null,
   "id": "5b19c6a4",
   "metadata": {},
   "outputs": [],
   "source": [
    "dating_df.describe()"
   ]
  },
  {
   "cell_type": "markdown",
   "id": "25d82e65",
   "metadata": {},
   "source": [
    "### 컬럼 이름 변경"
   ]
  },
  {
   "cell_type": "code",
   "execution_count": null,
   "id": "83cc3a65",
   "metadata": {},
   "outputs": [],
   "source": [
    "dating_df.columns"
   ]
  },
  {
   "cell_type": "code",
   "execution_count": null,
   "id": "c65d25a1",
   "metadata": {},
   "outputs": [],
   "source": [
    "'string'.startswith('b')  "
   ]
  },
  {
   "cell_type": "code",
   "execution_count": null,
   "id": "801fbba1",
   "metadata": {},
   "outputs": [],
   "source": [
    "'string'.endswith('g')"
   ]
  },
  {
   "cell_type": "code",
   "execution_count": null,
   "id": "0519e627",
   "metadata": {},
   "outputs": [],
   "source": [
    "'string'.replace('s', 'a')"
   ]
  },
  {
   "cell_type": "code",
   "execution_count": null,
   "id": "66dbdbe6",
   "metadata": {},
   "outputs": [],
   "source": [
    "new_cols = []\n",
    "\n",
    "for i in dating_df.columns: \n",
    "    if i.startswith('pref_o'): \n",
    "        i = i.replace('pref_o_', 'o_important')\n",
    "    elif i.endswith('_o'):\n",
    "        i = 'o_score_' + i.replace('_o', '')\n",
    "    elif i.endswith('_important'): \n",
    "        i = 'i_important_' + i.replace('_important', '')\n",
    "    elif i.endswith('_partner'): \n",
    "        i = 'i_score_' + i.replace('_partner', '')\n",
    "    elif i.startswith('o_important'):\n",
    "        i = i.replace('o_important', 'o_important_')\n",
    "    new_cols.append(i)"
   ]
  },
  {
   "cell_type": "code",
   "execution_count": null,
   "id": "5eccd05d",
   "metadata": {},
   "outputs": [],
   "source": [
    "len(new_cols)"
   ]
  },
  {
   "cell_type": "code",
   "execution_count": null,
   "id": "0e7c3a4f",
   "metadata": {},
   "outputs": [],
   "source": [
    "dating_df.columns = new_cols"
   ]
  },
  {
   "cell_type": "code",
   "execution_count": null,
   "id": "1046da95",
   "metadata": {},
   "outputs": [],
   "source": [
    "dating_df = dating_df.rename({'o_score_age' :'age_o', 'o_score_race' : 'race_o'}, axis = 1)"
   ]
  },
  {
   "cell_type": "code",
   "execution_count": null,
   "id": "6e96c526",
   "metadata": {},
   "outputs": [],
   "source": [
    "'hello'.replace('l', 'x')"
   ]
  },
  {
   "cell_type": "code",
   "execution_count": null,
   "id": "2376e44e",
   "metadata": {},
   "outputs": [],
   "source": [
    "dating_df.head()"
   ]
  },
  {
   "cell_type": "markdown",
   "id": "6d403ba6",
   "metadata": {},
   "source": [
    "### 결측치 처리"
   ]
  },
  {
   "cell_type": "code",
   "execution_count": 145,
   "id": "a303f708",
   "metadata": {},
   "outputs": [
    {
     "data": {
      "text/plain": [
       "gender                           0.0\n",
       "age                              0.0\n",
       "age_o                            0.0\n",
       "race                             0.0\n",
       "race_o                           0.0\n",
       "importance_same_race             0.0\n",
       "importance_same_religion         0.0\n",
       "o_important__attractive          0.0\n",
       "o_important__sincere             0.0\n",
       "o_important__intelligence        0.0\n",
       "o_important__funny               0.0\n",
       "o_important__ambitious           0.0\n",
       "o_important__shared_interests    0.0\n",
       "o_score_attractive               0.0\n",
       "o_score_sincere                  0.0\n",
       "o_score_intelligence             0.0\n",
       "o_score_funny                    0.0\n",
       "o_score_ambitous                 0.0\n",
       "o_score_shared_interests         0.0\n",
       "i_important_attractive           0.0\n",
       "i_important_sincere              0.0\n",
       "i_important_intellicence         0.0\n",
       "i_important_funny                0.0\n",
       "i_important_ambtition            0.0\n",
       "i_important_shared_interests     0.0\n",
       "i_score_attractive               0.0\n",
       "i_score_sincere                  0.0\n",
       "i_score_intelligence             0.0\n",
       "i_score_funny                    0.0\n",
       "i_score_ambition                 0.0\n",
       "i_score_shared_interests         0.0\n",
       "interests_correlate              0.0\n",
       "expected_happy_with_sd_people    0.0\n",
       "expected_num_interested_in_me    0.0\n",
       "like                             0.0\n",
       "guess_prob_liked                 0.0\n",
       "match                            0.0\n",
       "age_gap                          0.0\n",
       "dtype: float64"
      ]
     },
     "execution_count": 145,
     "metadata": {},
     "output_type": "execute_result"
    }
   ],
   "source": [
    "dating_df.isna().mean()"
   ]
  },
  {
   "cell_type": "code",
   "execution_count": 148,
   "id": "81e0ac95",
   "metadata": {},
   "outputs": [
    {
     "data": {
      "text/html": [
       "<div>\n",
       "<style scoped>\n",
       "    .dataframe tbody tr th:only-of-type {\n",
       "        vertical-align: middle;\n",
       "    }\n",
       "\n",
       "    .dataframe tbody tr th {\n",
       "        vertical-align: top;\n",
       "    }\n",
       "\n",
       "    .dataframe thead th {\n",
       "        text-align: right;\n",
       "    }\n",
       "</style>\n",
       "<table border=\"1\" class=\"dataframe\">\n",
       "  <thead>\n",
       "    <tr style=\"text-align: right;\">\n",
       "      <th></th>\n",
       "      <th>gender</th>\n",
       "      <th>age</th>\n",
       "      <th>age_o</th>\n",
       "      <th>race</th>\n",
       "      <th>race_o</th>\n",
       "      <th>importance_same_race</th>\n",
       "      <th>importance_same_religion</th>\n",
       "      <th>o_important__attractive</th>\n",
       "      <th>o_important__sincere</th>\n",
       "      <th>o_important__intelligence</th>\n",
       "      <th>o_important__funny</th>\n",
       "      <th>o_important__ambitious</th>\n",
       "      <th>o_important__shared_interests</th>\n",
       "      <th>o_score_attractive</th>\n",
       "      <th>o_score_sincere</th>\n",
       "      <th>o_score_intelligence</th>\n",
       "      <th>o_score_funny</th>\n",
       "      <th>o_score_ambitous</th>\n",
       "      <th>o_score_shared_interests</th>\n",
       "      <th>i_important_attractive</th>\n",
       "      <th>i_important_sincere</th>\n",
       "      <th>i_important_intellicence</th>\n",
       "      <th>i_important_funny</th>\n",
       "      <th>i_important_ambtition</th>\n",
       "      <th>i_important_shared_interests</th>\n",
       "      <th>i_score_attractive</th>\n",
       "      <th>i_score_sincere</th>\n",
       "      <th>i_score_intelligence</th>\n",
       "      <th>i_score_funny</th>\n",
       "      <th>i_score_ambition</th>\n",
       "      <th>i_score_shared_interests</th>\n",
       "      <th>interests_correlate</th>\n",
       "      <th>expected_happy_with_sd_people</th>\n",
       "      <th>expected_num_interested_in_me</th>\n",
       "      <th>like</th>\n",
       "      <th>guess_prob_liked</th>\n",
       "      <th>match</th>\n",
       "      <th>age_gap</th>\n",
       "    </tr>\n",
       "  </thead>\n",
       "  <tbody>\n",
       "  </tbody>\n",
       "</table>\n",
       "</div>"
      ],
      "text/plain": [
       "Empty DataFrame\n",
       "Columns: [gender, age, age_o, race, race_o, importance_same_race, importance_same_religion, o_important__attractive, o_important__sincere, o_important__intelligence, o_important__funny, o_important__ambitious, o_important__shared_interests, o_score_attractive, o_score_sincere, o_score_intelligence, o_score_funny, o_score_ambitous, o_score_shared_interests, i_important_attractive, i_important_sincere, i_important_intellicence, i_important_funny, i_important_ambtition, i_important_shared_interests, i_score_attractive, i_score_sincere, i_score_intelligence, i_score_funny, i_score_ambition, i_score_shared_interests, interests_correlate, expected_happy_with_sd_people, expected_num_interested_in_me, like, guess_prob_liked, match, age_gap]\n",
       "Index: []"
      ]
     },
     "execution_count": 148,
     "metadata": {},
     "output_type": "execute_result"
    }
   ],
   "source": [
    "dating_df[dating_df['o_important__attractive'].isna()]"
   ]
  },
  {
   "cell_type": "code",
   "execution_count": 144,
   "id": "b2526095",
   "metadata": {},
   "outputs": [],
   "source": [
    "drop_cols = []\n",
    "\n",
    "for i in dating_df.columns: \n",
    "    if i.startswith('o_important'):\n",
    "        drop_cols.append(i)\n",
    "    elif i.startswith('i_important'):\n",
    "        drop_cols.append(i)"
   ]
  },
  {
   "cell_type": "code",
   "execution_count": null,
   "id": "1c801d99",
   "metadata": {},
   "outputs": [],
   "source": [
    "drop_cols"
   ]
  },
  {
   "cell_type": "code",
   "execution_count": null,
   "id": "dc7169eb",
   "metadata": {},
   "outputs": [],
   "source": [
    "dating_df = dating_df.dropna(subset = drop_cols)"
   ]
  },
  {
   "cell_type": "code",
   "execution_count": null,
   "id": "1b220dec",
   "metadata": {},
   "outputs": [],
   "source": [
    "dating_df.isna().mean()"
   ]
  },
  {
   "cell_type": "code",
   "execution_count": null,
   "id": "9cffce19",
   "metadata": {},
   "outputs": [],
   "source": [
    "dating_df = dating_df.fillna(-99)"
   ]
  },
  {
   "cell_type": "markdown",
   "id": "e29ba871",
   "metadata": {},
   "source": [
    "### 이상치 처리"
   ]
  },
  {
   "cell_type": "code",
   "execution_count": null,
   "id": "8bd7ca5b",
   "metadata": {},
   "outputs": [],
   "source": [
    "dating_df.describe()"
   ]
  },
  {
   "cell_type": "code",
   "execution_count": null,
   "id": "0e3df7fe",
   "metadata": {},
   "outputs": [],
   "source": [
    "dating_df['o_score_attractive'].sort_values()"
   ]
  },
  {
   "cell_type": "code",
   "execution_count": null,
   "id": "9ff8d183",
   "metadata": {},
   "outputs": [],
   "source": [
    "dating_df['o_score_funny'].sort_values()"
   ]
  },
  {
   "cell_type": "code",
   "execution_count": null,
   "id": "3da4a706",
   "metadata": {},
   "outputs": [],
   "source": [
    "dating_df['o_score_attractive'] = dating_df['o_score_attractive'].apply(lambda x: 10 if x > 10 else x)"
   ]
  },
  {
   "cell_type": "code",
   "execution_count": null,
   "id": "7144be04",
   "metadata": {},
   "outputs": [],
   "source": [
    "dating_df['o_score_attractive'].max()"
   ]
  },
  {
   "cell_type": "code",
   "execution_count": null,
   "id": "4d12ec00",
   "metadata": {},
   "outputs": [],
   "source": [
    "dating_df['o_score_attractive'] = dating_df['o_score_attractive'].apply(lambda x: 10 if x > 10 else x) = dating_df['o_score_funny'].apply(lambda x: 10 if x > 10 else x)"
   ]
  },
  {
   "cell_type": "code",
   "execution_count": null,
   "id": "c5459ecf",
   "metadata": {},
   "outputs": [],
   "source": [
    "dating_df['o_score_funny'].max()"
   ]
  },
  {
   "cell_type": "code",
   "execution_count": null,
   "id": "185713c8",
   "metadata": {},
   "outputs": [],
   "source": [
    "o_imp = []\n",
    "\n",
    "for i in dating_df.columns: \n",
    "    if i.startswith('o_important'):\n",
    "        o_imp.append(i)\n"
   ]
  },
  {
   "cell_type": "code",
   "execution_count": null,
   "id": "1bca51e5",
   "metadata": {},
   "outputs": [],
   "source": [
    "o_imp"
   ]
  },
  {
   "cell_type": "code",
   "execution_count": null,
   "id": "20c9da03",
   "metadata": {},
   "outputs": [],
   "source": [
    "dating_df['o_imp_sum'] = dating_df[o_imp].sum(axis = 1)"
   ]
  },
  {
   "cell_type": "code",
   "execution_count": null,
   "id": "09b9f21a",
   "metadata": {},
   "outputs": [],
   "source": [
    "i_imp = []\n",
    "\n",
    "for i in dating_df.columns: \n",
    "    if i.startswith('i_important'):\n",
    "        i_imp.append(i)"
   ]
  },
  {
   "cell_type": "code",
   "execution_count": null,
   "id": "fc07de4e",
   "metadata": {},
   "outputs": [],
   "source": [
    "i_imp"
   ]
  },
  {
   "cell_type": "code",
   "execution_count": null,
   "id": "647a2a2c",
   "metadata": {},
   "outputs": [],
   "source": [
    "dating_df['i_imp_sum'] = dating_df[i_imp].sum(axis = 1)"
   ]
  },
  {
   "cell_type": "code",
   "execution_count": null,
   "id": "51285346",
   "metadata": {},
   "outputs": [],
   "source": [
    "dating_df.head()"
   ]
  },
  {
   "cell_type": "code",
   "execution_count": null,
   "id": "39307718",
   "metadata": {},
   "outputs": [],
   "source": [
    "dating_df[dating_df['o_imp_sum'] != 100]"
   ]
  },
  {
   "cell_type": "code",
   "execution_count": null,
   "id": "948a867a",
   "metadata": {},
   "outputs": [],
   "source": [
    "dating_df[o_imp] = dating_df.apply(lambda x : 100 / x['o_imp_sum'] * x[o_imp], axis = 1)"
   ]
  },
  {
   "cell_type": "code",
   "execution_count": null,
   "id": "bac6d5f1",
   "metadata": {},
   "outputs": [],
   "source": [
    "dating_df[o_imp].sum(axis = 1)"
   ]
  },
  {
   "cell_type": "code",
   "execution_count": null,
   "id": "2ccf3c4d",
   "metadata": {},
   "outputs": [],
   "source": [
    "dating_df[i_imp] = dating_df.apply(lambda x : 100 / x['i_imp_sum'] * x[i_imp], axis = 1)"
   ]
  },
  {
   "cell_type": "code",
   "execution_count": null,
   "id": "3cafffc7",
   "metadata": {},
   "outputs": [],
   "source": [
    "dating_df.drop(['o_imp_sum', 'i_imp_sum'], axis = 1, inplace = True)"
   ]
  },
  {
   "cell_type": "code",
   "execution_count": null,
   "id": "6376ef84",
   "metadata": {},
   "outputs": [],
   "source": [
    "dating_df.head()"
   ]
  },
  {
   "cell_type": "code",
   "execution_count": null,
   "id": "188bd80a",
   "metadata": {},
   "outputs": [],
   "source": []
  },
  {
   "cell_type": "markdown",
   "id": "0e099ee9",
   "metadata": {},
   "source": [
    "### AGE"
   ]
  },
  {
   "cell_type": "code",
   "execution_count": 149,
   "id": "724ea0d9",
   "metadata": {},
   "outputs": [],
   "source": [
    "def age_func(x): \n",
    "    if x['age'] == -99:\n",
    "        return -99\n",
    "    elif x['age_o'] == -99:\n",
    "        return -99\n",
    "    # else:\n",
    "    #     x['age'] - x['age_o']\n",
    "    elif x['gender'] == 'female':\n",
    "        return x['age_o'] - x['age']\n",
    "    else:\n",
    "        return x['age'] - x['age_o']\n"
   ]
  },
  {
   "cell_type": "code",
   "execution_count": 150,
   "id": "d07607dc",
   "metadata": {},
   "outputs": [],
   "source": [
    "dating_df['age_gap'] = dating_df.apply(age_func, axis = 1)"
   ]
  },
  {
   "cell_type": "code",
   "execution_count": 151,
   "id": "bd9b133a",
   "metadata": {},
   "outputs": [
    {
     "data": {
      "text/plain": [
       "0       6.0\n",
       "1       1.0\n",
       "2       1.0\n",
       "3       2.0\n",
       "4       3.0\n",
       "       ... \n",
       "8372    1.0\n",
       "8373   -1.0\n",
       "8374    1.0\n",
       "8376    3.0\n",
       "8377    3.0\n",
       "Name: age_gap, Length: 8130, dtype: float64"
      ]
     },
     "execution_count": 151,
     "metadata": {},
     "output_type": "execute_result"
    }
   ],
   "source": [
    "dating_df['age_gap']"
   ]
  },
  {
   "cell_type": "code",
   "execution_count": null,
   "id": "0992d5b0",
   "metadata": {},
   "outputs": [],
   "source": []
  }
 ],
 "metadata": {
  "kernelspec": {
   "display_name": "base",
   "language": "python",
   "name": "python3"
  },
  "language_info": {
   "codemirror_mode": {
    "name": "ipython",
    "version": 3
   },
   "file_extension": ".py",
   "mimetype": "text/x-python",
   "name": "python",
   "nbconvert_exporter": "python",
   "pygments_lexer": "ipython3",
   "version": "3.12.7"
  }
 },
 "nbformat": 4,
 "nbformat_minor": 5
}
